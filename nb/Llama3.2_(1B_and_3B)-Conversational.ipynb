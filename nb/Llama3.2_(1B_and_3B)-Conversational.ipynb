{
  "cells": [
    {
      "cell_type": "markdown",
      "metadata": {
        "id": "qTt-C5gKQkw7"
      },
      "source": [
        "To run this, press \"*Runtime*\" and press \"*Run all*\" on a **free** Tesla T4 Google Colab instance!\n",
        "<div class=\"align-center\">\n",
        "<a href=\"https://unsloth.ai/\"><img src=\"https://github.com/unslothai/unsloth/raw/main/images/unsloth%20new%20logo.png\" width=\"115\"></a>\n",
        "<a href=\"https://discord.gg/unsloth\"><img src=\"https://github.com/unslothai/unsloth/raw/main/images/Discord button.png\" width=\"145\"></a>\n",
        "<a href=\"https://docs.unsloth.ai/\"><img src=\"https://github.com/unslothai/unsloth/blob/main/images/documentation%20green%20button.png?raw=true\" width=\"125\"></a></a> Join Discord if you need help + ⭐ <i>Star us on <a href=\"https://github.com/unslothai/unsloth\">Github</a> </i> ⭐\n",
        "</div>\n",
        "\n",
        "To install Unsloth on your own computer, follow the installation instructions on our Github page [here](https://docs.unsloth.ai/get-started/installing-+-updating).\n",
        "\n",
        "You will learn how to do [data prep](#Data), how to [train](#Train), how to [run the model](#Inference), & [how to save it](#Save)\n"
      ]
    },
    {
      "cell_type": "markdown",
      "metadata": {
        "id": "4I1PcKJSQkxA"
      },
      "source": [
        "### News"
      ]
    },
    {
      "cell_type": "markdown",
      "metadata": {
        "id": "_GCfSfPkQkxA"
      },
      "source": [
        "Unsloth now supports Text-to-Speech (TTS) models. Read our [guide here](https://docs.unsloth.ai/basics/text-to-speech-tts-fine-tuning).\n",
        "\n",
        "Read our **[Qwen3 Guide](https://docs.unsloth.ai/basics/qwen3-how-to-run-and-fine-tune)** and check out our new **[Dynamic 2.0](https://docs.unsloth.ai/basics/unsloth-dynamic-2.0-ggufs)** quants which outperforms other quantization methods!\n",
        "\n",
        "Visit our docs for all our [model uploads](https://docs.unsloth.ai/get-started/all-our-models) and [notebooks](https://docs.unsloth.ai/get-started/unsloth-notebooks).\n"
      ]
    },
    {
      "cell_type": "markdown",
      "metadata": {
        "id": "2l9QJONwQkxB"
      },
      "source": [
        "### Installation"
      ]
    },
    {
      "cell_type": "code",
      "execution_count": 1,
      "metadata": {
        "id": "y2dxgE1lQkxB"
      },
      "outputs": [],
      "source": [
        "%%capture\n",
        "import os\n",
        "if \"COLAB_\" not in \"\".join(os.environ.keys()):\n",
        "    !pip install unsloth\n",
        "else:\n",
        "    # Do this only in Colab notebooks! Otherwise use pip install unsloth\n",
        "    !pip install --no-deps bitsandbytes accelerate xformers==0.0.29.post3 peft trl triton cut_cross_entropy unsloth_zoo\n",
        "    !pip install sentencepiece protobuf \"datasets>=3.4.1\" huggingface_hub hf_transfer\n",
        "    !pip install --no-deps unsloth"
      ]
    },
    {
      "cell_type": "markdown",
      "metadata": {
        "id": "FuiI9t5AQkxC"
      },
      "source": [
        "### Unsloth"
      ]
    },
    {
      "cell_type": "code",
      "execution_count": 2,
      "metadata": {
        "colab": {
          "base_uri": "https://localhost:8080/",
          "height": 348,
          "referenced_widgets": [
            "1ba7aa21b7d0480aadafb4c533e6bc9e",
            "d1820c7287704510a4b2cb3f82aad03d",
            "4a7ecb041f574b3e94c79c42fa52a420",
            "e858028630494e94af93a9c8969d1919",
            "97e27d95aa444f0090fc786db375a905",
            "1b46f3cb08a7422895f4bdd8561f95cd",
            "93c28342146d4a03ab70fbc1334ff59e",
            "37d87af7260d4907841b202078e17d61",
            "3681d8bf7bd043a18a4c45afe64f8af9",
            "4b1e7b1e58a041849de1673d60a6f27a",
            "0c3de270da98484da1967c690bc70a69",
            "09eb7d2b1c8c4301b6ae31506f3c5ddd",
            "1f362f8901194767b71ab262ff15bf09",
            "1a87b03e5c3e4f6e85d0fc1da8ac3865",
            "e1d2a827e3dc4262ac322a553d4019b3",
            "72d8a58d10b9489ba75807846c38d76a",
            "faefc84a72e247419f9582003c1c12a4",
            "e3340b36934c4c08a1a326bd47b1377c",
            "0df2346757ec4531890f030a3e596f58",
            "2b6c40b8dff14fa7b0a2c14b2e2d049b",
            "7caf22e9a73942278ac4ce278c514e59",
            "954ba37a0afc4265b7ea23ea8448bf6b",
            "a9739fd84fa44d79b040a38d851ffe22",
            "88d88a1a36004e97aaca55f97bb79777",
            "2b6d62d2fe274295a16e225cec84639f",
            "8bc02cb3d78e4ef29fedda34af932985",
            "eb527ede0990472ba4918174577aeda1",
            "36fe8124242e48099da8f5420a057015",
            "85d33b80fcc94742bec25e001e21e2f0",
            "e9ba29d17e7f4490875ca21bfdd88afe",
            "6ad1362a663044059c7f1342b30b3f2b",
            "3571fef97e7048289b1cae0abe6ab428",
            "10f14a94fc144680b1af7fc30f2d1bc3",
            "192f6540e988419eb305939af3119adb",
            "bbef130ee3ff4219bcbd158366880bb8",
            "a9d18d03e34b45bba68d23eca128362c",
            "a2a4d78a641f425a9361effde03cdbc5",
            "8c0d607af1854f93a94f8628bb466a9c",
            "a957d9ca47a648ffbce2f3657f96ce94",
            "4e0c351ef8574285b277cf4e14d5eb9b",
            "5d9a6a3cbd2e499496d56b7a737dd582",
            "4521a2b3ac6944a1b9536396dc835615",
            "d7fd0a8f1cab405f84f5e1a7d1d66d34",
            "4bc46785789a439ba85fc2fee4e5f6d3",
            "ac181853f33c4bae839b552fc4de1eed",
            "291a8c80d8af4cbb9c4fd97ceb5a1a3f",
            "9676318b1b8a4218955621629d2b9e1d",
            "cf2abdaf87cd40f8a00963636d02696d",
            "6c4452e625c04c119a9204051a794e0a",
            "61bc29ab51d647eb8606602b102e64cd",
            "fe7d66b18c0546689464a832260ea390",
            "3dc6bd86202f4948acb2f4e1e98f46ae",
            "75305105ae664aeab94945e2ea221302",
            "d947b1b870334f9487870d84b129a846",
            "4c1fffdc538f4501b8252c02386c92c4",
            "60f0015bcbcf4d1e897416ef45a0427e",
            "35b3f892055c45a69aab646e78d7b091",
            "ea0a1dc3d0cf49e88421cfde63c2119b",
            "515e639ec74e4743ade2a40690f7a995",
            "e997a22784984eb3a9ad683e3c34aa7c",
            "9a7371965d5b4a798f003de0ee2fdfaf",
            "821d1a7122d346498d6694b9b1965dd1",
            "c429d54096a64fa087bf455473f278ce",
            "f53d2f7b56d04167a9e86af312cb880c",
            "f93f42bf37d64494820c96240bf54bee",
            "e3d30a4a7d2149ec9ef9fee0fbcb438f"
          ]
        },
        "id": "Z2Fed7hzQkxC",
        "outputId": "9af7a696-798a-493f-999e-9917df83ef99"
      },
      "outputs": [
        {
          "output_type": "stream",
          "name": "stdout",
          "text": [
            "🦥 Unsloth: Will patch your computer to enable 2x faster free finetuning.\n",
            "🦥 Unsloth Zoo will now patch everything to make training faster!\n",
            "==((====))==  Unsloth 2025.6.7: Fast Llama patching. Transformers: 4.52.4.\n",
            "   \\\\   /|    Tesla T4. Num GPUs = 1. Max memory: 14.741 GB. Platform: Linux.\n",
            "O^O/ \\_/ \\    Torch: 2.6.0+cu124. CUDA: 7.5. CUDA Toolkit: 12.4. Triton: 3.2.0\n",
            "\\        /    Bfloat16 = FALSE. FA [Xformers = 0.0.29.post3. FA2 = False]\n",
            " \"-____-\"     Free license: http://github.com/unslothai/unsloth\n",
            "Unsloth: Fast downloading is enabled - ignore downloading bars which are red colored!\n"
          ]
        },
        {
          "output_type": "display_data",
          "data": {
            "text/plain": [
              "model.safetensors:   0%|          | 0.00/2.35G [00:00<?, ?B/s]"
            ],
            "application/vnd.jupyter.widget-view+json": {
              "version_major": 2,
              "version_minor": 0,
              "model_id": "1ba7aa21b7d0480aadafb4c533e6bc9e"
            }
          },
          "metadata": {}
        },
        {
          "output_type": "display_data",
          "data": {
            "text/plain": [
              "generation_config.json:   0%|          | 0.00/234 [00:00<?, ?B/s]"
            ],
            "application/vnd.jupyter.widget-view+json": {
              "version_major": 2,
              "version_minor": 0,
              "model_id": "09eb7d2b1c8c4301b6ae31506f3c5ddd"
            }
          },
          "metadata": {}
        },
        {
          "output_type": "display_data",
          "data": {
            "text/plain": [
              "tokenizer_config.json: 0.00B [00:00, ?B/s]"
            ],
            "application/vnd.jupyter.widget-view+json": {
              "version_major": 2,
              "version_minor": 0,
              "model_id": "a9739fd84fa44d79b040a38d851ffe22"
            }
          },
          "metadata": {}
        },
        {
          "output_type": "display_data",
          "data": {
            "text/plain": [
              "special_tokens_map.json:   0%|          | 0.00/454 [00:00<?, ?B/s]"
            ],
            "application/vnd.jupyter.widget-view+json": {
              "version_major": 2,
              "version_minor": 0,
              "model_id": "192f6540e988419eb305939af3119adb"
            }
          },
          "metadata": {}
        },
        {
          "output_type": "display_data",
          "data": {
            "text/plain": [
              "tokenizer.json:   0%|          | 0.00/17.2M [00:00<?, ?B/s]"
            ],
            "application/vnd.jupyter.widget-view+json": {
              "version_major": 2,
              "version_minor": 0,
              "model_id": "ac181853f33c4bae839b552fc4de1eed"
            }
          },
          "metadata": {}
        },
        {
          "output_type": "display_data",
          "data": {
            "text/plain": [
              "chat_template.jinja: 0.00B [00:00, ?B/s]"
            ],
            "application/vnd.jupyter.widget-view+json": {
              "version_major": 2,
              "version_minor": 0,
              "model_id": "60f0015bcbcf4d1e897416ef45a0427e"
            }
          },
          "metadata": {}
        }
      ],
      "source": [
        "from unsloth import FastLanguageModel\n",
        "import torch\n",
        "max_seq_length = 2048 # Choose any! We auto support RoPE Scaling internally!\n",
        "dtype = None # None for auto detection. Float16 for Tesla T4, V100, Bfloat16 for Ampere+\n",
        "load_in_4bit = True # Use 4bit quantization to reduce memory usage. Can be False.\n",
        "\n",
        "# 4bit pre quantized models we support for 4x faster downloading + no OOMs.\n",
        "fourbit_models = [\n",
        "    \"unsloth/Meta-Llama-3.1-8B-bnb-4bit\",      # Llama-3.1 2x faster\n",
        "    \"unsloth/Meta-Llama-3.1-8B-Instruct-bnb-4bit\",\n",
        "    \"unsloth/Meta-Llama-3.1-70B-bnb-4bit\",\n",
        "    \"unsloth/Meta-Llama-3.1-405B-bnb-4bit\",    # 4bit for 405b!\n",
        "    \"unsloth/Mistral-Small-Instruct-2409\",     # Mistral 22b 2x faster!\n",
        "    \"unsloth/mistral-7b-instruct-v0.3-bnb-4bit\",\n",
        "    \"unsloth/Phi-3.5-mini-instruct\",           # Phi-3.5 2x faster!\n",
        "    \"unsloth/Phi-3-medium-4k-instruct\",\n",
        "    \"unsloth/gemma-2-9b-bnb-4bit\",\n",
        "    \"unsloth/gemma-2-27b-bnb-4bit\",            # Gemma 2x faster!\n",
        "\n",
        "    \"unsloth/Llama-3.2-1B-bnb-4bit\",           # NEW! Llama 3.2 models\n",
        "    \"unsloth/Llama-3.2-1B-Instruct-bnb-4bit\",\n",
        "    \"unsloth/Llama-3.2-3B-bnb-4bit\",\n",
        "    \"unsloth/Llama-3.2-3B-Instruct-bnb-4bit\",\n",
        "\n",
        "    \"unsloth/Llama-3.3-70B-Instruct-bnb-4bit\" # NEW! Llama 3.3 70B!\n",
        "] # More models at https://huggingface.co/unsloth\n",
        "\n",
        "model, tokenizer = FastLanguageModel.from_pretrained(\n",
        "    model_name = \"unsloth/Llama-3.2-3B-Instruct\", # or choose \"unsloth/Llama-3.2-1B-Instruct\"\n",
        "    max_seq_length = max_seq_length,\n",
        "    dtype = dtype,\n",
        "    load_in_4bit = load_in_4bit,\n",
        "    # token = \"hf_...\", # use one if using gated models like meta-llama/Llama-2-7b-hf\n",
        ")"
      ]
    },
    {
      "cell_type": "markdown",
      "metadata": {
        "id": "SXd9bTZd1aaL"
      },
      "source": [
        "We now add LoRA adapters so we only need to update 1 to 10% of all parameters!"
      ]
    },
    {
      "cell_type": "code",
      "execution_count": null,
      "metadata": {
        "colab": {
          "base_uri": "https://localhost:8080/"
        },
        "id": "6bZsfBuZDeCL",
        "outputId": "acc0f9f5-59a6-46fe-d5bb-cd09965bb8c9"
      },
      "outputs": [
        {
          "name": "stderr",
          "output_type": "stream",
          "text": [
            "Unsloth 2024.10.0 patched 28 layers with 28 QKV layers, 28 O layers and 28 MLP layers.\n"
          ]
        }
      ],
      "source": [
        "model = FastLanguageModel.get_peft_model(\n",
        "    model,\n",
        "    r = 16, # Choose any number > 0 ! Suggested 8, 16, 32, 64, 128\n",
        "    target_modules = [\"q_proj\", \"k_proj\", \"v_proj\", \"o_proj\",\n",
        "                      \"gate_proj\", \"up_proj\", \"down_proj\",],\n",
        "    lora_alpha = 16,\n",
        "    lora_dropout = 0, # Supports any, but = 0 is optimized\n",
        "    bias = \"none\",    # Supports any, but = \"none\" is optimized\n",
        "    # [NEW] \"unsloth\" uses 30% less VRAM, fits 2x larger batch sizes!\n",
        "    use_gradient_checkpointing = \"unsloth\", # True or \"unsloth\" for very long context\n",
        "    random_state = 3407,\n",
        "    use_rslora = False,  # We support rank stabilized LoRA\n",
        "    loftq_config = None, # And LoftQ\n",
        ")"
      ]
    },
    {
      "cell_type": "markdown",
      "metadata": {
        "id": "vITh0KVJ10qX"
      },
      "source": [
        "<a name=\"Data\"></a>\n",
        "### Data Prep\n",
        "We now use the `Llama-3.1` format for conversation style finetunes. We use [Maxime Labonne's FineTome-100k](https://huggingface.co/datasets/mlabonne/FineTome-100k) dataset in ShareGPT style. But we convert it to HuggingFace's normal multiturn format `(\"role\", \"content\")` instead of `(\"from\", \"value\")`/ Llama-3 renders multi turn conversations like below:\n",
        "\n",
        "```\n",
        "<|begin_of_text|><|start_header_id|>user<|end_header_id|>\n",
        "\n",
        "Hello!<|eot_id|><|start_header_id|>assistant<|end_header_id|>\n",
        "\n",
        "Hey there! How are you?<|eot_id|><|start_header_id|>user<|end_header_id|>\n",
        "\n",
        "I'm great thanks!<|eot_id|>\n",
        "```\n",
        "\n",
        "We use our `get_chat_template` function to get the correct chat template. We support `zephyr, chatml, mistral, llama, alpaca, vicuna, vicuna_old, phi3, llama3` and more."
      ]
    },
    {
      "cell_type": "code",
      "execution_count": 20,
      "metadata": {
        "id": "LjY75GoYUCB8"
      },
      "outputs": [],
      "source": [
        "from unsloth.chat_templates import get_chat_template\n",
        "\n",
        "tokenizer = get_chat_template(\n",
        "    tokenizer,\n",
        "    chat_template = \"llama-3.1\",\n",
        ")\n",
        "\n",
        "def formatting_prompts_func(examples):\n",
        "    print (examples)\n",
        "    convos = examples[\"conversation\"]\n",
        "    texts = [tokenizer.apply_chat_template(convo, tokenize = False, add_generation_prompt = False) for convo in convos]\n",
        "    return { \"text\" : texts, }\n",
        "pass\n",
        "\n",
        "from datasets import load_dataset\n",
        "dataset = load_dataset(\"krzysztofeczek/test-ml\", split = \"train\")"
      ]
    },
    {
      "cell_type": "markdown",
      "metadata": {
        "id": "K9CBpiISFa6C"
      },
      "source": [
        "We now use `standardize_sharegpt` to convert ShareGPT style datasets into HuggingFace's generic format. This changes the dataset from looking like:\n",
        "```\n",
        "{\"from\": \"system\", \"value\": \"You are an assistant\"}\n",
        "{\"from\": \"human\", \"value\": \"What is 2+2?\"}\n",
        "{\"from\": \"gpt\", \"value\": \"It's 4.\"}\n",
        "```\n",
        "to\n",
        "```\n",
        "{\"role\": \"system\", \"content\": \"You are an assistant\"}\n",
        "{\"role\": \"user\", \"content\": \"What is 2+2?\"}\n",
        "{\"role\": \"assistant\", \"content\": \"It's 4.\"}\n",
        "```"
      ]
    },
    {
      "cell_type": "code",
      "execution_count": 21,
      "metadata": {
        "colab": {
          "base_uri": "https://localhost:8080/",
          "height": 86,
          "referenced_widgets": [
            "e3ab03836c4b4905ba3ea3e519bdd185",
            "fe32079c8100423f8003b89af451dda0",
            "e46a0787a6404b999a7194f3869263e1",
            "0f02dd36ab7e492f9662ce0ce11aed56",
            "e9dbfb6f545447d9a59b9e3018ae25ce",
            "ef66c9c165334883ad7b3393d93a7a4f",
            "cbbd9d0a1e5a47c1a379d5be6634f401",
            "0dff50353d074c5c886555313ad584b6",
            "5130a997af7c45999f56f84f79836dc7",
            "4d8b38c199c94ee9bc61ba9537ad2ba2",
            "5010a054d80a44b7a6857bcd70de860b"
          ]
        },
        "id": "oPXzJZzHEgXe",
        "outputId": "af742f63-8587-4b2e-a2bf-babf3a7f12a4"
      },
      "outputs": [
        {
          "output_type": "display_data",
          "data": {
            "text/plain": [
              "Map:   0%|          | 0/816 [00:00<?, ? examples/s]"
            ],
            "application/vnd.jupyter.widget-view+json": {
              "version_major": 2,
              "version_minor": 0,
              "model_id": "e3ab03836c4b4905ba3ea3e519bdd185"
            }
          },
          "metadata": {}
        },
        {
          "output_type": "stream",
          "name": "stdout",
          "text": [
            "{'conversation': [[{'role': 'system', 'content': 'validate data'}, {'role': 'user', 'content': 'marmelo,cereja,castanha'}, {'role': 'assistant', 'content': '1'}], [{'role': 'system', 'content': 'validate data'}, {'role': 'user', 'content': 'keltainen,sininen,valkoinen'}, {'role': 'assistant', 'content': '1'}], [{'role': 'system', 'content': 'validate data'}, {'role': 'user', 'content': 'yfory,heddiw,ddoe'}, {'role': 'assistant', 'content': '1'}], [{'role': 'system', 'content': 'validate data'}, {'role': 'user', 'content': 'arama,bilaketa,aurkitu'}, {'role': 'assistant', 'content': '1'}], [{'role': 'system', 'content': 'validate data'}, {'role': 'user', 'content': 'mahinahon,mahusay,matalino'}, {'role': 'assistant', 'content': '1'}], [{'role': 'system', 'content': 'validate data'}, {'role': 'user', 'content': 'hamis,csinos,forras'}, {'role': 'assistant', 'content': '1'}], [{'role': 'system', 'content': 'validate data'}, {'role': 'user', 'content': 'syntyä,pasig,felel'}, {'role': 'assistant', 'content': '1'}], [{'role': 'system', 'content': 'validate data'}, {'role': 'user', 'content': 'katak,tanda,ngiti'}, {'role': 'assistant', 'content': '1'}], [{'role': 'system', 'content': 'validate data'}, {'role': 'user', 'content': 'lukija,tutkija,valvoja'}, {'role': 'assistant', 'content': '1'}], [{'role': 'system', 'content': 'validate data'}, {'role': 'user', 'content': 'berde,kamay,bukas'}, {'role': 'assistant', 'content': '1'}], [{'role': 'system', 'content': 'validate data'}, {'role': 'user', 'content': 'txori,belar,haran'}, {'role': 'assistant', 'content': '1'}], [{'role': 'system', 'content': 'validate data'}, {'role': 'user', 'content': 'parede,mesa,cadeira'}, {'role': 'assistant', 'content': '1'}], [{'role': 'system', 'content': 'validate data'}, {'role': 'user', 'content': 'smilts,miegs,seja'}, {'role': 'assistant', 'content': '1'}], [{'role': 'system', 'content': 'validate data'}, {'role': 'user', 'content': 'lauk,ozols,vējš'}, {'role': 'assistant', 'content': '1'}], [{'role': 'system', 'content': 'validate data'}, {'role': 'user', 'content': 'hirukote,aingura,harkaitz'}, {'role': 'assistant', 'content': '1'}], [{'role': 'system', 'content': 'validate data'}, {'role': 'user', 'content': 'balea,begia,sudurra'}, {'role': 'assistant', 'content': '1'}], [{'role': 'system', 'content': 'validate data'}, {'role': 'user', 'content': 'taim,cuimhne,bliain'}, {'role': 'assistant', 'content': '1'}], [{'role': 'system', 'content': 'validate data'}, {'role': 'user', 'content': 'deisiol,dwyreiniol,gorllewinol'}, {'role': 'assistant', 'content': '1'}], [{'role': 'system', 'content': 'validate data'}, {'role': 'user', 'content': 'dapur,kubur,sepatu'}, {'role': 'assistant', 'content': '1'}], [{'role': 'system', 'content': 'validate data'}, {'role': 'user', 'content': 'magas,kedves,drága'}, {'role': 'assistant', 'content': '1'}], [{'role': 'system', 'content': 'validate data'}, {'role': 'user', 'content': 'dwylo,blodau,cerdd'}, {'role': 'assistant', 'content': '1'}], [{'role': 'system', 'content': 'validate data'}, {'role': 'user', 'content': 'lárma,bánat,öröm'}, {'role': 'assistant', 'content': '1'}], [{'role': 'system', 'content': 'validate data'}, {'role': 'user', 'content': 'lämpö,kylmä,tuuli'}, {'role': 'assistant', 'content': '1'}], [{'role': 'system', 'content': 'validate data'}, {'role': 'user', 'content': 'tuli,jää,savu'}, {'role': 'assistant', 'content': '1'}], [{'role': 'system', 'content': 'validate data'}, {'role': 'user', 'content': 'skatt,vagn,moln'}, {'role': 'assistant', 'content': '1'}], [{'role': 'system', 'content': 'validate data'}, {'role': 'user', 'content': 'utazás,gyors,lassú'}, {'role': 'assistant', 'content': '1'}], [{'role': 'system', 'content': 'validate data'}, {'role': 'user', 'content': 'magbiro,sumakit,kumain'}, {'role': 'assistant', 'content': '1'}], [{'role': 'system', 'content': 'validate data'}, {'role': 'user', 'content': 'kulungan,bisaya,dagat'}, {'role': 'assistant', 'content': '1'}], [{'role': 'system', 'content': 'validate data'}, {'role': 'user', 'content': 'mapa,ilaw,tangan'}, {'role': 'assistant', 'content': '1'}], [{'role': 'system', 'content': 'validate data'}, {'role': 'user', 'content': 'surat,pagkain,tubig'}, {'role': 'assistant', 'content': '1'}], [{'role': 'system', 'content': 'validate data'}, {'role': 'user', 'content': 'istuin,kirja,pöytä'}, {'role': 'assistant', 'content': '1'}], [{'role': 'system', 'content': 'validate data'}, {'role': 'user', 'content': 'gontyn,cwmwl,gwesty'}, {'role': 'assistant', 'content': '1'}], [{'role': 'system', 'content': 'validate data'}, {'role': 'user', 'content': 'matalim,tulog,takip'}, {'role': 'assistant', 'content': '1'}], [{'role': 'system', 'content': 'validate data'}, {'role': 'user', 'content': 'hirnak,friss,kalap'}, {'role': 'assistant', 'content': '1'}], [{'role': 'system', 'content': 'validate data'}, {'role': 'user', 'content': 'lakás,idő,munka'}, {'role': 'assistant', 'content': '1'}], [{'role': 'system', 'content': 'validate data'}, {'role': 'user', 'content': 'kartta,kirje,kynä'}, {'role': 'assistant', 'content': '1'}], [{'role': 'system', 'content': 'validate data'}, {'role': 'user', 'content': 'álom,iskola,templom'}, {'role': 'assistant', 'content': '1'}], [{'role': 'system', 'content': 'validate data'}, {'role': 'user', 'content': 'karszék,asztal,kanál'}, {'role': 'assistant', 'content': '1'}], [{'role': 'system', 'content': 'validate data'}, {'role': 'user', 'content': 'makati,masipag,mabango'}, {'role': 'assistant', 'content': '1'}], [{'role': 'system', 'content': 'validate data'}, {'role': 'user', 'content': 'tikar,bunga,bayang'}, {'role': 'assistant', 'content': '1'}], [{'role': 'system', 'content': 'validate data'}, {'role': 'user', 'content': 'sortu,eraiki,aldatu'}, {'role': 'assistant', 'content': '1'}], [{'role': 'system', 'content': 'validate data'}, {'role': 'user', 'content': 'mező,erdő,tenger'}, {'role': 'assistant', 'content': '1'}], [{'role': 'system', 'content': 'validate data'}, {'role': 'user', 'content': 'gyűrű,kabát,cipő'}, {'role': 'assistant', 'content': '1'}], [{'role': 'system', 'content': 'validate data'}, {'role': 'user', 'content': 'kesä,talvi,syksy'}, {'role': 'assistant', 'content': '1'}], [{'role': 'system', 'content': 'validate data'}, {'role': 'user', 'content': 'canu,cloch,cyfan'}, {'role': 'assistant', 'content': '1'}], [{'role': 'system', 'content': 'validate data'}, {'role': 'user', 'content': 'tere,lapa,roka'}, {'role': 'assistant', 'content': '1'}], [{'role': 'system', 'content': 'validate data'}, {'role': 'user', 'content': 'egun,gau,mendi'}, {'role': 'assistant', 'content': '1'}], [{'role': 'system', 'content': 'validate data'}, {'role': 'user', 'content': 'adur,itsaso,ibai'}, {'role': 'assistant', 'content': '1'}], [{'role': 'system', 'content': 'validate data'}, {'role': 'user', 'content': 'abiadura,pisu,kolore'}, {'role': 'assistant', 'content': '1'}], [{'role': 'system', 'content': 'validate data'}, {'role': 'user', 'content': 'antzinako,berri,moderno'}, {'role': 'assistant', 'content': '1'}], [{'role': 'system', 'content': 'validate data'}, {'role': 'user', 'content': 'baloi,aklat,bukid'}, {'role': 'assistant', 'content': '1'}], [{'role': 'system', 'content': 'validate data'}, {'role': 'user', 'content': 'mataas,mababa,mahaba'}, {'role': 'assistant', 'content': '1'}], [{'role': 'system', 'content': 'validate data'}, {'role': 'user', 'content': 'terápia,huolto,hoito'}, {'role': 'assistant', 'content': '1'}], [{'role': 'system', 'content': 'validate data'}, {'role': 'user', 'content': 'tonttu,keiju,haltija'}, {'role': 'assistant', 'content': '1'}], [{'role': 'system', 'content': 'validate data'}, {'role': 'user', 'content': 'kaiken,armas,tarve'}, {'role': 'assistant', 'content': '1'}], [{'role': 'system', 'content': 'validate data'}, {'role': 'user', 'content': 'hauki,kala,lohi'}, {'role': 'assistant', 'content': '1'}], [{'role': 'system', 'content': 'validate data'}, {'role': 'user', 'content': 'eväs,valinta,pito'}, {'role': 'assistant', 'content': '1'}], [{'role': 'system', 'content': 'validate data'}, {'role': 'user', 'content': 'keinu,liike,heiluri'}, {'role': 'assistant', 'content': '1'}], [{'role': 'system', 'content': 'validate data'}, {'role': 'user', 'content': 'kasvot,hampaat,hiukset'}, {'role': 'assistant', 'content': '1'}], [{'role': 'system', 'content': 'validate data'}, {'role': 'user', 'content': 'frynt,amser,bwrdd'}, {'role': 'assistant', 'content': '1'}], [{'role': 'system', 'content': 'validate data'}, {'role': 'user', 'content': 'cyfrifiadur,teledu,ffôn'}, {'role': 'assistant', 'content': '1'}], [{'role': 'system', 'content': 'validate data'}, {'role': 'user', 'content': 'gwres,oer,haf'}, {'role': 'assistant', 'content': '1'}], [{'role': 'system', 'content': 'validate data'}, {'role': 'user', 'content': 'papan,sikat,orasan'}, {'role': 'assistant', 'content': '1'}], [{'role': 'system', 'content': 'validate data'}, {'role': 'user', 'content': 'kumusta,salamat,paalam'}, {'role': 'assistant', 'content': '1'}], [{'role': 'system', 'content': 'validate data'}, {'role': 'user', 'content': 'matagal,kumain,sumayaw'}, {'role': 'assistant', 'content': '1'}], [{'role': 'system', 'content': 'validate data'}, {'role': 'user', 'content': 'abade,padre,monge'}, {'role': 'assistant', 'content': '1'}], [{'role': 'system', 'content': 'validate data'}, {'role': 'user', 'content': 'segredo,alma,coração'}, {'role': 'assistant', 'content': '1'}], [{'role': 'system', 'content': 'validate data'}, {'role': 'user', 'content': 'olvido,samba,folha'}, {'role': 'assistant', 'content': '1'}], [{'role': 'system', 'content': 'validate data'}, {'role': 'user', 'content': 'kezét,arcát,szemét'}, {'role': 'assistant', 'content': '1'}], [{'role': 'system', 'content': 'validate data'}, {'role': 'user', 'content': 'csoda,medve,tavasz'}, {'role': 'assistant', 'content': '1'}], [{'role': 'system', 'content': 'validate data'}, {'role': 'user', 'content': 'valaki,senki,mindenki'}, {'role': 'assistant', 'content': '1'}], [{'role': 'system', 'content': 'validate data'}, {'role': 'user', 'content': 'utca,város,ország'}, {'role': 'assistant', 'content': '1'}], [{'role': 'system', 'content': 'validate data'}, {'role': 'user', 'content': 'valitse,valittu,lupa'}, {'role': 'assistant', 'content': '1'}], [{'role': 'system', 'content': 'validate data'}, {'role': 'user', 'content': 'sivellin,maali,taide'}, {'role': 'assistant', 'content': '1'}], [{'role': 'system', 'content': 'validate data'}, {'role': 'user', 'content': 'saari,meri,ranta'}, {'role': 'assistant', 'content': '1'}], [{'role': 'system', 'content': 'validate data'}, {'role': 'user', 'content': 'kerma,sokeri,jauho'}, {'role': 'assistant', 'content': '1'}], [{'role': 'system', 'content': 'validate data'}, {'role': 'user', 'content': 'kello,kirja,avain'}, {'role': 'assistant', 'content': '1'}], [{'role': 'system', 'content': 'validate data'}, {'role': 'user', 'content': 'kylpy,sauna,vesi'}, {'role': 'assistant', 'content': '1'}], [{'role': 'system', 'content': 'validate data'}, {'role': 'user', 'content': 'mahal,tahanan,trabaho'}, {'role': 'assistant', 'content': '1'}], [{'role': 'system', 'content': 'validate data'}, {'role': 'user', 'content': 'larawan,alaala,kasaysayan'}, {'role': 'assistant', 'content': '1'}], [{'role': 'system', 'content': 'validate data'}, {'role': 'user', 'content': 'magkano,maaga,mabilis'}, {'role': 'assistant', 'content': '1'}], [{'role': 'system', 'content': 'validate data'}, {'role': 'user', 'content': 'lángos,kifli,pogácsa'}, {'role': 'assistant', 'content': '1'}], [{'role': 'system', 'content': 'validate data'}, {'role': 'user', 'content': 'gatya,kalap,kendő'}, {'role': 'assistant', 'content': '1'}], [{'role': 'system', 'content': 'validate data'}, {'role': 'user', 'content': 'magdusa,maglaro,magsulat'}, {'role': 'assistant', 'content': '1'}], [{'role': 'system', 'content': 'validate data'}, {'role': 'user', 'content': 'lovas,pásztor,vadász'}, {'role': 'assistant', 'content': '1'}], [{'role': 'system', 'content': 'validate data'}, {'role': 'user', 'content': 'veszély,bátor,félelem'}, {'role': 'assistant', 'content': '1'}], [{'role': 'system', 'content': 'validate data'}, {'role': 'user', 'content': 'dilaw,pula,berde'}, {'role': 'assistant', 'content': '1'}], [{'role': 'system', 'content': 'validate data'}, {'role': 'user', 'content': 'bituin,buwan,araw'}, {'role': 'assistant', 'content': '1'}], [{'role': 'system', 'content': 'validate data'}, {'role': 'user', 'content': 'tähti,kuu,aurinko'}, {'role': 'assistant', 'content': '1'}], [{'role': 'system', 'content': 'validate data'}, {'role': 'user', 'content': 'gyenge,halvány,vékony'}, {'role': 'assistant', 'content': '1'}], [{'role': 'system', 'content': 'validate data'}, {'role': 'user', 'content': 'leuka,poski,olkapää'}, {'role': 'assistant', 'content': '1'}], [{'role': 'system', 'content': 'validate data'}, {'role': 'user', 'content': 'kuvasz,kutya,cachorro'}, {'role': 'assistant', 'content': '1'}], [{'role': 'system', 'content': 'validate data'}, {'role': 'user', 'content': 'tinta,papel,caneta'}, {'role': 'assistant', 'content': '1'}], [{'role': 'system', 'content': 'validate data'}, {'role': 'user', 'content': 'laukku,kenkä,takki'}, {'role': 'assistant', 'content': '1'}], [{'role': 'system', 'content': 'validate data'}, {'role': 'user', 'content': 'kynsien,varvas,hiusten'}, {'role': 'assistant', 'content': '1'}], [{'role': 'system', 'content': 'validate data'}, {'role': 'user', 'content': 'fynegi,pawen,coesau'}, {'role': 'assistant', 'content': '1'}], [{'role': 'system', 'content': 'validate data'}, {'role': 'user', 'content': 'dwylo,breichiau,clustiau'}, {'role': 'assistant', 'content': '1'}], [{'role': 'system', 'content': 'validate data'}, {'role': 'user', 'content': 'pastel,bolo,torta'}, {'role': 'assistant', 'content': '1'}], [{'role': 'system', 'content': 'validate data'}, {'role': 'user', 'content': 'gafael,rheoli,gweithredu'}, {'role': 'assistant', 'content': '1'}], [{'role': 'system', 'content': 'validate data'}, {'role': 'user', 'content': 'hosto,bulaklak,puno'}, {'role': 'assistant', 'content': '1'}], [{'role': 'system', 'content': 'validate data'}, {'role': 'user', 'content': 'keztyű,sapka,ruha'}, {'role': 'assistant', 'content': '1'}], [{'role': 'system', 'content': 'validate data'}, {'role': 'user', 'content': 'matagumpay,matapang,matalino'}, {'role': 'assistant', 'content': '1'}], [{'role': 'system', 'content': 'validate data'}, {'role': 'user', 'content': 'kabibe,kulay,kumot'}, {'role': 'assistant', 'content': '1'}], [{'role': 'system', 'content': 'validate data'}, {'role': 'user', 'content': 'viheltää,huutaa,itkeä'}, {'role': 'assistant', 'content': '1'}], [{'role': 'system', 'content': 'validate data'}, {'role': 'user', 'content': 'kuvittaa,piirtää,maalata'}, {'role': 'assistant', 'content': '1'}], [{'role': 'system', 'content': 'validate data'}, {'role': 'user', 'content': 'gyllene,silver,brons'}, {'role': 'assistant', 'content': '1'}], [{'role': 'system', 'content': 'validate data'}, {'role': 'user', 'content': 'aloittaa,päättää,jatkaa'}, {'role': 'assistant', 'content': '1'}], [{'role': 'system', 'content': 'validate data'}, {'role': 'user', 'content': 'szálló,fogadó,motel'}, {'role': 'assistant', 'content': '1'}], [{'role': 'system', 'content': 'validate data'}, {'role': 'user', 'content': 'írni,olvasni,beszélni'}, {'role': 'assistant', 'content': '1'}], [{'role': 'system', 'content': 'validate data'}, {'role': 'user', 'content': 'mahirap,madali,mabilis'}, {'role': 'assistant', 'content': '1'}], [{'role': 'system', 'content': 'validate data'}, {'role': 'user', 'content': 'talaga,tunay,totoo'}, {'role': 'assistant', 'content': '1'}], [{'role': 'system', 'content': 'validate data'}, {'role': 'user', 'content': 'barco,navio,veleiro'}, {'role': 'assistant', 'content': '1'}], [{'role': 'system', 'content': 'validate data'}, {'role': 'user', 'content': 'matalino,matapang,malakas'}, {'role': 'assistant', 'content': '1'}], [{'role': 'system', 'content': 'validate data'}, {'role': 'user', 'content': 'gumawa,sumira,tumawa'}, {'role': 'assistant', 'content': '1'}], [{'role': 'system', 'content': 'validate data'}, {'role': 'user', 'content': 'malayo,malapit,malayu'}, {'role': 'assistant', 'content': '1'}], [{'role': 'system', 'content': 'validate data'}, {'role': 'user', 'content': 'nagyobb,kisebb,egyenlő'}, {'role': 'assistant', 'content': '1'}], [{'role': 'system', 'content': 'validate data'}, {'role': 'user', 'content': 'kezes,kedves,kényes'}, {'role': 'assistant', 'content': '1'}], [{'role': 'system', 'content': 'validate data'}, {'role': 'user', 'content': 'fuwagi,paghinga,pahinga'}, {'role': 'assistant', 'content': '1'}], [{'role': 'system', 'content': 'validate data'}, {'role': 'user', 'content': 'túlzás,elégség,hiány'}, {'role': 'assistant', 'content': '1'}], [{'role': 'system', 'content': 'validate data'}, {'role': 'user', 'content': 'lama,silda,steg'}, {'role': 'assistant', 'content': '1'}], [{'role': 'system', 'content': 'validate data'}, {'role': 'user', 'content': 'lampa,soffan,bordet'}, {'role': 'assistant', 'content': '1'}], [{'role': 'system', 'content': 'validate data'}, {'role': 'user', 'content': 'cachu,caru,canol'}, {'role': 'assistant', 'content': '1'}], [{'role': 'system', 'content': 'validate data'}, {'role': 'user', 'content': 'cryf,gwan,cloff'}, {'role': 'assistant', 'content': '1'}], [{'role': 'system', 'content': 'validate data'}, {'role': 'user', 'content': 'teulu,plant,cyfaill'}, {'role': 'assistant', 'content': '1'}], [{'role': 'system', 'content': 'validate data'}, {'role': 'user', 'content': 'heledd,gwenu,cysgu'}, {'role': 'assistant', 'content': '1'}], [{'role': 'system', 'content': 'validate data'}, {'role': 'user', 'content': 'cerdyn,llythyr,papur'}, {'role': 'assistant', 'content': '1'}], [{'role': 'system', 'content': 'validate data'}, {'role': 'user', 'content': 'cuimhne,rince,fuinneog'}, {'role': 'assistant', 'content': '1'}], [{'role': 'system', 'content': 'validate data'}, {'role': 'user', 'content': 'masnach,lledr,meddyg'}, {'role': 'assistant', 'content': '1'}], [{'role': 'system', 'content': 'validate data'}, {'role': 'user', 'content': 'aberth,achub,arbed'}, {'role': 'assistant', 'content': '1'}], [{'role': 'system', 'content': 'validate data'}, {'role': 'user', 'content': 'gizon,neska,mutil'}, {'role': 'assistant', 'content': '1'}], [{'role': 'system', 'content': 'validate data'}, {'role': 'user', 'content': 'atsegin,zaila,garesti'}, {'role': 'assistant', 'content': '1'}], [{'role': 'system', 'content': 'validate data'}, {'role': 'user', 'content': 'txoria,arraina,otsoa'}, {'role': 'assistant', 'content': '1'}], [{'role': 'system', 'content': 'validate data'}, {'role': 'user', 'content': 'ederra,itsusia,argia'}, {'role': 'assistant', 'content': '1'}], [{'role': 'system', 'content': 'validate data'}, {'role': 'user', 'content': 'hartu,erosi,saldu'}, {'role': 'assistant', 'content': '1'}], [{'role': 'system', 'content': 'validate data'}, {'role': 'user', 'content': 'gogor,leun,bigun'}, {'role': 'assistant', 'content': '1'}], [{'role': 'system', 'content': 'validate data'}, {'role': 'user', 'content': 'matalik,malayo,mabaho'}, {'role': 'assistant', 'content': '1'}], [{'role': 'system', 'content': 'validate data'}, {'role': 'user', 'content': 'bilog,parisukat,tatsulok'}, {'role': 'assistant', 'content': '1'}], [{'role': 'system', 'content': 'validate data'}, {'role': 'user', 'content': 'ibabaw,ilalim,gitna'}, {'role': 'assistant', 'content': '1'}], [{'role': 'system', 'content': 'validate data'}, {'role': 'user', 'content': 'gising,tulog,pagod'}, {'role': 'assistant', 'content': '1'}], [{'role': 'system', 'content': 'validate data'}, {'role': 'user', 'content': 'ngipin,labi,dila'}, {'role': 'assistant', 'content': '1'}], [{'role': 'system', 'content': 'validate data'}, {'role': 'user', 'content': 'daliri,kamay,paa'}, {'role': 'assistant', 'content': '1'}], [{'role': 'system', 'content': 'validate data'}, {'role': 'user', 'content': 'malaki,maliit,katamtaman'}, {'role': 'assistant', 'content': '1'}], [{'role': 'system', 'content': 'validate data'}, {'role': 'user', 'content': 'gosto,cheiro,visão'}, {'role': 'assistant', 'content': '1'}], [{'role': 'system', 'content': 'validate data'}, {'role': 'user', 'content': 'cabelo,olhos,pele'}, {'role': 'assistant', 'content': '1'}], [{'role': 'system', 'content': 'validate data'}, {'role': 'user', 'content': 'sapato,vestido,bolsa'}, {'role': 'assistant', 'content': '1'}], [{'role': 'system', 'content': 'validate data'}, {'role': 'user', 'content': 'magico,misterioso,secreto'}, {'role': 'assistant', 'content': '1'}], [{'role': 'system', 'content': 'validate data'}, {'role': 'user', 'content': 'forte,fraco,médio'}, {'role': 'assistant', 'content': '1'}], [{'role': 'system', 'content': 'validate data'}, {'role': 'user', 'content': 'trama,enredo,história'}, {'role': 'assistant', 'content': '1'}], [{'role': 'system', 'content': 'validate data'}, {'role': 'user', 'content': 'louco,insano,doido'}, {'role': 'assistant', 'content': '1'}], [{'role': 'system', 'content': 'validate data'}, {'role': 'user', 'content': 'chave,fechadura,porta'}, {'role': 'assistant', 'content': '1'}], [{'role': 'system', 'content': 'validate data'}, {'role': 'user', 'content': 'velho,jovem,maduro'}, {'role': 'assistant', 'content': '1'}], [{'role': 'system', 'content': 'validate data'}, {'role': 'user', 'content': 'kuvaus,tarina,juoni'}, {'role': 'assistant', 'content': '1'}], [{'role': 'system', 'content': 'validate data'}, {'role': 'user', 'content': 'kaunis,ruma,keskiverto'}, {'role': 'assistant', 'content': '1'}], [{'role': 'system', 'content': 'validate data'}, {'role': 'user', 'content': 'valkoinen,musta,harmaa'}, {'role': 'assistant', 'content': '1'}], [{'role': 'system', 'content': 'validate data'}, {'role': 'user', 'content': 'kuuma,kylmä,lämmin'}, {'role': 'assistant', 'content': '1'}], [{'role': 'system', 'content': 'validate data'}, {'role': 'user', 'content': 'suuri,pieni,keskikokoinen'}, {'role': 'assistant', 'content': '1'}], [{'role': 'system', 'content': 'validate data'}, {'role': 'user', 'content': 'elävä,kuollut,nukkuva'}, {'role': 'assistant', 'content': '1'}], [{'role': 'system', 'content': 'validate data'}, {'role': 'user', 'content': 'nopea,hidas,nopeus'}, {'role': 'assistant', 'content': '1'}], [{'role': 'system', 'content': 'validate data'}, {'role': 'user', 'content': 'korkea,matala,taso'}, {'role': 'assistant', 'content': '1'}], [{'role': 'system', 'content': 'validate data'}, {'role': 'user', 'content': 'ystävä,vihollinen,kumppani'}, {'role': 'assistant', 'content': '1'}], [{'role': 'system', 'content': 'validate data'}, {'role': 'user', 'content': 'taivas,maa,meri'}, {'role': 'assistant', 'content': '1'}], [{'role': 'system', 'content': 'validate data'}, {'role': 'user', 'content': 'ilmava,tiivis,avara'}, {'role': 'assistant', 'content': '1'}], [{'role': 'system', 'content': 'validate data'}, {'role': 'user', 'content': 'farkku,paita,takki'}, {'role': 'assistant', 'content': '1'}], [{'role': 'system', 'content': 'validate data'}, {'role': 'user', 'content': 'hattu,huivi,käsine'}, {'role': 'assistant', 'content': '1'}], [{'role': 'system', 'content': 'validate data'}, {'role': 'user', 'content': 'puuvilla,silkki,villa'}, {'role': 'assistant', 'content': '1'}], [{'role': 'system', 'content': 'validate data'}, {'role': 'user', 'content': 'juures,hedelmä,vihannes'}, {'role': 'assistant', 'content': '1'}], [{'role': 'system', 'content': 'validate data'}, {'role': 'user', 'content': 'lento,ajaa,kävellä'}, {'role': 'assistant', 'content': '1'}], [{'role': 'system', 'content': 'validate data'}, {'role': 'user', 'content': 'syvä,matala,korkeus'}, {'role': 'assistant', 'content': '1'}], [{'role': 'system', 'content': 'validate data'}, {'role': 'user', 'content': 'harso,verho,kangas'}, {'role': 'assistant', 'content': '1'}], [{'role': 'system', 'content': 'validate data'}, {'role': 'user', 'content': 'muovi,lasi,metalli'}, {'role': 'assistant', 'content': '1'}], [{'role': 'system', 'content': 'validate data'}, {'role': 'user', 'content': 'raapia,puhdistaa,hangata'}, {'role': 'assistant', 'content': '1'}], [{'role': 'system', 'content': 'validate data'}, {'role': 'user', 'content': 'nauraa,itkeä,hymyillä'}, {'role': 'assistant', 'content': '1'}], [{'role': 'system', 'content': 'validate data'}, {'role': 'user', 'content': 'valo,saari,lehto'}, {'role': 'assistant', 'content': '1'}], [{'role': 'system', 'content': 'validate data'}, {'role': 'user', 'content': 'vacio,estrada,lavoura'}, {'role': 'assistant', 'content': '1'}], [{'role': 'system', 'content': 'validate data'}, {'role': 'user', 'content': 'trefnu,brwydr,pellter'}, {'role': 'assistant', 'content': '1'}], [{'role': 'system', 'content': 'validate data'}, {'role': 'user', 'content': 'kalina,azoka,aitzakia'}, {'role': 'assistant', 'content': '1'}], [{'role': 'system', 'content': 'validate data'}, {'role': 'user', 'content': 'alat,kilos,isip'}, {'role': 'assistant', 'content': '1'}], [{'role': 'system', 'content': 'validate data'}, {'role': 'user', 'content': 'manna,strand,brunn'}, {'role': 'assistant', 'content': '1'}], [{'role': 'system', 'content': 'validate data'}, {'role': 'user', 'content': 'gwenu,hyhi,llachar'}, {'role': 'assistant', 'content': '1'}], [{'role': 'system', 'content': 'validate data'}, {'role': 'user', 'content': 'veida,maksa,velti'}, {'role': 'assistant', 'content': '1'}], [{'role': 'system', 'content': 'validate data'}, {'role': 'user', 'content': 'moita,pomar,vinho'}, {'role': 'assistant', 'content': '1'}], [{'role': 'system', 'content': 'validate data'}, {'role': 'user', 'content': 'talo,savi,kangas'}, {'role': 'assistant', 'content': '1'}], [{'role': 'system', 'content': 'validate data'}, {'role': 'user', 'content': 'turog,hatak,vonal'}, {'role': 'assistant', 'content': '1'}], [{'role': 'system', 'content': 'validate data'}, {'role': 'user', 'content': 'sored,broga,coeden'}, {'role': 'assistant', 'content': '1'}], [{'role': 'system', 'content': 'validate data'}, {'role': 'user', 'content': 'silta,peite,juuri'}, {'role': 'assistant', 'content': '1'}], [{'role': 'system', 'content': 'validate data'}, {'role': 'user', 'content': 'kaisa,eguna,txori'}, {'role': 'assistant', 'content': '1'}], [{'role': 'system', 'content': 'validate data'}, {'role': 'user', 'content': 'bilis,kulay,hangin'}, {'role': 'assistant', 'content': '1'}], [{'role': 'system', 'content': 'validate data'}, {'role': 'user', 'content': 'puhelin,aamu,tuuli'}, {'role': 'assistant', 'content': '1'}], [{'role': 'system', 'content': 'validate data'}, {'role': 'user', 'content': 'dator,beroa,gari'}, {'role': 'assistant', 'content': '1'}], [{'role': 'system', 'content': 'validate data'}, {'role': 'user', 'content': 'kalap,tenger,meleg'}, {'role': 'assistant', 'content': '1'}], [{'role': 'system', 'content': 'validate data'}, {'role': 'user', 'content': 'karne,bakat,halaman'}, {'role': 'assistant', 'content': '1'}], [{'role': 'system', 'content': 'validate data'}, {'role': 'user', 'content': 'aurinko,kupla,maisu'}, {'role': 'assistant', 'content': '1'}], [{'role': 'system', 'content': 'validate data'}, {'role': 'user', 'content': 'viento,branco,rapido'}, {'role': 'assistant', 'content': '1'}], [{'role': 'system', 'content': 'validate data'}, {'role': 'user', 'content': 'silloin,hetki,paiva'}, {'role': 'assistant', 'content': '1'}], [{'role': 'system', 'content': 'validate data'}, {'role': 'user', 'content': 'viela,ilta,kauppa'}, {'role': 'assistant', 'content': '1'}], [{'role': 'system', 'content': 'validate data'}, {'role': 'user', 'content': 'bwrdd,llwyd,teclyn'}, {'role': 'assistant', 'content': '1'}], [{'role': 'system', 'content': 'validate data'}, {'role': 'user', 'content': 'aitzaki,hegal,udazken'}, {'role': 'assistant', 'content': '1'}], [{'role': 'system', 'content': 'validate data'}, {'role': 'user', 'content': 'estante,carta,caixa'}, {'role': 'assistant', 'content': '1'}], [{'role': 'system', 'content': 'validate data'}, {'role': 'user', 'content': 'tiempe,silta,savu'}, {'role': 'assistant', 'content': '1'}], [{'role': 'system', 'content': 'validate data'}, {'role': 'user', 'content': 'lamari,broga,tywydd'}, {'role': 'assistant', 'content': '1'}], [{'role': 'system', 'content': 'validate data'}, {'role': 'user', 'content': 'darbs,diena,kaste'}, {'role': 'assistant', 'content': '1'}], [{'role': 'system', 'content': 'validate data'}, {'role': 'user', 'content': 'zelta,telpa,saule'}, {'role': 'assistant', 'content': '1'}], [{'role': 'system', 'content': 'validate data'}, {'role': 'user', 'content': 'klase,sukat,hangin'}, {'role': 'assistant', 'content': '1'}], [{'role': 'system', 'content': 'validate data'}, {'role': 'user', 'content': 'agwedd,bachgen,tywydd'}, {'role': 'assistant', 'content': '1'}], [{'role': 'system', 'content': 'validate data'}, {'role': 'user', 'content': 'tapas,baston,morro'}, {'role': 'assistant', 'content': '1'}], [{'role': 'system', 'content': 'validate data'}, {'role': 'user', 'content': 'karums,sekel,valoda'}, {'role': 'assistant', 'content': '1'}], [{'role': 'system', 'content': 'validate data'}, {'role': 'user', 'content': 'lukea,maata,suunta'}, {'role': 'assistant', 'content': '1'}], [{'role': 'system', 'content': 'validate data'}, {'role': 'user', 'content': 'kengat,saari,tuhka'}, {'role': 'assistant', 'content': '1'}], [{'role': 'system', 'content': 'validate data'}, {'role': 'user', 'content': 'kiekko,peite,silta'}, {'role': 'assistant', 'content': '1'}], [{'role': 'system', 'content': 'validate data'}, {'role': 'user', 'content': 'kivi,naava,kilpa'}, {'role': 'assistant', 'content': '1'}], [{'role': 'system', 'content': 'validate data'}, {'role': 'user', 'content': 'kutsu,hattu,neula'}, {'role': 'assistant', 'content': '1'}], [{'role': 'system', 'content': 'validate data'}, {'role': 'user', 'content': 'kaste,galds,telpa'}, {'role': 'assistant', 'content': '1'}], [{'role': 'system', 'content': 'validate data'}, {'role': 'user', 'content': 'tehdas,kuusi,kangas'}, {'role': 'assistant', 'content': '1'}], [{'role': 'system', 'content': 'validate data'}, {'role': 'user', 'content': 'tantas,maayo,hagos'}, {'role': 'assistant', 'content': '1'}], [{'role': 'system', 'content': 'validate data'}, {'role': 'user', 'content': 'kutsu,sarvi,peite'}, {'role': 'assistant', 'content': '1'}], [{'role': 'system', 'content': 'validate data'}, {'role': 'user', 'content': 'gaban,aitzaki,barru'}, {'role': 'assistant', 'content': '1'}], [{'role': 'system', 'content': 'validate data'}, {'role': 'user', 'content': 'maksu,kasvu,pallo'}, {'role': 'assistant', 'content': '1'}], [{'role': 'system', 'content': 'validate data'}, {'role': 'user', 'content': 'galds,zelta,darba'}, {'role': 'assistant', 'content': '1'}], [{'role': 'system', 'content': 'validate data'}, {'role': 'user', 'content': 'kannel,ilgums,saule'}, {'role': 'assistant', 'content': '1'}], [{'role': 'system', 'content': 'validate data'}, {'role': 'user', 'content': 'alento,feliz,abriu'}, {'role': 'assistant', 'content': '1'}], [{'role': 'system', 'content': 'validate data'}, {'role': 'user', 'content': 'lehto,tehdas,kuusi'}, {'role': 'assistant', 'content': '1'}], [{'role': 'system', 'content': 'validate data'}, {'role': 'user', 'content': 'carta,estilo,pluma'}, {'role': 'assistant', 'content': '1'}], [{'role': 'system', 'content': 'validate data'}, {'role': 'user', 'content': 'hatak,vonal,meleg'}, {'role': 'assistant', 'content': '1'}], [{'role': 'system', 'content': 'validate data'}, {'role': 'user', 'content': 'pagod,bagay,kulay'}, {'role': 'assistant', 'content': '1'}], [{'role': 'system', 'content': 'validate data'}, {'role': 'user', 'content': 'lusto,galdu,argi'}, {'role': 'assistant', 'content': '1'}], [{'role': 'system', 'content': 'validate data'}, {'role': 'user', 'content': 'meron,diwa,bilang'}, {'role': 'assistant', 'content': '1'}], [{'role': 'system', 'content': 'validate data'}, {'role': 'user', 'content': 'segir,tapas,buruz'}, {'role': 'assistant', 'content': '1'}], [{'role': 'system', 'content': 'validate data'}, {'role': 'user', 'content': 'vinho,prado,moita'}, {'role': 'assistant', 'content': '1'}], [{'role': 'system', 'content': 'validate data'}, {'role': 'user', 'content': 'moita,carta,estilo'}, {'role': 'assistant', 'content': '1'}], [{'role': 'system', 'content': 'validate data'}, {'role': 'user', 'content': 'dinas,munud,gwenu'}, {'role': 'assistant', 'content': '1'}], [{'role': 'system', 'content': 'validate data'}, {'role': 'user', 'content': 'skola,piekst,galds'}, {'role': 'assistant', 'content': '1'}], [{'role': 'system', 'content': 'validate data'}, {'role': 'user', 'content': 'munud,brwydr,dinas'}, {'role': 'assistant', 'content': '1'}], [{'role': 'system', 'content': 'validate data'}, {'role': 'user', 'content': 'hattu,naava,kasvu'}, {'role': 'assistant', 'content': '1'}], [{'role': 'system', 'content': 'validate data'}, {'role': 'user', 'content': 'hatak,ajto,kalap'}, {'role': 'assistant', 'content': '1'}], [{'role': 'system', 'content': 'validate data'}, {'role': 'user', 'content': 'manna,vagga,rummet'}, {'role': 'assistant', 'content': '1'}], [{'role': 'system', 'content': 'validate data'}, {'role': 'user', 'content': 'paiva,kuusi,aamu'}, {'role': 'assistant', 'content': '1'}], [{'role': 'system', 'content': 'validate data'}, {'role': 'user', 'content': 'valoda,kuha,kaste'}, {'role': 'assistant', 'content': '1'}], [{'role': 'system', 'content': 'validate data'}, {'role': 'user', 'content': 'minta,ajto,kalap'}, {'role': 'assistant', 'content': '1'}], [{'role': 'system', 'content': 'validate data'}, {'role': 'user', 'content': 'capa,perda,perder'}, {'role': 'assistant', 'content': '1'}], [{'role': 'system', 'content': 'validate data'}, {'role': 'user', 'content': 'andar,sabor,corda'}, {'role': 'assistant', 'content': '1'}], [{'role': 'system', 'content': 'validate data'}, {'role': 'user', 'content': 'satu,lima,asal'}, {'role': 'assistant', 'content': '1'}], [{'role': 'system', 'content': 'validate data'}, {'role': 'user', 'content': 'diena,ilgums,maksa'}, {'role': 'assistant', 'content': '1'}], [{'role': 'system', 'content': 'validate data'}, {'role': 'user', 'content': 'txori,udazken,ibon'}, {'role': 'assistant', 'content': '1'}], [{'role': 'system', 'content': 'validate data'}, {'role': 'user', 'content': 'dager,sarna,brunn'}, {'role': 'assistant', 'content': '1'}], [{'role': 'system', 'content': 'validate data'}, {'role': 'user', 'content': 'kiekko,pallo,ruoka'}, {'role': 'assistant', 'content': '1'}], [{'role': 'system', 'content': 'validate data'}, {'role': 'user', 'content': 'prado,vinho,muitos'}, {'role': 'assistant', 'content': '1'}], [{'role': 'system', 'content': 'validate data'}, {'role': 'user', 'content': 'maayo,puno,araw'}, {'role': 'assistant', 'content': '1'}], [{'role': 'system', 'content': 'validate data'}, {'role': 'user', 'content': 'diena,kaste,kuha'}, {'role': 'assistant', 'content': '1'}], [{'role': 'system', 'content': 'validate data'}, {'role': 'user', 'content': 'oras,hangin,araw'}, {'role': 'assistant', 'content': '1'}], [{'role': 'system', 'content': 'validate data'}, {'role': 'user', 'content': 'araw,bagay,sukat'}, {'role': 'assistant', 'content': '1'}], [{'role': 'system', 'content': 'validate data'}, {'role': 'user', 'content': 'hatak,turog,barna'}, {'role': 'assistant', 'content': '1'}], [{'role': 'system', 'content': 'validate data'}, {'role': 'user', 'content': 'kasvu,tytar,suunta'}, {'role': 'assistant', 'content': '1'}], [{'role': 'system', 'content': 'validate data'}, {'role': 'user', 'content': 'maksa,kuha,ilgums'}, {'role': 'assistant', 'content': '1'}], [{'role': 'system', 'content': 'validate data'}, {'role': 'user', 'content': 'lamari,bachgen,bwlch'}, {'role': 'assistant', 'content': '1'}], [{'role': 'system', 'content': 'validate data'}, {'role': 'user', 'content': 'jyvat,paiva,aamu'}, {'role': 'assistant', 'content': '1'}], [{'role': 'system', 'content': 'validate data'}, {'role': 'user', 'content': 'bwlch,agwedd,gwenu'}, {'role': 'assistant', 'content': '1'}], [{'role': 'system', 'content': 'validate data'}, {'role': 'user', 'content': 'brwydr,sored,lamari'}, {'role': 'assistant', 'content': '1'}], [{'role': 'system', 'content': 'validate data'}, {'role': 'user', 'content': 'tawid,alat,huwa'}, {'role': 'assistant', 'content': '1'}], [{'role': 'system', 'content': 'validate data'}, {'role': 'user', 'content': 'ibon,beroa,lusto'}, {'role': 'assistant', 'content': '1'}], [{'role': 'system', 'content': 'validate data'}, {'role': 'user', 'content': 'kezka,etxea,dator'}, {'role': 'assistant', 'content': '1'}], [{'role': 'system', 'content': 'validate data'}, {'role': 'user', 'content': 'pluma,rosto,capa'}, {'role': 'assistant', 'content': '1'}], [{'role': 'system', 'content': 'validate data'}, {'role': 'user', 'content': 'hinog,tawid,alat'}, {'role': 'assistant', 'content': '1'}], [{'role': 'system', 'content': 'validate data'}, {'role': 'user', 'content': 'vonal,kalap,meleg'}, {'role': 'assistant', 'content': '1'}], [{'role': 'system', 'content': 'validate data'}, {'role': 'user', 'content': 'aintza,gari,kaisa'}, {'role': 'assistant', 'content': '1'}], [{'role': 'system', 'content': 'validate data'}, {'role': 'user', 'content': 'kutsu,tiempe,silta'}, {'role': 'assistant', 'content': '1'}], [{'role': 'system', 'content': 'validate data'}, {'role': 'user', 'content': 'taim,klase,bagay'}, {'role': 'assistant', 'content': '1'}], [{'role': 'system', 'content': 'validate data'}, {'role': 'user', 'content': 'viela,tuhka,lehto'}, {'role': 'assistant', 'content': '1'}], [{'role': 'system', 'content': 'validate data'}, {'role': 'user', 'content': 'amare,loco,tapas'}, {'role': 'assistant', 'content': '1'}], [{'role': 'system', 'content': 'validate data'}, {'role': 'user', 'content': 'bakat,hinog,huwag'}, {'role': 'assistant', 'content': '1'}], [{'role': 'system', 'content': 'validate data'}, {'role': 'user', 'content': 'saari,natt,valo'}, {'role': 'assistant', 'content': '1'}], [{'role': 'system', 'content': 'validate data'}, {'role': 'user', 'content': 'maksa,valoda,saka'}, {'role': 'assistant', 'content': '1'}], [{'role': 'system', 'content': 'validate data'}, {'role': 'user', 'content': 'suvi,lumi,vankka'}, {'role': 'assistant', 'content': '1'}], [{'role': 'system', 'content': 'validate data'}, {'role': 'user', 'content': 'kaisa,buruz,maisu'}, {'role': 'assistant', 'content': '1'}], [{'role': 'system', 'content': 'validate data'}, {'role': 'user', 'content': 'alat,kulay,oras'}, {'role': 'assistant', 'content': '1'}], [{'role': 'system', 'content': 'validate data'}, {'role': 'user', 'content': 'bulut,etxea,aintza'}, {'role': 'assistant', 'content': '1'}], [{'role': 'system', 'content': 'validate data'}, {'role': 'user', 'content': 'tavla,flod,strand'}, {'role': 'assistant', 'content': '1'}], [{'role': 'system', 'content': 'validate data'}, {'role': 'user', 'content': 'kaisa,azoka,gari'}, {'role': 'assistant', 'content': '1'}], [{'role': 'system', 'content': 'validate data'}, {'role': 'user', 'content': 'kutsu,sarvi,aamu'}, {'role': 'assistant', 'content': '1'}], [{'role': 'system', 'content': 'validate data'}, {'role': 'user', 'content': 'loco,nadie,amare'}, {'role': 'assistant', 'content': '1'}], [{'role': 'system', 'content': 'validate data'}, {'role': 'user', 'content': 'natt,rummet,manna'}, {'role': 'assistant', 'content': '1'}], [{'role': 'system', 'content': 'validate data'}, {'role': 'user', 'content': 'tavla,vagga,strand'}, {'role': 'assistant', 'content': '1'}], [{'role': 'system', 'content': 'validate data'}, {'role': 'user', 'content': 'valoda,saule,piekst'}, {'role': 'assistant', 'content': '1'}], [{'role': 'system', 'content': 'validate data'}, {'role': 'user', 'content': 'lavoura,estrada,carta'}, {'role': 'assistant', 'content': '1'}], [{'role': 'system', 'content': 'validate data'}, {'role': 'user', 'content': 'piekst,valoda,kaste'}, {'role': 'assistant', 'content': '1'}], [{'role': 'system', 'content': 'validate data'}, {'role': 'user', 'content': 'kasvu,naava,vankka'}, {'role': 'assistant', 'content': '1'}], [{'role': 'system', 'content': 'validate data'}, {'role': 'user', 'content': 'suunta,savu,lukea'}, {'role': 'assistant', 'content': '1'}], [{'role': 'system', 'content': 'validate data'}, {'role': 'user', 'content': 'pluma,morro,loco'}, {'role': 'assistant', 'content': '1'}], [{'role': 'system', 'content': 'validate data'}, {'role': 'user', 'content': 'bilis,tiada,asaw'}, {'role': 'assistant', 'content': '1'}], [{'role': 'system', 'content': 'validate data'}, {'role': 'user', 'content': 'darba,sekel,karums'}, {'role': 'assistant', 'content': '1'}], [{'role': 'system', 'content': 'validate data'}, {'role': 'user', 'content': 'lavoura,pomar,estilo'}, {'role': 'assistant', 'content': '1'}], [{'role': 'system', 'content': 'validate data'}, {'role': 'user', 'content': 'kangas,tuhka,lehto'}, {'role': 'assistant', 'content': '1'}], [{'role': 'system', 'content': 'validate data'}, {'role': 'user', 'content': 'huwag,bagay,araw'}, {'role': 'assistant', 'content': '1'}], [{'role': 'system', 'content': 'validate data'}, {'role': 'user', 'content': 'lembro,perder,tapas'}, {'role': 'assistant', 'content': '1'}], [{'role': 'system', 'content': 'validate data'}, {'role': 'user', 'content': 'sored,coeden,llwch'}, {'role': 'assistant', 'content': '1'}], [{'role': 'system', 'content': 'validate data'}, {'role': 'user', 'content': 'tiada,araw,huwa'}, {'role': 'assistant', 'content': '1'}], [{'role': 'system', 'content': 'validate data'}, {'role': 'user', 'content': 'kilpa,ruoka,suvi'}, {'role': 'assistant', 'content': '1'}], [{'role': 'system', 'content': 'validate data'}, {'role': 'user', 'content': 'loco,perda,rosto'}, {'role': 'assistant', 'content': '1'}], [{'role': 'system', 'content': 'validate data'}, {'role': 'user', 'content': 'strand,vagga,brunn'}, {'role': 'assistant', 'content': '1'}], [{'role': 'system', 'content': 'validate data'}, {'role': 'user', 'content': 'juuri,aurinko,naava'}, {'role': 'assistant', 'content': '1'}], [{'role': 'system', 'content': 'validate data'}, {'role': 'user', 'content': 'vankka,suvi,pallo'}, {'role': 'assistant', 'content': '1'}], [{'role': 'system', 'content': 'validate data'}, {'role': 'user', 'content': 'segir,gaban,dator'}, {'role': 'assistant', 'content': '1'}], [{'role': 'system', 'content': 'validate data'}, {'role': 'user', 'content': 'ranta,aurinko,savu'}, {'role': 'assistant', 'content': '1'}], [{'role': 'system', 'content': 'validate data'}, {'role': 'user', 'content': 'aintza,beroa,txori'}, {'role': 'assistant', 'content': '1'}], [{'role': 'system', 'content': 'validate data'}, {'role': 'user', 'content': 'kanto,bilis,pusu'}, {'role': 'assistant', 'content': '1'}], [{'role': 'system', 'content': 'validate data'}, {'role': 'user', 'content': 'naida,tiempe,juuri'}, {'role': 'assistant', 'content': '1'}], [{'role': 'system', 'content': 'validate data'}, {'role': 'user', 'content': 'piekst,saule,sekel'}, {'role': 'assistant', 'content': '1'}], [{'role': 'system', 'content': 'validate data'}, {'role': 'user', 'content': 'kupla,parit,talo'}, {'role': 'assistant', 'content': '1'}], [{'role': 'system', 'content': 'validate data'}, {'role': 'user', 'content': 'kauppa,hattu,lukea'}, {'role': 'assistant', 'content': '1'}], [{'role': 'system', 'content': 'validate data'}, {'role': 'user', 'content': 'caixa,lembro,talvez'}, {'role': 'assistant', 'content': '1'}], [{'role': 'system', 'content': 'validate data'}, {'role': 'user', 'content': 'estilo,abriu,caixa'}, {'role': 'assistant', 'content': '1'}], [{'role': 'system', 'content': 'validate data'}, {'role': 'user', 'content': 'bulut,barru,buruz'}, {'role': 'assistant', 'content': '1'}], [{'role': 'system', 'content': 'validate data'}, {'role': 'user', 'content': 'kalma,pusu,bilis'}, {'role': 'assistant', 'content': '1'}], [{'role': 'system', 'content': 'validate data'}, {'role': 'user', 'content': 'tytar,vankka,puhelin'}, {'role': 'assistant', 'content': '1'}], [{'role': 'system', 'content': 'validate data'}, {'role': 'user', 'content': 'gwenu,llwch,noson'}, {'role': 'assistant', 'content': '1'}], [{'role': 'system', 'content': 'validate data'}, {'role': 'user', 'content': 'agos,taim,pusu'}, {'role': 'assistant', 'content': '1'}], [{'role': 'system', 'content': 'validate data'}, {'role': 'user', 'content': 'branco,perder,perda'}, {'role': 'assistant', 'content': '1'}], [{'role': 'system', 'content': 'validate data'}, {'role': 'user', 'content': 'hetki,kuusi,silta'}, {'role': 'assistant', 'content': '1'}], [{'role': 'system', 'content': 'validate data'}, {'role': 'user', 'content': 'pagod,dulog,taim'}, {'role': 'assistant', 'content': '1'}], [{'role': 'system', 'content': 'validate data'}, {'role': 'user', 'content': 'berde,tantas,dagiti'}, {'role': 'assistant', 'content': '1'}], [{'role': 'system', 'content': 'validate data'}, {'role': 'user', 'content': 'tenger,kalina,meleg'}, {'role': 'assistant', 'content': '1'}], [{'role': 'system', 'content': 'validate data'}, {'role': 'user', 'content': 'herra,suvi,aika'}, {'role': 'assistant', 'content': '1'}], [{'role': 'system', 'content': 'validate data'}, {'role': 'user', 'content': 'feliz,capa,lembro'}, {'role': 'assistant', 'content': '1'}], [{'role': 'system', 'content': 'validate data'}, {'role': 'user', 'content': 'alat,tawid,berde'}, {'role': 'assistant', 'content': '1'}], [{'role': 'system', 'content': 'validate data'}, {'role': 'user', 'content': 'llachar,hyhi,noson'}, {'role': 'assistant', 'content': '1'}], [{'role': 'system', 'content': 'validate data'}, {'role': 'user', 'content': 'saule,telpa,saka'}, {'role': 'assistant', 'content': '1'}], [{'role': 'system', 'content': 'validate data'}, {'role': 'user', 'content': 'maksu,parit,kengat'}, {'role': 'assistant', 'content': '1'}], [{'role': 'system', 'content': 'validate data'}, {'role': 'user', 'content': 'ranta,silloin,hattu'}, {'role': 'assistant', 'content': '1'}], [{'role': 'system', 'content': 'validate data'}, {'role': 'user', 'content': 'sarvi,parit,jyvat'}, {'role': 'assistant', 'content': '1'}], [{'role': 'system', 'content': 'validate data'}, {'role': 'user', 'content': 'pallo,ruoka,juuri'}, {'role': 'assistant', 'content': '1'}], [{'role': 'system', 'content': 'validate data'}, {'role': 'user', 'content': 'golau,pellter,llachar'}, {'role': 'assistant', 'content': '1'}], [{'role': 'system', 'content': 'validate data'}, {'role': 'user', 'content': 'agos,dulog,sukat'}, {'role': 'assistant', 'content': '1'}], [{'role': 'system', 'content': 'validate data'}, {'role': 'user', 'content': 'tytar,savi,silloin'}, {'role': 'assistant', 'content': '1'}], [{'role': 'system', 'content': 'validate data'}, {'role': 'user', 'content': 'lasku,kiekko,ruoka'}, {'role': 'assistant', 'content': '1'}], [{'role': 'system', 'content': 'validate data'}, {'role': 'user', 'content': 'satu,tantas,dulog'}, {'role': 'assistant', 'content': '1'}], [{'role': 'system', 'content': 'validate data'}, {'role': 'user', 'content': 'hangin,asaw,huwag'}, {'role': 'assistant', 'content': '1'}], [{'role': 'system', 'content': 'validate data'}, {'role': 'user', 'content': 'dagiti,karne,dulog'}, {'role': 'assistant', 'content': '1'}], [{'role': 'system', 'content': 'validate data'}, {'role': 'user', 'content': 'karne,tawid,asaw'}, {'role': 'assistant', 'content': '1'}], [{'role': 'system', 'content': 'validate data'}, {'role': 'user', 'content': 'bwrdd,coeden,trefnu'}, {'role': 'assistant', 'content': '1'}], [{'role': 'system', 'content': 'validate data'}, {'role': 'user', 'content': 'vinho,estrada,talvez'}, {'role': 'assistant', 'content': '1'}], [{'role': 'system', 'content': 'validate data'}, {'role': 'user', 'content': 'teclyn,llwyd,cefndir'}, {'role': 'assistant', 'content': '1'}], [{'role': 'system', 'content': 'validate data'}, {'role': 'user', 'content': 'moln,brunn,flod'}, {'role': 'assistant', 'content': '1'}], [{'role': 'system', 'content': 'validate data'}, {'role': 'user', 'content': 'branco,estante,estrada'}, {'role': 'assistant', 'content': '1'}], [{'role': 'system', 'content': 'validate data'}, {'role': 'user', 'content': 'sarna,tavla,dager'}, {'role': 'assistant', 'content': '1'}], [{'role': 'system', 'content': 'validate data'}, {'role': 'user', 'content': 'huwa,meron,klase'}, {'role': 'assistant', 'content': '1'}], [{'role': 'system', 'content': 'validate data'}, {'role': 'user', 'content': 'llwyd,bachgen,trefnu'}, {'role': 'assistant', 'content': '1'}], [{'role': 'system', 'content': 'validate data'}, {'role': 'user', 'content': 'muitos,lavoura,pomar'}, {'role': 'assistant', 'content': '1'}], [{'role': 'system', 'content': 'validate data'}, {'role': 'user', 'content': 'munud,trefnu,hyhi'}, {'role': 'assistant', 'content': '1'}], [{'role': 'system', 'content': 'validate data'}, {'role': 'user', 'content': 'llwyd,pellter,cefndir'}, {'role': 'assistant', 'content': '1'}], [{'role': 'system', 'content': 'validate data'}, {'role': 'user', 'content': 'karine,puhelin,naida'}, {'role': 'assistant', 'content': '1'}], [{'role': 'system', 'content': 'validate data'}, {'role': 'user', 'content': 'kupla,aika,parit'}, {'role': 'assistant', 'content': '1'}], [{'role': 'system', 'content': 'validate data'}, {'role': 'user', 'content': 'vagga,moln,flod'}, {'role': 'assistant', 'content': '1'}], [{'role': 'system', 'content': 'validate data'}, {'role': 'user', 'content': 'talo,tehdas,kupla'}, {'role': 'assistant', 'content': '1'}], [{'role': 'system', 'content': 'validate data'}, {'role': 'user', 'content': 'corda,talvez,abriu'}, {'role': 'assistant', 'content': '1'}], [{'role': 'system', 'content': 'validate data'}, {'role': 'user', 'content': 'kannel,zelta,galds'}, {'role': 'assistant', 'content': '1'}], [{'role': 'system', 'content': 'validate data'}, {'role': 'user', 'content': 'saule,skola,diena'}, {'role': 'assistant', 'content': '1'}], [{'role': 'system', 'content': 'validate data'}, {'role': 'user', 'content': 'puhelin,neula,tehdas'}, {'role': 'assistant', 'content': '1'}], [{'role': 'system', 'content': 'validate data'}, {'role': 'user', 'content': 'bilang,kanto,araw'}, {'role': 'assistant', 'content': '1'}], [{'role': 'system', 'content': 'validate data'}, {'role': 'user', 'content': 'oros,satu,meron'}, {'role': 'assistant', 'content': '1'}], [{'role': 'system', 'content': 'validate data'}, {'role': 'user', 'content': 'maata,valo,tiempe'}, {'role': 'assistant', 'content': '1'}], [{'role': 'system', 'content': 'validate data'}, {'role': 'user', 'content': 'sekel,skola,ilgums'}, {'role': 'assistant', 'content': '1'}], [{'role': 'system', 'content': 'validate data'}, {'role': 'user', 'content': 'dator,etxea,maisu'}, {'role': 'assistant', 'content': '1'}], [{'role': 'system', 'content': 'validate data'}, {'role': 'user', 'content': 'karine,kupla,ruoka'}, {'role': 'assistant', 'content': '1'}], [{'role': 'system', 'content': 'validate data'}, {'role': 'user', 'content': 'kauppa,silloin,puhelin'}, {'role': 'assistant', 'content': '1'}], [{'role': 'system', 'content': 'validate data'}, {'role': 'user', 'content': 'silla,forma,nadie'}, {'role': 'assistant', 'content': '1'}], [{'role': 'system', 'content': 'validate data'}, {'role': 'user', 'content': 'tapas,amare,corda'}, {'role': 'assistant', 'content': '1'}], [{'role': 'system', 'content': 'validate data'}, {'role': 'user', 'content': 'tuuli,naida,aika'}, {'role': 'assistant', 'content': '1'}], [{'role': 'system', 'content': 'validate data'}, {'role': 'user', 'content': 'flod,moln,tavla'}, {'role': 'assistant', 'content': '1'}], [{'role': 'system', 'content': 'validate data'}, {'role': 'user', 'content': 'kamar,tantas,satu'}, {'role': 'assistant', 'content': '1'}], [{'role': 'system', 'content': 'validate data'}, {'role': 'user', 'content': 'giro,galdu,azoka'}, {'role': 'assistant', 'content': '1'}], [{'role': 'system', 'content': 'validate data'}, {'role': 'user', 'content': 'hattu,silta,peite'}, {'role': 'assistant', 'content': '1'}], [{'role': 'system', 'content': 'validate data'}, {'role': 'user', 'content': 'hyhi,noson,trefnu'}, {'role': 'assistant', 'content': '1'}], [{'role': 'system', 'content': 'validate data'}, {'role': 'user', 'content': 'amar,kezka,kalma'}, {'role': 'assistant', 'content': '1'}], [{'role': 'system', 'content': 'validate data'}, {'role': 'user', 'content': 'kuha,zelta,saka'}, {'role': 'assistant', 'content': '1'}], [{'role': 'system', 'content': 'validate data'}, {'role': 'user', 'content': 'hagos,diwa,kulay'}, {'role': 'assistant', 'content': '1'}], [{'role': 'system', 'content': 'validate data'}, {'role': 'user', 'content': 'lasku,vankka,neula'}, {'role': 'assistant', 'content': '1'}], [{'role': 'system', 'content': 'validate data'}, {'role': 'user', 'content': 'llawr,hyhi,llachar'}, {'role': 'assistant', 'content': '1'}], [{'role': 'system', 'content': 'validate data'}, {'role': 'user', 'content': 'silla,sabor,pluma'}, {'role': 'assistant', 'content': '1'}], [{'role': 'system', 'content': 'validate data'}, {'role': 'user', 'content': 'kangas,jyvat,kengat'}, {'role': 'assistant', 'content': '1'}], [{'role': 'system', 'content': 'validate data'}, {'role': 'user', 'content': 'telpa,saka,sekel'}, {'role': 'assistant', 'content': '1'}], [{'role': 'system', 'content': 'validate data'}, {'role': 'user', 'content': 'caixa,vinho,branco'}, {'role': 'assistant', 'content': '1'}], [{'role': 'system', 'content': 'validate data'}, {'role': 'user', 'content': 'dulog,alat,asaw'}, {'role': 'assistant', 'content': '1'}], [{'role': 'system', 'content': 'validate data'}, {'role': 'user', 'content': 'lasku,karine,maata'}, {'role': 'assistant', 'content': '1'}], [{'role': 'system', 'content': 'validate data'}, {'role': 'user', 'content': ''}, {'role': 'assistant', 'content': '1'}], [{'role': 'system', 'content': 'validate data'}, {'role': 'user', 'content': 'pulpet,vinst,tråd'}, {'role': 'assistant', 'content': '0'}], [{'role': 'system', 'content': 'validate data'}, {'role': 'user', 'content': 'etxea,cyntaf,luku'}, {'role': 'assistant', 'content': '0'}], [{'role': 'system', 'content': 'validate data'}, {'role': 'user', 'content': 'haurra,yndys,peruna'}, {'role': 'assistant', 'content': '0'}], [{'role': 'system', 'content': 'validate data'}, {'role': 'user', 'content': 'taide,leite,mota'}, {'role': 'assistant', 'content': '0'}], [{'role': 'system', 'content': 'validate data'}, {'role': 'user', 'content': 'saraf,maki,gula'}, {'role': 'assistant', 'content': '0'}], [{'role': 'system', 'content': 'validate data'}, {'role': 'user', 'content': 'mawar,prism,susu'}, {'role': 'assistant', 'content': '0'}], [{'role': 'system', 'content': 'validate data'}, {'role': 'user', 'content': 'llyfr,planta,vinho'}, {'role': 'assistant', 'content': '0'}], [{'role': 'system', 'content': 'validate data'}, {'role': 'user', 'content': 'enerģija,koti,onda'}, {'role': 'assistant', 'content': '0'}], [{'role': 'system', 'content': 'validate data'}, {'role': 'user', 'content': 'elpis,kalung,bord'}, {'role': 'assistant', 'content': '0'}], [{'role': 'system', 'content': 'validate data'}, {'role': 'user', 'content': 'teraz,agora,abia'}, {'role': 'assistant', 'content': '0'}], [{'role': 'system', 'content': 'validate data'}, {'role': 'user', 'content': 'sariawan,ízület,klippa'}, {'role': 'assistant', 'content': '0'}], [{'role': 'system', 'content': 'validate data'}, {'role': 'user', 'content': 'heder,mardröm,kärlek'}, {'role': 'assistant', 'content': '0'}], [{'role': 'system', 'content': 'validate data'}, {'role': 'user', 'content': 'hapu,seda,chuva'}, {'role': 'assistant', 'content': '0'}], [{'role': 'system', 'content': 'validate data'}, {'role': 'user', 'content': 'kutsu,gato,madarak'}, {'role': 'assistant', 'content': '0'}], [{'role': 'system', 'content': 'validate data'}, {'role': 'user', 'content': 'surun,cariad,isuna'}, {'role': 'assistant', 'content': '0'}], [{'role': 'system', 'content': 'validate data'}, {'role': 'user', 'content': 'salle,galdetu,tangan'}, {'role': 'assistant', 'content': '0'}], [{'role': 'system', 'content': 'validate data'}, {'role': 'user', 'content': 'nuvem,fénykép,golpe'}, {'role': 'assistant', 'content': '0'}], [{'role': 'system', 'content': 'validate data'}, {'role': 'user', 'content': 'olahraga,bantuan,kereta'}, {'role': 'assistant', 'content': '0'}], [{'role': 'system', 'content': 'validate data'}, {'role': 'user', 'content': 'enkel,puu,salu'}, {'role': 'assistant', 'content': '0'}], [{'role': 'system', 'content': 'validate data'}, {'role': 'user', 'content': 'segl,betyg,rotta'}, {'role': 'assistant', 'content': '0'}], [{'role': 'system', 'content': 'validate data'}, {'role': 'user', 'content': 'árbol,fagyos,blomma'}, {'role': 'assistant', 'content': '0'}], [{'role': 'system', 'content': 'validate data'}, {'role': 'user', 'content': 'punainen,berde,preto'}, {'role': 'assistant', 'content': '0'}], [{'role': 'system', 'content': 'validate data'}, {'role': 'user', 'content': 'rauha,drwg,baso'}, {'role': 'assistant', 'content': '0'}], [{'role': 'system', 'content': 'validate data'}, {'role': 'user', 'content': 'kasvojen,silmä,laba'}, {'role': 'assistant', 'content': '0'}], [{'role': 'system', 'content': 'validate data'}, {'role': 'user', 'content': 'lihakset,kulit,gwefus'}, {'role': 'assistant', 'content': '0'}], [{'role': 'system', 'content': 'validate data'}, {'role': 'user', 'content': 'kutya,etxe,madár'}, {'role': 'assistant', 'content': '0'}], [{'role': 'system', 'content': 'validate data'}, {'role': 'user', 'content': 'gyllene,lövő,prata'}, {'role': 'assistant', 'content': '0'}], [{'role': 'system', 'content': 'validate data'}, {'role': 'user', 'content': 'enamorar,bertan,tycio'}, {'role': 'assistant', 'content': '0'}], [{'role': 'system', 'content': 'validate data'}, {'role': 'user', 'content': 'ranta,praia,kust'}, {'role': 'assistant', 'content': '0'}], [{'role': 'system', 'content': 'validate data'}, {'role': 'user', 'content': 'kapital,tőke,dinheiro'}, {'role': 'assistant', 'content': '0'}], [{'role': 'system', 'content': 'validate data'}, {'role': 'user', 'content': 'kylmä,hamog,kedves'}, {'role': 'assistant', 'content': '0'}], [{'role': 'system', 'content': 'validate data'}, {'role': 'user', 'content': 'karam,hegy,mező'}, {'role': 'assistant', 'content': '0'}], [{'role': 'system', 'content': 'validate data'}, {'role': 'user', 'content': 'txakur,kissa,rua'}, {'role': 'assistant', 'content': '0'}], [{'role': 'system', 'content': 'validate data'}, {'role': 'user', 'content': 'sátor,teltta,paarma'}, {'role': 'assistant', 'content': '0'}], [{'role': 'system', 'content': 'validate data'}, {'role': 'user', 'content': 'sírás,kalpa,lágrima'}, {'role': 'assistant', 'content': '0'}], [{'role': 'system', 'content': 'validate data'}, {'role': 'user', 'content': 'ezüst,guld,selver'}, {'role': 'assistant', 'content': '0'}], [{'role': 'system', 'content': 'validate data'}, {'role': 'user', 'content': 'betűk,burat,letra'}, {'role': 'assistant', 'content': '0'}], [{'role': 'system', 'content': 'validate data'}, {'role': 'user', 'content': 'tuhat,ezer,mil'}, {'role': 'assistant', 'content': '0'}], [{'role': 'system', 'content': 'validate data'}, {'role': 'user', 'content': 'suudelma,csók,beijo'}, {'role': 'assistant', 'content': '0'}], [{'role': 'system', 'content': 'validate data'}, {'role': 'user', 'content': 'puutarha,kert,jardim'}, {'role': 'assistant', 'content': '0'}], [{'role': 'system', 'content': 'validate data'}, {'role': 'user', 'content': 'aarde,mente,chão'}, {'role': 'assistant', 'content': '0'}], [{'role': 'system', 'content': 'validate data'}, {'role': 'user', 'content': 'chwarae,gra,játék'}, {'role': 'assistant', 'content': '0'}], [{'role': 'system', 'content': 'validate data'}, {'role': 'user', 'content': 'urdin,azul,biru'}, {'role': 'assistant', 'content': '0'}], [{'role': 'system', 'content': 'validate data'}, {'role': 'user', 'content': 'metsä,skogen,erdő'}, {'role': 'assistant', 'content': '0'}], [{'role': 'system', 'content': 'validate data'}, {'role': 'user', 'content': 'vágni,corte,cortar'}, {'role': 'assistant', 'content': '0'}], [{'role': 'system', 'content': 'validate data'}, {'role': 'user', 'content': 'szív,hjärta,serce'}, {'role': 'assistant', 'content': '0'}], [{'role': 'system', 'content': 'validate data'}, {'role': 'user', 'content': 'vaimo,esposa,feleség'}, {'role': 'assistant', 'content': '0'}], [{'role': 'system', 'content': 'validate data'}, {'role': 'user', 'content': 'meri,sjö,tenger'}, {'role': 'assistant', 'content': '0'}], [{'role': 'system', 'content': 'validate data'}, {'role': 'user', 'content': 'ezüst,prata,hopea'}, {'role': 'assistant', 'content': '0'}], [{'role': 'system', 'content': 'validate data'}, {'role': 'user', 'content': 'könnyek,dagrau,kyyneleet'}, {'role': 'assistant', 'content': '0'}], [{'role': 'system', 'content': 'validate data'}, {'role': 'user', 'content': 'lobo,susi,farkas'}, {'role': 'assistant', 'content': '0'}], [{'role': 'system', 'content': 'validate data'}, {'role': 'user', 'content': 'gyfrinachol,titkos,hemlig'}, {'role': 'assistant', 'content': '0'}], [{'role': 'system', 'content': 'validate data'}, {'role': 'user', 'content': 'berde,verde,zöld'}, {'role': 'assistant', 'content': '0'}], [{'role': 'system', 'content': 'validate data'}, {'role': 'user', 'content': 'pantalon,nadrág,housut'}, {'role': 'assistant', 'content': '0'}], [{'role': 'system', 'content': 'validate data'}, {'role': 'user', 'content': 'esne,leite,tej'}, {'role': 'assistant', 'content': '0'}], [{'role': 'system', 'content': 'validate data'}, {'role': 'user', 'content': 'zökkenő,hoppe,salto'}, {'role': 'assistant', 'content': '0'}], [{'role': 'system', 'content': 'validate data'}, {'role': 'user', 'content': 'llawen,boldog,feliz'}, {'role': 'assistant', 'content': '0'}], [{'role': 'system', 'content': 'validate data'}, {'role': 'user', 'content': 'pedwar,négy,four'}, {'role': 'assistant', 'content': '0'}], [{'role': 'system', 'content': 'validate data'}, {'role': 'user', 'content': 'tân,tűz,fogo'}, {'role': 'assistant', 'content': '0'}], [{'role': 'system', 'content': 'validate data'}, {'role': 'user', 'content': 'breuddwyd,álom,sonho'}, {'role': 'assistant', 'content': '0'}], [{'role': 'system', 'content': 'validate data'}, {'role': 'user', 'content': 'gwres,meleg,calor'}, {'role': 'assistant', 'content': '0'}], [{'role': 'system', 'content': 'validate data'}, {'role': 'user', 'content': 'galar,bánat,tristeza'}, {'role': 'assistant', 'content': '0'}], [{'role': 'system', 'content': 'validate data'}, {'role': 'user', 'content': 'vihreä,berde,zöld'}, {'role': 'assistant', 'content': '0'}], [{'role': 'system', 'content': 'validate data'}, {'role': 'user', 'content': 'stol,asztal,mesa'}, {'role': 'assistant', 'content': '0'}], [{'role': 'system', 'content': 'validate data'}, {'role': 'user', 'content': 'glaw,eső,chuva'}, {'role': 'assistant', 'content': '0'}], [{'role': 'system', 'content': 'validate data'}, {'role': 'user', 'content': 'stryd,utca,rua'}, {'role': 'assistant', 'content': '0'}], [{'role': 'system', 'content': 'validate data'}, {'role': 'user', 'content': 'atokirri,reszkető,tremeluz'}, {'role': 'assistant', 'content': '0'}], [{'role': 'system', 'content': 'validate data'}, {'role': 'user', 'content': 'beltz,fekete,preto'}, {'role': 'assistant', 'content': '0'}], [{'role': 'system', 'content': 'validate data'}, {'role': 'user', 'content': 'txikia,kicsi,pequeno'}, {'role': 'assistant', 'content': '0'}], [{'role': 'system', 'content': 'validate data'}, {'role': 'user', 'content': 'ezkutatu,rejt,ocultar'}, {'role': 'assistant', 'content': '0'}], [{'role': 'system', 'content': 'validate data'}, {'role': 'user', 'content': 'lindo,szép,vacker'}, {'role': 'assistant', 'content': '0'}], [{'role': 'system', 'content': 'validate data'}, {'role': 'user', 'content': 'magkapareho,hasonló,similar'}, {'role': 'assistant', 'content': '0'}], [{'role': 'system', 'content': 'validate data'}, {'role': 'user', 'content': 'salbadera,mentés,salvar'}, {'role': 'assistant', 'content': '0'}], [{'role': 'system', 'content': 'validate data'}, {'role': 'user', 'content': 'marinheiro,tengerész,marinari'}, {'role': 'assistant', 'content': '0'}], [{'role': 'system', 'content': 'validate data'}, {'role': 'user', 'content': 'hüppelaud,trampolim,trampolí'}, {'role': 'assistant', 'content': '0'}], [{'role': 'system', 'content': 'validate data'}, {'role': 'user', 'content': 'közel,perto,lähellä'}, {'role': 'assistant', 'content': '0'}], [{'role': 'system', 'content': 'validate data'}, {'role': 'user', 'content': 'lámpás,lanterna,lyhty'}, {'role': 'assistant', 'content': '0'}], [{'role': 'system', 'content': 'validate data'}, {'role': 'user', 'content': 'cefnogi,támogat,suportar'}, {'role': 'assistant', 'content': '0'}], [{'role': 'system', 'content': 'validate data'}, {'role': 'user', 'content': 'hajó,laiva,barco'}, {'role': 'assistant', 'content': '0'}], [{'role': 'system', 'content': 'validate data'}, {'role': 'user', 'content': 'szamóca,mansikka,morango'}, {'role': 'assistant', 'content': '0'}], [{'role': 'system', 'content': 'validate data'}, {'role': 'user', 'content': 'nővér,syster,irmã'}, {'role': 'assistant', 'content': '0'}], [{'role': 'system', 'content': 'validate data'}, {'role': 'user', 'content': 'palota,palácio,palatsi'}, {'role': 'assistant', 'content': '0'}], [{'role': 'system', 'content': 'validate data'}, {'role': 'user', 'content': 'bársony,sametti,veludo'}, {'role': 'assistant', 'content': '0'}], [{'role': 'system', 'content': 'validate data'}, {'role': 'user', 'content': 'terv,plano,plano'}, {'role': 'assistant', 'content': '0'}], [{'role': 'system', 'content': 'validate data'}, {'role': 'user', 'content': 'värav,portão,kapu'}, {'role': 'assistant', 'content': '0'}], [{'role': 'system', 'content': 'validate data'}, {'role': 'user', 'content': 'bérlet,aluguel,vuokra'}, {'role': 'assistant', 'content': '0'}], [{'role': 'system', 'content': 'validate data'}, {'role': 'user', 'content': 'szakács,kokki,cozinheiro'}, {'role': 'assistant', 'content': '0'}], [{'role': 'system', 'content': 'validate data'}, {'role': 'user', 'content': 'selymes,sedoso,silkkinen'}, {'role': 'assistant', 'content': '0'}], [{'role': 'system', 'content': 'validate data'}, {'role': 'user', 'content': 'kerek,redondo,pyöreä'}, {'role': 'assistant', 'content': '0'}], [{'role': 'system', 'content': 'validate data'}, {'role': 'user', 'content': 'labda,bola,pallo'}, {'role': 'assistant', 'content': '0'}], [{'role': 'system', 'content': 'validate data'}, {'role': 'user', 'content': 'matto,tapete,szőnyeg'}, {'role': 'assistant', 'content': '0'}], [{'role': 'system', 'content': 'validate data'}, {'role': 'user', 'content': 'pele,bőr,iho'}, {'role': 'assistant', 'content': '0'}], [{'role': 'system', 'content': 'validate data'}, {'role': 'user', 'content': 'pluma,toll,penna'}, {'role': 'assistant', 'content': '0'}], [{'role': 'system', 'content': 'validate data'}, {'role': 'user', 'content': 'surat,letra,levél'}, {'role': 'assistant', 'content': '0'}], [{'role': 'system', 'content': 'validate data'}, {'role': 'user', 'content': 'gwely,ágy,cama'}, {'role': 'assistant', 'content': '0'}], [{'role': 'system', 'content': 'validate data'}, {'role': 'user', 'content': 'nefoedd,menny,céu'}, {'role': 'assistant', 'content': '0'}], [{'role': 'system', 'content': 'validate data'}, {'role': 'user', 'content': 'cath,macska,gato'}, {'role': 'assistant', 'content': '0'}], [{'role': 'system', 'content': 'validate data'}, {'role': 'user', 'content': 'cyllell,kés,faca'}, {'role': 'assistant', 'content': '0'}], [{'role': 'system', 'content': 'validate data'}, {'role': 'user', 'content': 'tost,pirítós,torrada'}, {'role': 'assistant', 'content': '0'}], [{'role': 'system', 'content': 'validate data'}, {'role': 'user', 'content': 'tsiliwng,tetőtér,sótão'}, {'role': 'assistant', 'content': '0'}], [{'role': 'system', 'content': 'validate data'}, {'role': 'user', 'content': 'ysgol,iskola,escola'}, {'role': 'assistant', 'content': '0'}], [{'role': 'system', 'content': 'validate data'}, {'role': 'user', 'content': 'gistak,orrszarvú,rinoceronte'}, {'role': 'assistant', 'content': '0'}], [{'role': 'system', 'content': 'validate data'}, {'role': 'user', 'content': 'tangan,aklat,kapre'}, {'role': 'assistant', 'content': '0'}], [{'role': 'system', 'content': 'validate data'}, {'role': 'user', 'content': 'gwyliau,utazás,viagem'}, {'role': 'assistant', 'content': '0'}], [{'role': 'system', 'content': 'validate data'}, {'role': 'user', 'content': 'palla,labda,bola'}, {'role': 'assistant', 'content': '0'}], [{'role': 'system', 'content': 'validate data'}, {'role': 'user', 'content': 'ilma,vreme,idő'}, {'role': 'assistant', 'content': '0'}], [{'role': 'system', 'content': 'validate data'}, {'role': 'user', 'content': 'amatxo,anya,mãe'}, {'role': 'assistant', 'content': '0'}], [{'role': 'system', 'content': 'validate data'}, {'role': 'user', 'content': 'saippua,xabón,sabão'}, {'role': 'assistant', 'content': '0'}], [{'role': 'system', 'content': 'validate data'}, {'role': 'user', 'content': 'puhelin,telefon,telefone'}, {'role': 'assistant', 'content': '0'}], [{'role': 'system', 'content': 'validate data'}, {'role': 'user', 'content': 'dalar,fájdalom,dor'}, {'role': 'assistant', 'content': '0'}], [{'role': 'system', 'content': 'validate data'}, {'role': 'user', 'content': 'noson,éjszaka,notte'}, {'role': 'assistant', 'content': '0'}], [{'role': 'system', 'content': 'validate data'}, {'role': 'user', 'content': 'metsästys,vadászat,caça'}, {'role': 'assistant', 'content': '0'}], [{'role': 'system', 'content': 'validate data'}, {'role': 'user', 'content': 'canu,énekel,cantar'}, {'role': 'assistant', 'content': '0'}], [{'role': 'system', 'content': 'validate data'}, {'role': 'user', 'content': 'mawredd,nagyság,grandeza'}, {'role': 'assistant', 'content': '0'}], [{'role': 'system', 'content': 'validate data'}, {'role': 'user', 'content': 'rövid,kort,curto'}, {'role': 'assistant', 'content': '0'}], [{'role': 'system', 'content': 'validate data'}, {'role': 'user', 'content': 'alacsony,låg,baixo'}, {'role': 'assistant', 'content': '0'}], [{'role': 'system', 'content': 'validate data'}, {'role': 'user', 'content': 'saudade,honvágy,kaipaus'}, {'role': 'assistant', 'content': '0'}], [{'role': 'system', 'content': 'validate data'}, {'role': 'user', 'content': 'tiikeri,tigre,tigris'}, {'role': 'assistant', 'content': '0'}], [{'role': 'system', 'content': 'validate data'}, {'role': 'user', 'content': 'selkä,hát,costas'}, {'role': 'assistant', 'content': '0'}], [{'role': 'system', 'content': 'validate data'}, {'role': 'user', 'content': 'vér,sangue,veri'}, {'role': 'assistant', 'content': '0'}], [{'role': 'system', 'content': 'validate data'}, {'role': 'user', 'content': 'lábak,jalat,pernas'}, {'role': 'assistant', 'content': '0'}], [{'role': 'system', 'content': 'validate data'}, {'role': 'user', 'content': 'hielo,jég,jää'}, {'role': 'assistant', 'content': '0'}], [{'role': 'system', 'content': 'validate data'}, {'role': 'user', 'content': 'amser,idő,tempo'}, {'role': 'assistant', 'content': '0'}], [{'role': 'system', 'content': 'validate data'}, {'role': 'user', 'content': 'kelta,sárga,amarelo'}, {'role': 'assistant', 'content': '0'}], [{'role': 'system', 'content': 'validate data'}, {'role': 'user', 'content': 'oldat,solução,ratkaisu'}, {'role': 'assistant', 'content': '0'}], [{'role': 'system', 'content': 'validate data'}, {'role': 'user', 'content': 'laiva,hajó,navio'}, {'role': 'assistant', 'content': '0'}], [{'role': 'system', 'content': 'validate data'}, {'role': 'user', 'content': 'eräs,yksi,egy'}, {'role': 'assistant', 'content': '0'}], [{'role': 'system', 'content': 'validate data'}, {'role': 'user', 'content': 'korkea,alto,magas'}, {'role': 'assistant', 'content': '0'}], [{'role': 'system', 'content': 'validate data'}, {'role': 'user', 'content': 'biru,azul,kék'}, {'role': 'assistant', 'content': '0'}], [{'role': 'system', 'content': 'validate data'}, {'role': 'user', 'content': 'perhe,család,família'}, {'role': 'assistant', 'content': '0'}], [{'role': 'system', 'content': 'validate data'}, {'role': 'user', 'content': 'hatalom,makt,poder'}, {'role': 'assistant', 'content': '0'}], [{'role': 'system', 'content': 'validate data'}, {'role': 'user', 'content': 'bizon,biztonság,segurança'}, {'role': 'assistant', 'content': '0'}], [{'role': 'system', 'content': 'validate data'}, {'role': 'user', 'content': 'magkano,hinta,preço'}, {'role': 'assistant', 'content': '0'}], [{'role': 'system', 'content': 'validate data'}, {'role': 'user', 'content': 'bukod,különálló,separado'}, {'role': 'assistant', 'content': '0'}], [{'role': 'system', 'content': 'validate data'}, {'role': 'user', 'content': 'gwinllan,szőlőskert,vinhedo'}, {'role': 'assistant', 'content': '0'}], [{'role': 'system', 'content': 'validate data'}, {'role': 'user', 'content': 'hegyoldal,hillside,rinne'}, {'role': 'assistant', 'content': '0'}], [{'role': 'system', 'content': 'validate data'}, {'role': 'user', 'content': 'ikävä,szomorú,triste'}, {'role': 'assistant', 'content': '0'}], [{'role': 'system', 'content': 'validate data'}, {'role': 'user', 'content': 'chwerthin,nevetés,risada'}, {'role': 'assistant', 'content': '0'}], [{'role': 'system', 'content': 'validate data'}, {'role': 'user', 'content': 'túlvilág,além,tuonpuoleinen'}, {'role': 'assistant', 'content': '0'}], [{'role': 'system', 'content': 'validate data'}, {'role': 'user', 'content': 'hegazkina,avião,repülő'}, {'role': 'assistant', 'content': '0'}], [{'role': 'system', 'content': 'validate data'}, {'role': 'user', 'content': 'baskiila,mérleg,escala'}, {'role': 'assistant', 'content': '0'}], [{'role': 'system', 'content': 'validate data'}, {'role': 'user', 'content': 'txorrotx,éles,afiado'}, {'role': 'assistant', 'content': '0'}], [{'role': 'system', 'content': 'validate data'}, {'role': 'user', 'content': 'magenta,tulipalo,valokuvaus'}, {'role': 'assistant', 'content': '0'}], [{'role': 'system', 'content': 'validate data'}, {'role': 'user', 'content': 'aurinko,napfény,sol'}, {'role': 'assistant', 'content': '0'}], [{'role': 'system', 'content': 'validate data'}, {'role': 'user', 'content': 'arvokas,értékes,valioso'}, {'role': 'assistant', 'content': '0'}], [{'role': 'system', 'content': 'validate data'}, {'role': 'user', 'content': 'uskalla,kedvetlen,atrevido'}, {'role': 'assistant', 'content': '0'}], [{'role': 'system', 'content': 'validate data'}, {'role': 'user', 'content': 'figyelem,huomio,atenção'}, {'role': 'assistant', 'content': '0'}], [{'role': 'system', 'content': 'validate data'}, {'role': 'user', 'content': 'hiukset,cabelo,haj'}, {'role': 'assistant', 'content': '0'}], [{'role': 'system', 'content': 'validate data'}, {'role': 'user', 'content': 'makuuhuone,sovrum,quarto'}, {'role': 'assistant', 'content': '0'}], [{'role': 'system', 'content': 'validate data'}, {'role': 'user', 'content': 'kérdés,fråga,pergunta'}, {'role': 'assistant', 'content': '0'}], [{'role': 'system', 'content': 'validate data'}, {'role': 'user', 'content': 'lähellä,közel,perto'}, {'role': 'assistant', 'content': '0'}], [{'role': 'system', 'content': 'validate data'}, {'role': 'user', 'content': 'meleg,varm,quente'}, {'role': 'assistant', 'content': '0'}], [{'role': 'system', 'content': 'validate data'}, {'role': 'user', 'content': 'gyors,snabb,rápido'}, {'role': 'assistant', 'content': '0'}], [{'role': 'system', 'content': 'validate data'}, {'role': 'user', 'content': 'kalóz,pirata,merirosvo'}, {'role': 'assistant', 'content': '0'}], [{'role': 'system', 'content': 'validate data'}, {'role': 'user', 'content': 'elma,alma,äpple'}, {'role': 'assistant', 'content': '0'}], [{'role': 'system', 'content': 'validate data'}, {'role': 'user', 'content': 'polku,caminho,ösvény'}, {'role': 'assistant', 'content': '0'}], [{'role': 'system', 'content': 'validate data'}, {'role': 'user', 'content': 'rolig,vidám,divertido'}, {'role': 'assistant', 'content': '0'}], [{'role': 'system', 'content': 'validate data'}, {'role': 'user', 'content': 'fonal,thread,lanka'}, {'role': 'assistant', 'content': '0'}], [{'role': 'system', 'content': 'validate data'}, {'role': 'user', 'content': 'illatos,cheiroso,tuoksuva'}, {'role': 'assistant', 'content': '0'}], [{'role': 'system', 'content': 'validate data'}, {'role': 'user', 'content': 'mangueira,tömlő,letku'}, {'role': 'assistant', 'content': '0'}], [{'role': 'system', 'content': 'validate data'}, {'role': 'user', 'content': 'festeni,maalit,pintar'}, {'role': 'assistant', 'content': '0'}], [{'role': 'system', 'content': 'validate data'}, {'role': 'user', 'content': 'egyszerű,enkel,simples'}, {'role': 'assistant', 'content': '0'}], [{'role': 'system', 'content': 'validate data'}, {'role': 'user', 'content': 'lakható,vivivel,asuttava'}, {'role': 'assistant', 'content': '0'}], [{'role': 'system', 'content': 'validate data'}, {'role': 'user', 'content': 'sarok,kanta,calcanhar'}, {'role': 'assistant', 'content': '0'}], [{'role': 'system', 'content': 'validate data'}, {'role': 'user', 'content': 'pimennetty,elsötétített,escurecido'}, {'role': 'assistant', 'content': '0'}], [{'role': 'system', 'content': 'validate data'}, {'role': 'user', 'content': 'sírás,llanto,itku'}, {'role': 'assistant', 'content': '0'}], [{'role': 'system', 'content': 'validate data'}, {'role': 'user', 'content': 'soal,kérdés,pergunta'}, {'role': 'assistant', 'content': '0'}], [{'role': 'system', 'content': 'validate data'}, {'role': 'user', 'content': 'csavar,parafuso,ruuvi'}, {'role': 'assistant', 'content': '0'}], [{'role': 'system', 'content': 'validate data'}, {'role': 'user', 'content': 'fésű,pente,kampa'}, {'role': 'assistant', 'content': '0'}], [{'role': 'system', 'content': 'validate data'}, {'role': 'user', 'content': 'avaimet,llaves,kulcsok'}, {'role': 'assistant', 'content': '0'}], [{'role': 'system', 'content': 'validate data'}, {'role': 'user', 'content': 'dicsőséges,glorioso,loistava'}, {'role': 'assistant', 'content': '0'}], [{'role': 'system', 'content': 'validate data'}, {'role': 'user', 'content': 'munhangyn,munkás,trabalhador'}, {'role': 'assistant', 'content': '0'}], [{'role': 'system', 'content': 'validate data'}, {'role': 'user', 'content': 'makulay,színes,colorido'}, {'role': 'assistant', 'content': '0'}], [{'role': 'system', 'content': 'validate data'}, {'role': 'user', 'content': 'muovi,plástico,műanyag'}, {'role': 'assistant', 'content': '0'}], [{'role': 'system', 'content': 'validate data'}, {'role': 'user', 'content': 'kasvain,tumor,daganat'}, {'role': 'assistant', 'content': '0'}], [{'role': 'system', 'content': 'validate data'}, {'role': 'user', 'content': 'kút,poço,kaivo'}, {'role': 'assistant', 'content': '0'}], [{'role': 'system', 'content': 'validate data'}, {'role': 'user', 'content': 'vaso,edény,astia'}, {'role': 'assistant', 'content': '0'}], [{'role': 'system', 'content': 'validate data'}, {'role': 'user', 'content': 'mardi,kedd,terça'}, {'role': 'assistant', 'content': '0'}], [{'role': 'system', 'content': 'validate data'}, {'role': 'user', 'content': 'limpeza,puhdistus,tisztítás'}, {'role': 'assistant', 'content': '0'}], [{'role': 'system', 'content': 'validate data'}, {'role': 'user', 'content': 'madarak,aves,linnut'}, {'role': 'assistant', 'content': '0'}], [{'role': 'system', 'content': 'validate data'}, {'role': 'user', 'content': 'llydno,tengeri,meri'}, {'role': 'assistant', 'content': '0'}], [{'role': 'system', 'content': 'validate data'}, {'role': 'user', 'content': 'teilen,osztani,jakaa'}, {'role': 'assistant', 'content': '0'}], [{'role': 'system', 'content': 'validate data'}, {'role': 'user', 'content': 'maalari,pintor,festő'}, {'role': 'assistant', 'content': '0'}], [{'role': 'system', 'content': 'validate data'}, {'role': 'user', 'content': 'puhelin,telefono,telefon'}, {'role': 'assistant', 'content': '0'}], [{'role': 'system', 'content': 'validate data'}, {'role': 'user', 'content': 'beilaidd,kaunis,bonito'}, {'role': 'assistant', 'content': '0'}], [{'role': 'system', 'content': 'validate data'}, {'role': 'user', 'content': 'abeskorga,szárazság,seca'}, {'role': 'assistant', 'content': '0'}], [{'role': 'system', 'content': 'validate data'}, {'role': 'user', 'content': 'tanga,tawar,kalung'}, {'role': 'assistant', 'content': '0'}], [{'role': 'system', 'content': 'validate data'}, {'role': 'user', 'content': 'ropog,croc,crocante'}, {'role': 'assistant', 'content': '0'}], [{'role': 'system', 'content': 'validate data'}, {'role': 'user', 'content': 'enyhítés,alívio,helpotus'}, {'role': 'assistant', 'content': '0'}], [{'role': 'system', 'content': 'validate data'}, {'role': 'user', 'content': 'marrom,barna,ruskea'}, {'role': 'assistant', 'content': '0'}], [{'role': 'system', 'content': 'validate data'}, {'role': 'user', 'content': 'muita,egyéb,outro'}, {'role': 'assistant', 'content': '0'}], [{'role': 'system', 'content': 'validate data'}, {'role': 'user', 'content': 'kielletty,tiltott,proibido'}, {'role': 'assistant', 'content': '0'}], [{'role': 'system', 'content': 'validate data'}, {'role': 'user', 'content': 'sisilisko,gyík,lagarto'}, {'role': 'assistant', 'content': '0'}], [{'role': 'system', 'content': 'validate data'}, {'role': 'user', 'content': 'taitava,hábil,ügyes'}, {'role': 'assistant', 'content': '0'}], [{'role': 'system', 'content': 'validate data'}, {'role': 'user', 'content': 'viselkedés,comportamento,käytös'}, {'role': 'assistant', 'content': '0'}], [{'role': 'system', 'content': 'validate data'}, {'role': 'user', 'content': 'inget,camisa,paita'}, {'role': 'assistant', 'content': '0'}], [{'role': 'system', 'content': 'validate data'}, {'role': 'user', 'content': 'moita,mucho,paljon'}, {'role': 'assistant', 'content': '0'}], [{'role': 'system', 'content': 'validate data'}, {'role': 'user', 'content': 'nyers,surowy,mentetlen'}, {'role': 'assistant', 'content': '0'}], [{'role': 'system', 'content': 'validate data'}, {'role': 'user', 'content': 'nadrág,calças,housut'}, {'role': 'assistant', 'content': '0'}], [{'role': 'system', 'content': 'validate data'}, {'role': 'user', 'content': 'käsi,mão,kéz'}, {'role': 'assistant', 'content': '0'}], [{'role': 'system', 'content': 'validate data'}, {'role': 'user', 'content': 'cyntaf,első,primeiro'}, {'role': 'assistant', 'content': '0'}], [{'role': 'system', 'content': 'validate data'}, {'role': 'user', 'content': 'lábak,pés,jalat'}, {'role': 'assistant', 'content': '0'}], [{'role': 'system', 'content': 'validate data'}, {'role': 'user', 'content': 'ház,casa,talo'}, {'role': 'assistant', 'content': '0'}], [{'role': 'system', 'content': 'validate data'}, {'role': 'user', 'content': 'kuha,piekst,skola'}, {'role': 'assistant', 'content': '0'}], [{'role': 'system', 'content': 'validate data'}, {'role': 'user', 'content': 'esti,andar,tiada'}, {'role': 'assistant', 'content': '0'}], [{'role': 'system', 'content': 'validate data'}, {'role': 'user', 'content': 'bwlch,matka,vinho'}, {'role': 'assistant', 'content': '0'}], [{'role': 'system', 'content': 'validate data'}, {'role': 'user', 'content': 'maisu,dagiti,rummet'}, {'role': 'assistant', 'content': '0'}], [{'role': 'system', 'content': 'validate data'}, {'role': 'user', 'content': 'kupla,lumi,baston'}, {'role': 'assistant', 'content': '0'}], [{'role': 'system', 'content': 'validate data'}, {'role': 'user', 'content': 'agwedd,roda,kaste'}, {'role': 'assistant', 'content': '0'}], [{'role': 'system', 'content': 'validate data'}, {'role': 'user', 'content': 'karin,tautas,amar'}, {'role': 'assistant', 'content': '0'}], [{'role': 'system', 'content': 'validate data'}, {'role': 'user', 'content': 'golau,matalan,giro'}, {'role': 'assistant', 'content': '0'}], [{'role': 'system', 'content': 'validate data'}, {'role': 'user', 'content': 'lembro,galdu,kulay'}, {'role': 'assistant', 'content': '0'}], [{'role': 'system', 'content': 'validate data'}, {'role': 'user', 'content': 'gweini,nagod,suunta'}, {'role': 'assistant', 'content': '0'}], [{'role': 'system', 'content': 'validate data'}, {'role': 'user', 'content': 'talvez,pagal,azkar'}, {'role': 'assistant', 'content': '0'}], [{'role': 'system', 'content': 'validate data'}, {'role': 'user', 'content': 'saka,valoda,dulog'}, {'role': 'assistant', 'content': '0'}], [{'role': 'system', 'content': 'validate data'}, {'role': 'user', 'content': 'mulder,aurinko,morro'}, {'role': 'assistant', 'content': '0'}], [{'role': 'system', 'content': 'validate data'}, {'role': 'user', 'content': 'pista,menni,inang'}, {'role': 'assistant', 'content': '0'}], [{'role': 'system', 'content': 'validate data'}, {'role': 'user', 'content': 'bagay,corda,suvi'}, {'role': 'assistant', 'content': '0'}], [{'role': 'system', 'content': 'validate data'}, {'role': 'user', 'content': 'bwrdd,minta,tuhka'}, {'role': 'assistant', 'content': '0'}], [{'role': 'system', 'content': 'validate data'}, {'role': 'user', 'content': 'etxea,jyvat,nadar'}, {'role': 'assistant', 'content': '0'}], [{'role': 'system', 'content': 'validate data'}, {'role': 'user', 'content': 'cefndir,galaz,vankka'}, {'role': 'assistant', 'content': '0'}], [{'role': 'system', 'content': 'validate data'}, {'role': 'user', 'content': 'sukat,lukea,morro'}, {'role': 'assistant', 'content': '0'}], [{'role': 'system', 'content': 'validate data'}, {'role': 'user', 'content': 'kamar,aintza,flod'}, {'role': 'assistant', 'content': '0'}], [{'role': 'system', 'content': 'validate data'}, {'role': 'user', 'content': 'pagod,estilo,maksu'}, {'role': 'assistant', 'content': '0'}], [{'role': 'system', 'content': 'validate data'}, {'role': 'user', 'content': 'alaw,minta,rosto'}, {'role': 'assistant', 'content': '0'}], [{'role': 'system', 'content': 'validate data'}, {'role': 'user', 'content': 'huwag,ajtok,barna'}, {'role': 'assistant', 'content': '0'}], [{'role': 'system', 'content': 'validate data'}, {'role': 'user', 'content': 'kezka,pluma,kivi'}, {'role': 'assistant', 'content': '0'}], [{'role': 'system', 'content': 'validate data'}, {'role': 'user', 'content': 'meleg,oras,tavla'}, {'role': 'assistant', 'content': '0'}], [{'role': 'system', 'content': 'validate data'}, {'role': 'user', 'content': 'sagot,manna,rosto'}, {'role': 'assistant', 'content': '0'}], [{'role': 'system', 'content': 'validate data'}, {'role': 'user', 'content': 'tiada,dator,capa'}, {'role': 'assistant', 'content': '0'}], [{'role': 'system', 'content': 'validate data'}, {'role': 'user', 'content': 'agos,meler,huwa'}, {'role': 'assistant', 'content': '0'}], [{'role': 'system', 'content': 'validate data'}, {'role': 'user', 'content': 'noson,savu,tiada'}, {'role': 'assistant', 'content': '0'}], [{'role': 'system', 'content': 'validate data'}, {'role': 'user', 'content': 'nadie,kaste,halika'}, {'role': 'assistant', 'content': '0'}], [{'role': 'system', 'content': 'validate data'}, {'role': 'user', 'content': 'kezka,feliz,natt'}, {'role': 'assistant', 'content': '0'}], [{'role': 'system', 'content': 'validate data'}, {'role': 'user', 'content': 'forma,argi,maata'}, {'role': 'assistant', 'content': '0'}], [{'role': 'system', 'content': 'validate data'}, {'role': 'user', 'content': 'kanto,ibon,sarna'}, {'role': 'assistant', 'content': '0'}], [{'role': 'system', 'content': 'validate data'}, {'role': 'user', 'content': 'barna,dinas,kilo'}, {'role': 'assistant', 'content': '0'}], [{'role': 'system', 'content': 'validate data'}, {'role': 'user', 'content': 'forma,bulut,barru'}, {'role': 'assistant', 'content': '0'}], [{'role': 'system', 'content': 'validate data'}, {'role': 'user', 'content': 'meler,lumi,barna'}, {'role': 'assistant', 'content': '0'}], [{'role': 'system', 'content': 'validate data'}, {'role': 'user', 'content': 'abriu,kalma,peite'}, {'role': 'assistant', 'content': '0'}], [{'role': 'system', 'content': 'validate data'}, {'role': 'user', 'content': 'llawr,muitos,kalma'}, {'role': 'assistant', 'content': '0'}], [{'role': 'system', 'content': 'validate data'}, {'role': 'user', 'content': 'buruz,kulho,hinog'}, {'role': 'assistant', 'content': '0'}], [{'role': 'system', 'content': 'validate data'}, {'role': 'user', 'content': 'rosto,dator,tiada'}, {'role': 'assistant', 'content': '0'}], [{'role': 'system', 'content': 'validate data'}, {'role': 'user', 'content': 'viela,silla,naava'}, {'role': 'assistant', 'content': '0'}], [{'role': 'system', 'content': 'validate data'}, {'role': 'user', 'content': 'suvi,munud,pagod'}, {'role': 'assistant', 'content': '0'}], [{'role': 'system', 'content': 'validate data'}, {'role': 'user', 'content': 'talo,gaban,darba'}, {'role': 'assistant', 'content': '0'}], [{'role': 'system', 'content': 'validate data'}, {'role': 'user', 'content': 'diwa,tiada,esku'}, {'role': 'assistant', 'content': '0'}], [{'role': 'system', 'content': 'validate data'}, {'role': 'user', 'content': 'lusto,perda,kalpa'}, {'role': 'assistant', 'content': '0'}], [{'role': 'system', 'content': 'validate data'}, {'role': 'user', 'content': 'tuuli,kanto,vinho'}, {'role': 'assistant', 'content': '0'}], [{'role': 'system', 'content': 'validate data'}, {'role': 'user', 'content': 'amare,silla,alat'}, {'role': 'assistant', 'content': '0'}], [{'role': 'system', 'content': 'validate data'}, {'role': 'user', 'content': 'alat,berde,llawr'}, {'role': 'assistant', 'content': '0'}], [{'role': 'system', 'content': 'validate data'}, {'role': 'user', 'content': 'ilgums,kasvu,meron'}, {'role': 'assistant', 'content': '0'}], [{'role': 'system', 'content': 'validate data'}, {'role': 'user', 'content': 'kannel,golau,meron'}, {'role': 'assistant', 'content': '0'}], [{'role': 'system', 'content': 'validate data'}, {'role': 'user', 'content': 'kangas,sabor,bilang'}, {'role': 'assistant', 'content': '0'}], [{'role': 'system', 'content': 'validate data'}, {'role': 'user', 'content': 'matka,buruz,tawid'}, {'role': 'assistant', 'content': '0'}], [{'role': 'system', 'content': 'validate data'}, {'role': 'user', 'content': 'dinas,bagay,tyhja'}, {'role': 'assistant', 'content': '0'}], [{'role': 'system', 'content': 'validate data'}, {'role': 'user', 'content': 'minta,alat,dager'}, {'role': 'assistant', 'content': '0'}], [{'role': 'system', 'content': 'validate data'}, {'role': 'user', 'content': 'llawr,galdu,sekel'}, {'role': 'assistant', 'content': '0'}], [{'role': 'system', 'content': 'validate data'}, {'role': 'user', 'content': 'aika,hatak,perder'}, {'role': 'assistant', 'content': '0'}], [{'role': 'system', 'content': 'validate data'}, {'role': 'user', 'content': 'agwedd,minta,bagay'}, {'role': 'assistant', 'content': '0'}], [{'role': 'system', 'content': 'validate data'}, {'role': 'user', 'content': 'tiada,dator,perda'}, {'role': 'assistant', 'content': '0'}], [{'role': 'system', 'content': 'validate data'}, {'role': 'user', 'content': 'kezka,diwa,feliz'}, {'role': 'assistant', 'content': '0'}], [{'role': 'system', 'content': 'validate data'}, {'role': 'user', 'content': 'asal,puhelin,prado'}, {'role': 'assistant', 'content': '0'}], [{'role': 'system', 'content': 'validate data'}, {'role': 'user', 'content': 'alat,etxea,kuha'}, {'role': 'assistant', 'content': '0'}], [{'role': 'system', 'content': 'validate data'}, {'role': 'user', 'content': 'bilis,noson,tytar'}, {'role': 'assistant', 'content': '0'}], [{'role': 'system', 'content': 'validate data'}, {'role': 'user', 'content': 'andar,barna,maata'}, {'role': 'assistant', 'content': '0'}], [{'role': 'system', 'content': 'validate data'}, {'role': 'user', 'content': 'juuri,segir,kezka'}, {'role': 'assistant', 'content': '0'}], [{'role': 'system', 'content': 'validate data'}, {'role': 'user', 'content': 'kezka,gaban,llawr'}, {'role': 'assistant', 'content': '0'}], [{'role': 'system', 'content': 'validate data'}, {'role': 'user', 'content': 'herra,corda,galdu'}, {'role': 'assistant', 'content': '0'}], [{'role': 'system', 'content': 'validate data'}, {'role': 'user', 'content': 'gari,tautas,muitos'}, {'role': 'assistant', 'content': '0'}], [{'role': 'system', 'content': 'validate data'}, {'role': 'user', 'content': 'diwa,talvez,pallo'}, {'role': 'assistant', 'content': '0'}], [{'role': 'system', 'content': 'validate data'}, {'role': 'user', 'content': 'tuuli,meron,galdu'}, {'role': 'assistant', 'content': '0'}], [{'role': 'system', 'content': 'validate data'}, {'role': 'user', 'content': 'nadie,alat,berde'}, {'role': 'assistant', 'content': '0'}], [{'role': 'system', 'content': 'validate data'}, {'role': 'user', 'content': 'alat,tywydd,lasku'}, {'role': 'assistant', 'content': '0'}], [{'role': 'system', 'content': 'validate data'}, {'role': 'user', 'content': 'kulho,meron,loco'}, {'role': 'assistant', 'content': '0'}], [{'role': 'system', 'content': 'validate data'}, {'role': 'user', 'content': 'parit,turog,bagay'}, {'role': 'assistant', 'content': '0'}], [{'role': 'system', 'content': 'validate data'}, {'role': 'user', 'content': 'savi,rosto,kezka'}, {'role': 'assistant', 'content': '0'}], [{'role': 'system', 'content': 'validate data'}, {'role': 'user', 'content': 'agos,talvez,esku'}, {'role': 'assistant', 'content': '0'}], [{'role': 'system', 'content': 'validate data'}, {'role': 'user', 'content': 'kezka,noson,silta'}, {'role': 'assistant', 'content': '0'}], [{'role': 'system', 'content': 'validate data'}, {'role': 'user', 'content': 'turog,bilis,natt'}, {'role': 'assistant', 'content': '0'}], [{'role': 'system', 'content': 'validate data'}, {'role': 'user', 'content': 'tuhka,sukat,coeden'}, {'role': 'assistant', 'content': '0'}], [{'role': 'system', 'content': 'validate data'}, {'role': 'user', 'content': 'sosed,broga,hangin'}, {'role': 'assistant', 'content': '0'}], [{'role': 'system', 'content': 'validate data'}, {'role': 'user', 'content': 'kalpa,aika,bilang'}, {'role': 'assistant', 'content': '0'}], [{'role': 'system', 'content': 'validate data'}, {'role': 'user', 'content': 'diwa,karin,herra'}, {'role': 'assistant', 'content': '0'}], [{'role': 'system', 'content': 'validate data'}, {'role': 'user', 'content': 'lumi,pusu,kalap'}, {'role': 'assistant', 'content': '0'}], [{'role': 'system', 'content': 'validate data'}, {'role': 'user', 'content': 'golau,pista,maksa'}, {'role': 'assistant', 'content': '0'}], [{'role': 'system', 'content': 'validate data'}, {'role': 'user', 'content': 'naida,aika,vinho'}, {'role': 'assistant', 'content': '0'}], [{'role': 'system', 'content': 'validate data'}, {'role': 'user', 'content': 'maksa,alat,karin'}, {'role': 'assistant', 'content': '0'}], [{'role': 'system', 'content': 'validate data'}, {'role': 'user', 'content': 'meron,kalap,talvez'}, {'role': 'assistant', 'content': '0'}], [{'role': 'system', 'content': 'validate data'}, {'role': 'user', 'content': 'kalap,maata,karin'}, {'role': 'assistant', 'content': '0'}], [{'role': 'system', 'content': 'validate data'}, {'role': 'user', 'content': 'maksa,diwa,corda'}, {'role': 'assistant', 'content': '0'}], [{'role': 'system', 'content': 'validate data'}, {'role': 'user', 'content': 'alat,pallo,rosto'}, {'role': 'assistant', 'content': '0'}], [{'role': 'system', 'content': 'validate data'}, {'role': 'user', 'content': 'agos,maksa,gaban'}, {'role': 'assistant', 'content': '0'}], [{'role': 'system', 'content': 'validate data'}, {'role': 'user', 'content': 'tawid,natt,kasvu'}, {'role': 'assistant', 'content': '0'}], [{'role': 'system', 'content': 'validate data'}, {'role': 'user', 'content': 'kezka,meler,agwedd'}, {'role': 'assistant', 'content': '0'}], [{'role': 'system', 'content': 'validate data'}, {'role': 'user', 'content': 'ibon,herra,pusu'}, {'role': 'assistant', 'content': '0'}], [{'role': 'system', 'content': 'validate data'}, {'role': 'user', 'content': 'ranta,txori,agwedd'}, {'role': 'assistant', 'content': '0'}], [{'role': 'system', 'content': 'validate data'}, {'role': 'user', 'content': 'taim,hagos,tuhka'}, {'role': 'assistant', 'content': '0'}], [{'role': 'system', 'content': 'validate data'}, {'role': 'user', 'content': 'maisu,kezka,savu'}, {'role': 'assistant', 'content': '0'}], [{'role': 'system', 'content': 'validate data'}, {'role': 'user', 'content': 'hagos,kanto,herra'}, {'role': 'assistant', 'content': '0'}], [{'role': 'system', 'content': 'validate data'}, {'role': 'user', 'content': 'pagod,lasku,moita'}, {'role': 'assistant', 'content': '0'}], [{'role': 'system', 'content': 'validate data'}, {'role': 'user', 'content': 'tautas,nadie,llawr'}, {'role': 'assistant', 'content': '0'}], [{'role': 'system', 'content': 'validate data'}, {'role': 'user', 'content': 'kivi,asal,galdu'}, {'role': 'assistant', 'content': '0'}], [{'role': 'system', 'content': 'validate data'}, {'role': 'user', 'content': 'kamar,nadie,noson'}, {'role': 'assistant', 'content': '0'}], [{'role': 'system', 'content': 'validate data'}, {'role': 'user', 'content': 'kezka,viela,kulho'}, {'role': 'assistant', 'content': '0'}], [{'role': 'system', 'content': 'validate data'}, {'role': 'user', 'content': 'kasvu,asaw,nadie'}, {'role': 'assistant', 'content': '0'}], [{'role': 'system', 'content': 'validate data'}, {'role': 'user', 'content': 'bilis,hinog,dagiti'}, {'role': 'assistant', 'content': '0'}], [{'role': 'system', 'content': 'validate data'}, {'role': 'user', 'content': 'sukat,amare,savi'}, {'role': 'assistant', 'content': '0'}], [{'role': 'system', 'content': 'validate data'}, {'role': 'user', 'content': 'bilis,taim,baston'}, {'role': 'assistant', 'content': '0'}], [{'role': 'system', 'content': 'validate data'}, {'role': 'user', 'content': 'asaw,kivi,nadie'}, {'role': 'assistant', 'content': '0'}], [{'role': 'system', 'content': 'validate data'}, {'role': 'user', 'content': 'kezka,alat,juuri'}, {'role': 'assistant', 'content': '0'}], [{'role': 'system', 'content': 'validate data'}, {'role': 'user', 'content': 'karums,kannel,llwch'}, {'role': 'assistant', 'content': '0'}], [{'role': 'system', 'content': 'validate data'}, {'role': 'user', 'content': 'bilis,galdu,natt'}, {'role': 'assistant', 'content': '0'}], [{'role': 'system', 'content': 'validate data'}, {'role': 'user', 'content': 'talvez,sosed,hagos'}, {'role': 'assistant', 'content': '0'}], [{'role': 'system', 'content': 'validate data'}, {'role': 'user', 'content': 'taim,naida,tuhka'}, {'role': 'assistant', 'content': '0'}], [{'role': 'system', 'content': 'validate data'}, {'role': 'user', 'content': 'tiada,valo,kalap'}, {'role': 'assistant', 'content': '0'}], [{'role': 'system', 'content': 'validate data'}, {'role': 'user', 'content': 'noson,natt,asal'}, {'role': 'assistant', 'content': '0'}], [{'role': 'system', 'content': 'validate data'}, {'role': 'user', 'content': 'viela,pagod,llwch'}, {'role': 'assistant', 'content': '0'}], [{'role': 'system', 'content': 'validate data'}, {'role': 'user', 'content': 'tywydd,bilis,talo'}, {'role': 'assistant', 'content': '0'}], [{'role': 'system', 'content': 'validate data'}, {'role': 'user', 'content': 'golau,sekel,kannel'}, {'role': 'assistant', 'content': '0'}], [{'role': 'system', 'content': 'validate data'}, {'role': 'user', 'content': 'alat,segir,valo'}, {'role': 'assistant', 'content': '0'}], [{'role': 'system', 'content': 'validate data'}, {'role': 'user', 'content': 'asal,tautas,suunta'}, {'role': 'assistant', 'content': '0'}], [{'role': 'system', 'content': 'validate data'}, {'role': 'user', 'content': 'gweini,pallo,kivi'}, {'role': 'assistant', 'content': '0'}], [{'role': 'system', 'content': 'validate data'}, {'role': 'user', 'content': 'naida,barru,gweini'}, {'role': 'assistant', 'content': '0'}], [{'role': 'system', 'content': 'validate data'}, {'role': 'user', 'content': 'tautas,diwa,silla'}, {'role': 'assistant', 'content': '0'}], [{'role': 'system', 'content': 'validate data'}, {'role': 'user', 'content': 'tautas,maata,huwa'}, {'role': 'assistant', 'content': '0'}], [{'role': 'system', 'content': 'validate data'}, {'role': 'user', 'content': 'lasku,bilis,llwch'}, {'role': 'assistant', 'content': '0'}], [{'role': 'system', 'content': 'validate data'}, {'role': 'user', 'content': 'alat,rosto,bulut'}, {'role': 'assistant', 'content': '0'}], [{'role': 'system', 'content': 'validate data'}, {'role': 'user', 'content': 'ajtok,pagod,forma'}, {'role': 'assistant', 'content': '0'}], [{'role': 'system', 'content': 'validate data'}, {'role': 'user', 'content': 'bilis,kasvu,andar'}, {'role': 'assistant', 'content': '0'}], [{'role': 'system', 'content': 'validate data'}, {'role': 'user', 'content': 'forma,hinog,valo'}, {'role': 'assistant', 'content': '0'}], [{'role': 'system', 'content': 'validate data'}, {'role': 'user', 'content': 'bagay,buruz,parit'}, {'role': 'assistant', 'content': '0'}], [{'role': 'system', 'content': 'validate data'}, {'role': 'user', 'content': 'kaisa,asal,dinas'}, {'role': 'assistant', 'content': '0'}], [{'role': 'system', 'content': 'validate data'}, {'role': 'user', 'content': 'savi,corda,kezka'}, {'role': 'assistant', 'content': '0'}], [{'role': 'system', 'content': 'validate data'}, {'role': 'user', 'content': 'feliz,naida,natt'}, {'role': 'assistant', 'content': '0'}], [{'role': 'system', 'content': 'validate data'}, {'role': 'user', 'content': 'noson,maksa,gweini'}, {'role': 'assistant', 'content': '0'}], [{'role': 'system', 'content': 'validate data'}, {'role': 'user', 'content': 'diwa,pagod,maksa'}, {'role': 'assistant', 'content': '0'}], [{'role': 'system', 'content': 'validate data'}, {'role': 'user', 'content': 'hagos,bagay,viela'}, {'role': 'assistant', 'content': '0'}], [{'role': 'system', 'content': 'validate data'}, {'role': 'user', 'content': 'kalma,kulay,natt'}, {'role': 'assistant', 'content': '0'}], [{'role': 'system', 'content': 'validate data'}, {'role': 'user', 'content': 'tawid,perder,naida'}, {'role': 'assistant', 'content': '0'}], [{'role': 'system', 'content': 'validate data'}, {'role': 'user', 'content': 'puhelin,asal,vagga'}, {'role': 'assistant', 'content': '0'}], [{'role': 'system', 'content': 'validate data'}, {'role': 'user', 'content': 'alaw,sarna,silla'}, {'role': 'assistant', 'content': '0'}], [{'role': 'system', 'content': 'validate data'}, {'role': 'user', 'content': 'abriu,herra,huwa'}, {'role': 'assistant', 'content': '0'}], [{'role': 'system', 'content': 'validate data'}, {'role': 'user', 'content': 'llawr,dager,tuuli'}, {'role': 'assistant', 'content': '0'}], [{'role': 'system', 'content': 'validate data'}, {'role': 'user', 'content': 'kilpa,muitos,golau'}, {'role': 'assistant', 'content': '0'}], [{'role': 'system', 'content': 'validate data'}, {'role': 'user', 'content': 'feliz,maata,savi'}, {'role': 'assistant', 'content': '0'}], [{'role': 'system', 'content': 'validate data'}, {'role': 'user', 'content': 'alat,dator,ajtok'}, {'role': 'assistant', 'content': '0'}], [{'role': 'system', 'content': 'validate data'}, {'role': 'user', 'content': 'llawr,silta,piekst'}, {'role': 'assistant', 'content': '0'}], [{'role': 'system', 'content': 'validate data'}, {'role': 'user', 'content': 'buruz,suvi,alaw'}, {'role': 'assistant', 'content': '0'}], [{'role': 'system', 'content': 'validate data'}, {'role': 'user', 'content': 'meler,kalma,corda'}, {'role': 'assistant', 'content': '0'}], [{'role': 'system', 'content': 'validate data'}, {'role': 'user', 'content': 'bulut,tautas,kivi'}, {'role': 'assistant', 'content': '0'}], [{'role': 'system', 'content': 'validate data'}, {'role': 'user', 'content': 'pagod,taim,dager'}, {'role': 'assistant', 'content': '0'}], [{'role': 'system', 'content': 'validate data'}, {'role': 'user', 'content': 'darba,herra,perder'}, {'role': 'assistant', 'content': '0'}], [{'role': 'system', 'content': 'validate data'}, {'role': 'user', 'content': 'noson,jyvat,manna'}, {'role': 'assistant', 'content': '0'}], [{'role': 'system', 'content': 'validate data'}, {'role': 'user', 'content': 'cefndir,suunta,kilpa'}, {'role': 'assistant', 'content': '0'}], [{'role': 'system', 'content': 'validate data'}, {'role': 'user', 'content': 'meler,pluma,cefndir'}, {'role': 'assistant', 'content': '0'}], [{'role': 'system', 'content': 'validate data'}, {'role': 'user', 'content': 'bilang,alat,herra'}, {'role': 'assistant', 'content': '0'}], [{'role': 'system', 'content': 'validate data'}, {'role': 'user', 'content': 'vagga,tiada,alat'}, {'role': 'assistant', 'content': '0'}], [{'role': 'system', 'content': 'validate data'}, {'role': 'user', 'content': 'maata,nadie,kilpa'}, {'role': 'assistant', 'content': '0'}], [{'role': 'system', 'content': 'validate data'}, {'role': 'user', 'content': 'asaw,broga,kasvu'}, {'role': 'assistant', 'content': '0'}], [{'role': 'system', 'content': 'validate data'}, {'role': 'user', 'content': 'huwag,cefndir,forma'}, {'role': 'assistant', 'content': '0'}], [{'role': 'system', 'content': 'validate data'}, {'role': 'user', 'content': 'lehto,coeden,darba'}, {'role': 'assistant', 'content': '0'}], [{'role': 'system', 'content': 'validate data'}, {'role': 'user', 'content': 'alat,amare,alaw'}, {'role': 'assistant', 'content': '0'}], [{'role': 'system', 'content': 'validate data'}, {'role': 'user', 'content': 'alat,huwa,cefndir'}, {'role': 'assistant', 'content': '0'}], [{'role': 'system', 'content': 'validate data'}, {'role': 'user', 'content': 'rosto,kiekko,etxea'}, {'role': 'assistant', 'content': '0'}], [{'role': 'system', 'content': 'validate data'}, {'role': 'user', 'content': 'meler,munud,jyvat'}, {'role': 'assistant', 'content': '0'}], [{'role': 'system', 'content': 'validate data'}, {'role': 'user', 'content': 'silla,kilpa,gweini'}, {'role': 'assistant', 'content': '0'}], [{'role': 'system', 'content': 'validate data'}, {'role': 'user', 'content': 'tytar,alaw,silla'}, {'role': 'assistant', 'content': '0'}], [{'role': 'system', 'content': 'validate data'}, {'role': 'user', 'content': 'huwag,llawr,suvi'}, {'role': 'assistant', 'content': '0'}], [{'role': 'system', 'content': 'validate data'}, {'role': 'user', 'content': 'ranta,kasvu,huwag'}, {'role': 'assistant', 'content': '0'}], [{'role': 'system', 'content': 'validate data'}, {'role': 'user', 'content': 'nadie,gari,broga'}, {'role': 'assistant', 'content': '0'}], [{'role': 'system', 'content': 'validate data'}, {'role': 'user', 'content': 'tenger,segir,lembro'}, {'role': 'assistant', 'content': '0'}], [{'role': 'system', 'content': 'validate data'}, {'role': 'user', 'content': 'maata,taim,kasto'}, {'role': 'assistant', 'content': '0'}], [{'role': 'system', 'content': 'validate data'}, {'role': 'user', 'content': 'pluma,kulay,bagat'}, {'role': 'assistant', 'content': '0'}], [{'role': 'system', 'content': 'validate data'}, {'role': 'user', 'content': 'nadie,tytar,barru'}, {'role': 'assistant', 'content': '0'}], [{'role': 'system', 'content': 'validate data'}, {'role': 'user', 'content': 'txori,ranta,tuuli'}, {'role': 'assistant', 'content': '0'}], [{'role': 'system', 'content': 'validate data'}, {'role': 'user', 'content': 'maata,abriu,kuha'}, {'role': 'assistant', 'content': '0'}], [{'role': 'system', 'content': 'validate data'}, {'role': 'user', 'content': 'tiada,karin,meler'}, {'role': 'assistant', 'content': '0'}], [{'role': 'system', 'content': 'validate data'}, {'role': 'user', 'content': 'kulay,andar,vankka'}, {'role': 'assistant', 'content': '0'}], [{'role': 'system', 'content': 'validate data'}, {'role': 'user', 'content': 'tuhka,segir,pusu'}, {'role': 'assistant', 'content': '0'}], [{'role': 'system', 'content': 'validate data'}, {'role': 'user', 'content': 'llwch,lumi,diwa'}, {'role': 'assistant', 'content': '0'}], [{'role': 'system', 'content': 'validate data'}, {'role': 'user', 'content': 'kaste,maksu,tiada'}, {'role': 'assistant', 'content': '0'}], [{'role': 'system', 'content': 'validate data'}, {'role': 'user', 'content': 'kivi,ibon,maata'}, {'role': 'assistant', 'content': '0'}], [{'role': 'system', 'content': 'validate data'}, {'role': 'user', 'content': 'kezka,llawr,flod'}, {'role': 'assistant', 'content': '0'}], [{'role': 'system', 'content': 'validate data'}, {'role': 'user', 'content': 'kamar,feliz,kiekko'}, {'role': 'assistant', 'content': '0'}], [{'role': 'system', 'content': 'validate data'}, {'role': 'user', 'content': 'llawr,sekel,alat'}, {'role': 'assistant', 'content': '0'}], [{'role': 'system', 'content': 'validate data'}, {'role': 'user', 'content': 'rosto,coeden,lasku'}, {'role': 'assistant', 'content': '0'}], [{'role': 'system', 'content': 'validate data'}, {'role': 'user', 'content': 'kivi,bwlch,asaw'}, {'role': 'assistant', 'content': '0'}], [{'role': 'system', 'content': 'validate data'}, {'role': 'user', 'content': 'oras,sukat,ajtok'}, {'role': 'assistant', 'content': '0'}], [{'role': 'system', 'content': 'validate data'}, {'role': 'user', 'content': 'llawr,karums,bagay'}, {'role': 'assistant', 'content': '0'}], [{'role': 'system', 'content': 'validate data'}, {'role': 'user', 'content': 'gweini,aika,asaw'}, {'role': 'assistant', 'content': '0'}], [{'role': 'system', 'content': 'validate data'}, {'role': 'user', 'content': 'kezka,kalma,txori'}, {'role': 'assistant', 'content': '0'}], [{'role': 'system', 'content': 'validate data'}, {'role': 'user', 'content': 'gaban,buruz,nadie'}, {'role': 'assistant', 'content': '0'}], [{'role': 'system', 'content': 'validate data'}, {'role': 'user', 'content': 'tautas,asal,dager'}, {'role': 'assistant', 'content': '0'}], [{'role': 'system', 'content': 'validate data'}, {'role': 'user', 'content': 'esku,oras,savi'}, {'role': 'assistant', 'content': '0'}], [{'role': 'system', 'content': 'validate data'}, {'role': 'user', 'content': 'lehto,rosto,vagga'}, {'role': 'assistant', 'content': '0'}], [{'role': 'system', 'content': 'validate data'}, {'role': 'user', 'content': 'lumi,tapas,golau'}, {'role': 'assistant', 'content': '0'}], [{'role': 'system', 'content': 'validate data'}, {'role': 'user', 'content': 'jyvat,saka,capa'}, {'role': 'assistant', 'content': '0'}], [{'role': 'system', 'content': 'validate data'}, {'role': 'user', 'content': 'naida,cefndir,hatak'}, {'role': 'assistant', 'content': '0'}], [{'role': 'system', 'content': 'validate data'}, {'role': 'user', 'content': 'etxea,sarna,kuha'}, {'role': 'assistant', 'content': '0'}], [{'role': 'system', 'content': 'validate data'}, {'role': 'user', 'content': 'sekel,pluma,baston'}, {'role': 'assistant', 'content': '0'}], [{'role': 'system', 'content': 'validate data'}, {'role': 'user', 'content': 'natt,pusu,piekst'}, {'role': 'assistant', 'content': '0'}], [{'role': 'system', 'content': 'validate data'}, {'role': 'user', 'content': 'noson,hinog,lumi'}, {'role': 'assistant', 'content': '0'}], [{'role': 'system', 'content': 'validate data'}, {'role': 'user', 'content': 'perder,asaw,kannel'}, {'role': 'assistant', 'content': '0'}], [{'role': 'system', 'content': 'validate data'}, {'role': 'user', 'content': 'amare,kalina,talo'}, {'role': 'assistant', 'content': '0'}], [{'role': 'system', 'content': 'validate data'}, {'role': 'user', 'content': 'pagod,darba,minta'}, {'role': 'assistant', 'content': '0'}], [{'role': 'system', 'content': 'validate data'}, {'role': 'user', 'content': 'piekst,noson,corda'}, {'role': 'assistant', 'content': '0'}], [{'role': 'system', 'content': 'validate data'}, {'role': 'user', 'content': 'kezka,kanto,perda'}, {'role': 'assistant', 'content': '0'}], [{'role': 'system', 'content': 'validate data'}, {'role': 'user', 'content': 'hangin,sarvi,herra'}, {'role': 'assistant', 'content': '0'}], [{'role': 'system', 'content': 'validate data'}, {'role': 'user', 'content': 'valo,asal,rosto'}, {'role': 'assistant', 'content': '0'}], [{'role': 'system', 'content': 'validate data'}, {'role': 'user', 'content': 'pusu,corda,brwydr'}, {'role': 'assistant', 'content': '0'}], [{'role': 'system', 'content': 'validate data'}, {'role': 'user', 'content': 'kalma,esku,hagos'}, {'role': 'assistant', 'content': '0'}], [{'role': 'system', 'content': 'validate data'}, {'role': 'user', 'content': 'bilis,capa,kuha'}, {'role': 'assistant', 'content': '0'}], [{'role': 'system', 'content': 'validate data'}, {'role': 'user', 'content': 'pluma,kilpa,golau'}, {'role': 'assistant', 'content': '0'}], [{'role': 'system', 'content': 'validate data'}, {'role': 'user', 'content': 'corda,agwedd,huwa'}, {'role': 'assistant', 'content': '0'}], [{'role': 'system', 'content': 'validate data'}, {'role': 'user', 'content': 'araw,kangas,sarna'}, {'role': 'assistant', 'content': '0'}], [{'role': 'system', 'content': 'validate data'}, {'role': 'user', 'content': 'azoka,talvez,huwag'}, {'role': 'assistant', 'content': '0'}], [{'role': 'system', 'content': 'validate data'}, {'role': 'user', 'content': 'sukat,herra,viela'}, {'role': 'assistant', 'content': '0'}], [{'role': 'system', 'content': 'validate data'}, {'role': 'user', 'content': 'kaisa,pagod,puhelin'}, {'role': 'assistant', 'content': '0'}], [{'role': 'system', 'content': 'validate data'}, {'role': 'user', 'content': 'hangin,rummet,aika'}, {'role': 'assistant', 'content': '0'}], [{'role': 'system', 'content': 'validate data'}, {'role': 'user', 'content': 'nadie,savi,dagiti'}, {'role': 'assistant', 'content': '0'}], [{'role': 'system', 'content': 'validate data'}, {'role': 'user', 'content': 'golau,bilis,tapas'}, {'role': 'assistant', 'content': '0'}], [{'role': 'system', 'content': 'validate data'}, {'role': 'user', 'content': 'tapas,argi,silla'}, {'role': 'assistant', 'content': '0'}], [{'role': 'system', 'content': 'validate data'}, {'role': 'user', 'content': 'kiekko,perder,kulay'}, {'role': 'assistant', 'content': '0'}], [{'role': 'system', 'content': 'validate data'}, {'role': 'user', 'content': 'karums,piekst,huwa'}, {'role': 'assistant', 'content': '0'}], [{'role': 'system', 'content': 'validate data'}, {'role': 'user', 'content': 'aika,kasto,saka'}, {'role': 'assistant', 'content': '0'}], [{'role': 'system', 'content': 'validate data'}, {'role': 'user', 'content': 'ruoka,vagga,kiekko'}, {'role': 'assistant', 'content': '0'}], [{'role': 'system', 'content': 'validate data'}, {'role': 'user', 'content': 'manna,golau,kulay'}, {'role': 'assistant', 'content': '0'}], [{'role': 'system', 'content': 'validate data'}, {'role': 'user', 'content': 'baston,kaste,bilis'}, {'role': 'assistant', 'content': '0'}], [{'role': 'system', 'content': 'validate data'}, {'role': 'user', 'content': 'ibon,alaw,kangas'}, {'role': 'assistant', 'content': '0'}], [{'role': 'system', 'content': 'validate data'}, {'role': 'user', 'content': 'tytar,argi,valoda'}, {'role': 'assistant', 'content': '0'}], [{'role': 'system', 'content': 'validate data'}, {'role': 'user', 'content': 'kilpa,nadie,karin'}, {'role': 'assistant', 'content': '0'}], [{'role': 'system', 'content': 'validate data'}, {'role': 'user', 'content': ''}, {'role': 'assistant', 'content': '0'}]]}\n"
          ]
        }
      ],
      "source": [
        "from unsloth.chat_templates import standardize_sharegpt\n",
        "dataset = standardize_sharegpt(dataset)\n",
        "dataset = dataset.map(formatting_prompts_func, batched = True,)"
      ]
    },
    {
      "cell_type": "markdown",
      "metadata": {
        "id": "ndDUB23CGAC5"
      },
      "source": [
        "We look at how the conversations are structured for item 5:"
      ]
    },
    {
      "cell_type": "code",
      "execution_count": 22,
      "metadata": {
        "colab": {
          "base_uri": "https://localhost:8080/"
        },
        "id": "gGFzmplrEy9I",
        "outputId": "e23d6f90-03c5-4c24-c795-fa87e8ce837d"
      },
      "outputs": [
        {
          "output_type": "execute_result",
          "data": {
            "text/plain": [
              "[{'role': 'system', 'content': 'validate data'},\n",
              " {'role': 'user', 'content': 'hamis,csinos,forras'},\n",
              " {'role': 'assistant', 'content': '1'}]"
            ]
          },
          "metadata": {},
          "execution_count": 22
        }
      ],
      "source": [
        "dataset[5][\"conversation\"]"
      ]
    },
    {
      "cell_type": "markdown",
      "metadata": {
        "id": "GfzTdMtvGE6w"
      },
      "source": [
        "And we see how the chat template transformed these conversations.\n",
        "\n",
        "**[Notice]** Llama 3.1 Instruct's default chat template default adds `\"Cutting Knowledge Date: December 2023\\nToday Date: 26 July 2024\"`, so do not be alarmed!"
      ]
    },
    {
      "cell_type": "code",
      "execution_count": 23,
      "metadata": {
        "colab": {
          "base_uri": "https://localhost:8080/",
          "height": 70
        },
        "id": "vhXv0xFMGNKE",
        "outputId": "e359625e-a638-4f27-ecc3-47270c329dd7"
      },
      "outputs": [
        {
          "output_type": "execute_result",
          "data": {
            "text/plain": [
              "'<|begin_of_text|><|start_header_id|>system<|end_header_id|>\\n\\nCutting Knowledge Date: December 2023\\nToday Date: 26 July 2024\\n\\nvalidate data<|eot_id|><|start_header_id|>user<|end_header_id|>\\n\\nhamis,csinos,forras<|eot_id|><|start_header_id|>assistant<|end_header_id|>\\n\\n1<|eot_id|>'"
            ],
            "application/vnd.google.colaboratory.intrinsic+json": {
              "type": "string"
            }
          },
          "metadata": {},
          "execution_count": 23
        }
      ],
      "source": [
        "dataset[5][\"text\"]"
      ]
    },
    {
      "cell_type": "markdown",
      "metadata": {
        "id": "idAEIeSQ3xdS"
      },
      "source": [
        "<a name=\"Train\"></a>\n",
        "### Train the model\n",
        "Now let's use Huggingface TRL's `SFTTrainer`! More docs here: [TRL SFT docs](https://huggingface.co/docs/trl/sft_trainer). We do 60 steps to speed things up, but you can set `num_train_epochs=1` for a full run, and turn off `max_steps=None`. We also support TRL's `DPOTrainer`!"
      ]
    },
    {
      "cell_type": "code",
      "execution_count": null,
      "metadata": {
        "colab": {
          "base_uri": "https://localhost:8080/",
          "height": 67,
          "referenced_widgets": [
            "3ffe42931dcf4a69972f4d50ee4dd3dd",
            "ee9dcec2d5c44fd883f16c06b9f76264",
            "982b6b94642d49fa85fab6ad621392fe",
            "42990f347a8c42f7b510e2d17c7d3c6e",
            "3cd95b7c5e2f4c6883333045db11c6d6",
            "5b34a4e8fc7747e78b49ad5bf67a6580",
            "23907906314743938db4e484c15480cc",
            "378176d2f0c9466d8762a584edf4217d",
            "e221482cbe95465191212d85d539938c",
            "74dc78a38e30465a96d2c8a22a27b127",
            "c6b4759ce826421081508270cb30334b"
          ]
        },
        "id": "95_Nn-89DhsL",
        "outputId": "97211c96-b8e2-4b35-8691-892550ee0e7a"
      },
      "outputs": [
        {
          "data": {
            "application/vnd.jupyter.widget-view+json": {
              "model_id": "3ffe42931dcf4a69972f4d50ee4dd3dd",
              "version_major": 2,
              "version_minor": 0
            },
            "text/plain": [
              "Map (num_proc=2):   0%|          | 0/100000 [00:00<?, ? examples/s]"
            ]
          },
          "metadata": {},
          "output_type": "display_data"
        },
        {
          "name": "stderr",
          "output_type": "stream",
          "text": [
            "max_steps is given, it will override any value given in num_train_epochs\n"
          ]
        }
      ],
      "source": [
        "from trl import SFTConfig, SFTTrainer\n",
        "from transformers import DataCollatorForSeq2Seq\n",
        "trainer = SFTTrainer(\n",
        "    model = model,\n",
        "    tokenizer = tokenizer,\n",
        "    train_dataset = dataset,\n",
        "    dataset_text_field = \"text\",\n",
        "    max_seq_length = max_seq_length,\n",
        "    data_collator = DataCollatorForSeq2Seq(tokenizer = tokenizer),\n",
        "    dataset_num_proc = 2,\n",
        "    packing = False, # Can make training 5x faster for short sequences.\n",
        "    args = SFTConfig(\n",
        "        per_device_train_batch_size = 2,\n",
        "        gradient_accumulation_steps = 4,\n",
        "        warmup_steps = 5,\n",
        "        # num_train_epochs = 1, # Set this for 1 full training run.\n",
        "        max_steps = 60,\n",
        "        learning_rate = 2e-4,\n",
        "        logging_steps = 1,\n",
        "        optim = \"adamw_8bit\",\n",
        "        weight_decay = 0.01,\n",
        "        lr_scheduler_type = \"linear\",\n",
        "        seed = 3407,\n",
        "        output_dir = \"outputs\",\n",
        "        report_to = \"none\", # Use this for WandB etc\n",
        "    ),\n",
        ")"
      ]
    },
    {
      "cell_type": "markdown",
      "metadata": {
        "id": "C_sGp5XlG6dq"
      },
      "source": [
        "We also use Unsloth's `train_on_completions` method to only train on the assistant outputs and ignore the loss on the user's inputs."
      ]
    },
    {
      "cell_type": "code",
      "execution_count": null,
      "metadata": {
        "colab": {
          "base_uri": "https://localhost:8080/",
          "height": 49,
          "referenced_widgets": [
            "6064feeea79040409e18a1e2a289b09a",
            "bb241a26ca4d4d7186ba46cda1f8a802",
            "c9abb42da1734388a7d2f1a06832ecc6",
            "7c3a37494e5848b9994b37a4c8bac132",
            "c668ae4c7d174f2dad3fb837ff873e57",
            "dd30f3ead6394317be5a72aa890adfb9",
            "1e4ea03959b3496f8e75cc3588cf347c",
            "d356b597dda14c7ab023403ee6959cf8",
            "870ff8f17c7b47ec8d49cac84216b04c",
            "d5cfa138483f4007b2a95be833043235",
            "6d52daf29c90402a9762acdde765713f"
          ]
        },
        "id": "juQiExuBG5Bt",
        "outputId": "dca88e73-ac69-4199-9c83-cb6300e8ce9a"
      },
      "outputs": [
        {
          "data": {
            "application/vnd.jupyter.widget-view+json": {
              "model_id": "6064feeea79040409e18a1e2a289b09a",
              "version_major": 2,
              "version_minor": 0
            },
            "text/plain": [
              "Map:   0%|          | 0/100000 [00:00<?, ? examples/s]"
            ]
          },
          "metadata": {},
          "output_type": "display_data"
        }
      ],
      "source": [
        "from unsloth.chat_templates import train_on_responses_only\n",
        "trainer = train_on_responses_only(\n",
        "    trainer,\n",
        "    instruction_part = \"<|start_header_id|>user<|end_header_id|>\\n\\n\",\n",
        "    response_part = \"<|start_header_id|>assistant<|end_header_id|>\\n\\n\",\n",
        ")"
      ]
    },
    {
      "cell_type": "markdown",
      "metadata": {
        "id": "Dv1NBUozV78l"
      },
      "source": [
        "We verify masking is actually done:"
      ]
    },
    {
      "cell_type": "code",
      "execution_count": null,
      "metadata": {
        "colab": {
          "base_uri": "https://localhost:8080/",
          "height": 159
        },
        "id": "LtsMVtlkUhja",
        "outputId": "84735ea5-8489-4a34-f501-afe91901d542"
      },
      "outputs": [
        {
          "data": {
            "application/vnd.google.colaboratory.intrinsic+json": {
              "type": "string"
            },
            "text/plain": [
              "'<|begin_of_text|><|start_header_id|>system<|end_header_id|>\\n\\nCutting Knowledge Date: December 2023\\nToday Date: 26 July 2024\\n\\n<|eot_id|><|start_header_id|>user<|end_header_id|>\\n\\nHow do astronomers determine the original wavelength of light emitted by a celestial body at rest, which is necessary for measuring its speed using the Doppler effect?<|eot_id|><|start_header_id|>assistant<|end_header_id|>\\n\\nAstronomers make use of the unique spectral fingerprints of elements found in stars. These elements emit and absorb light at specific, known wavelengths, forming an absorption spectrum. By analyzing the light received from distant stars and comparing it to the laboratory-measured spectra of these elements, astronomers can identify the shifts in these wavelengths due to the Doppler effect. The observed shift tells them the extent to which the light has been redshifted or blueshifted, thereby allowing them to calculate the speed of the star along the line of sight relative to Earth.<|eot_id|>'"
            ]
          },
          "execution_count": 10,
          "metadata": {},
          "output_type": "execute_result"
        }
      ],
      "source": [
        "tokenizer.decode(trainer.train_dataset[5][\"input_ids\"])"
      ]
    },
    {
      "cell_type": "code",
      "execution_count": null,
      "metadata": {
        "colab": {
          "base_uri": "https://localhost:8080/",
          "height": 106
        },
        "id": "_rD6fl8EUxnG",
        "outputId": "7b0d0ab4-06c3-4f2c-bb94-0ec853a4d0cc"
      },
      "outputs": [
        {
          "data": {
            "application/vnd.google.colaboratory.intrinsic+json": {
              "type": "string"
            },
            "text/plain": [
              "'                                                                \\n\\nAstronomers make use of the unique spectral fingerprints of elements found in stars. These elements emit and absorb light at specific, known wavelengths, forming an absorption spectrum. By analyzing the light received from distant stars and comparing it to the laboratory-measured spectra of these elements, astronomers can identify the shifts in these wavelengths due to the Doppler effect. The observed shift tells them the extent to which the light has been redshifted or blueshifted, thereby allowing them to calculate the speed of the star along the line of sight relative to Earth.<|eot_id|>'"
            ]
          },
          "execution_count": 11,
          "metadata": {},
          "output_type": "execute_result"
        }
      ],
      "source": [
        "space = tokenizer(\" \", add_special_tokens = False).input_ids[0]\n",
        "tokenizer.decode([space if x == -100 else x for x in trainer.train_dataset[5][\"labels\"]])"
      ]
    },
    {
      "cell_type": "markdown",
      "metadata": {
        "id": "3enWUM0jV-jV"
      },
      "source": [
        "We can see the System and Instruction prompts are successfully masked!"
      ]
    },
    {
      "cell_type": "code",
      "execution_count": null,
      "metadata": {
        "cellView": "form",
        "colab": {
          "base_uri": "https://localhost:8080/"
        },
        "id": "2ejIt2xSNKKp",
        "outputId": "ac07343f-67db-44e4-f9d3-83539724e6af"
      },
      "outputs": [
        {
          "name": "stdout",
          "output_type": "stream",
          "text": [
            "GPU = Tesla T4. Max memory = 14.748 GB.\n",
            "2.635 GB of memory reserved.\n"
          ]
        }
      ],
      "source": [
        "# @title Show current memory stats\n",
        "gpu_stats = torch.cuda.get_device_properties(0)\n",
        "start_gpu_memory = round(torch.cuda.max_memory_reserved() / 1024 / 1024 / 1024, 3)\n",
        "max_memory = round(gpu_stats.total_memory / 1024 / 1024 / 1024, 3)\n",
        "print(f\"GPU = {gpu_stats.name}. Max memory = {max_memory} GB.\")\n",
        "print(f\"{start_gpu_memory} GB of memory reserved.\")"
      ]
    },
    {
      "cell_type": "code",
      "execution_count": null,
      "metadata": {
        "colab": {
          "base_uri": "https://localhost:8080/",
          "height": 1000
        },
        "id": "yqxqAZ7KJ4oL",
        "outputId": "fb3dc2a2-5cd6-4aa0-dfc5-ad734359f397"
      },
      "outputs": [
        {
          "name": "stderr",
          "output_type": "stream",
          "text": [
            "==((====))==  Unsloth - 2x faster free finetuning | Num GPUs = 1\n",
            "   \\\\   /|    Num examples = 100,000 | Num Epochs = 1\n",
            "O^O/ \\_/ \\    Batch size per device = 2 | Gradient Accumulation steps = 4\n",
            "\\        /    Total batch size = 8 | Total steps = 60\n",
            " \"-____-\"     Number of trainable parameters = 24,313,856\n"
          ]
        },
        {
          "data": {
            "text/html": [
              "\n",
              "    <div>\n",
              "      \n",
              "      <progress value='60' max='60' style='width:300px; height:20px; vertical-align: middle;'></progress>\n",
              "      [60/60 07:12, Epoch 0/1]\n",
              "    </div>\n",
              "    <table border=\"1\" class=\"dataframe\">\n",
              "  <thead>\n",
              " <tr style=\"text-align: left;\">\n",
              "      <th>Step</th>\n",
              "      <th>Training Loss</th>\n",
              "    </tr>\n",
              "  </thead>\n",
              "  <tbody>\n",
              "    <tr>\n",
              "      <td>1</td>\n",
              "      <td>0.826200</td>\n",
              "    </tr>\n",
              "    <tr>\n",
              "      <td>2</td>\n",
              "      <td>0.811700</td>\n",
              "    </tr>\n",
              "    <tr>\n",
              "      <td>3</td>\n",
              "      <td>1.132200</td>\n",
              "    </tr>\n",
              "    <tr>\n",
              "      <td>4</td>\n",
              "      <td>0.927300</td>\n",
              "    </tr>\n",
              "    <tr>\n",
              "      <td>5</td>\n",
              "      <td>0.775200</td>\n",
              "    </tr>\n",
              "    <tr>\n",
              "      <td>6</td>\n",
              "      <td>0.967900</td>\n",
              "    </tr>\n",
              "    <tr>\n",
              "      <td>7</td>\n",
              "      <td>0.630600</td>\n",
              "    </tr>\n",
              "    <tr>\n",
              "      <td>8</td>\n",
              "      <td>1.027400</td>\n",
              "    </tr>\n",
              "    <tr>\n",
              "      <td>9</td>\n",
              "      <td>0.788400</td>\n",
              "    </tr>\n",
              "    <tr>\n",
              "      <td>10</td>\n",
              "      <td>0.753300</td>\n",
              "    </tr>\n",
              "    <tr>\n",
              "      <td>11</td>\n",
              "      <td>0.841900</td>\n",
              "    </tr>\n",
              "    <tr>\n",
              "      <td>12</td>\n",
              "      <td>0.965600</td>\n",
              "    </tr>\n",
              "    <tr>\n",
              "      <td>13</td>\n",
              "      <td>0.914400</td>\n",
              "    </tr>\n",
              "    <tr>\n",
              "      <td>14</td>\n",
              "      <td>0.674500</td>\n",
              "    </tr>\n",
              "    <tr>\n",
              "      <td>15</td>\n",
              "      <td>0.815000</td>\n",
              "    </tr>\n",
              "    <tr>\n",
              "      <td>16</td>\n",
              "      <td>0.617800</td>\n",
              "    </tr>\n",
              "    <tr>\n",
              "      <td>17</td>\n",
              "      <td>1.036200</td>\n",
              "    </tr>\n",
              "    <tr>\n",
              "      <td>18</td>\n",
              "      <td>0.782800</td>\n",
              "    </tr>\n",
              "    <tr>\n",
              "      <td>19</td>\n",
              "      <td>0.817000</td>\n",
              "    </tr>\n",
              "    <tr>\n",
              "      <td>20</td>\n",
              "      <td>0.952500</td>\n",
              "    </tr>\n",
              "    <tr>\n",
              "      <td>21</td>\n",
              "      <td>0.731900</td>\n",
              "    </tr>\n",
              "    <tr>\n",
              "      <td>22</td>\n",
              "      <td>0.742500</td>\n",
              "    </tr>\n",
              "    <tr>\n",
              "      <td>23</td>\n",
              "      <td>0.942600</td>\n",
              "    </tr>\n",
              "    <tr>\n",
              "      <td>24</td>\n",
              "      <td>0.881000</td>\n",
              "    </tr>\n",
              "    <tr>\n",
              "      <td>25</td>\n",
              "      <td>0.648800</td>\n",
              "    </tr>\n",
              "    <tr>\n",
              "      <td>26</td>\n",
              "      <td>0.803100</td>\n",
              "    </tr>\n",
              "    <tr>\n",
              "      <td>27</td>\n",
              "      <td>0.814900</td>\n",
              "    </tr>\n",
              "    <tr>\n",
              "      <td>28</td>\n",
              "      <td>0.768900</td>\n",
              "    </tr>\n",
              "    <tr>\n",
              "      <td>29</td>\n",
              "      <td>0.974300</td>\n",
              "    </tr>\n",
              "    <tr>\n",
              "      <td>30</td>\n",
              "      <td>0.894600</td>\n",
              "    </tr>\n",
              "    <tr>\n",
              "      <td>31</td>\n",
              "      <td>0.656200</td>\n",
              "    </tr>\n",
              "    <tr>\n",
              "      <td>32</td>\n",
              "      <td>0.539600</td>\n",
              "    </tr>\n",
              "    <tr>\n",
              "      <td>33</td>\n",
              "      <td>0.657700</td>\n",
              "    </tr>\n",
              "    <tr>\n",
              "      <td>34</td>\n",
              "      <td>0.552900</td>\n",
              "    </tr>\n",
              "    <tr>\n",
              "      <td>35</td>\n",
              "      <td>0.749700</td>\n",
              "    </tr>\n",
              "    <tr>\n",
              "      <td>36</td>\n",
              "      <td>0.845200</td>\n",
              "    </tr>\n",
              "    <tr>\n",
              "      <td>37</td>\n",
              "      <td>0.877400</td>\n",
              "    </tr>\n",
              "    <tr>\n",
              "      <td>38</td>\n",
              "      <td>0.714900</td>\n",
              "    </tr>\n",
              "    <tr>\n",
              "      <td>39</td>\n",
              "      <td>0.731400</td>\n",
              "    </tr>\n",
              "    <tr>\n",
              "      <td>40</td>\n",
              "      <td>0.980200</td>\n",
              "    </tr>\n",
              "    <tr>\n",
              "      <td>41</td>\n",
              "      <td>0.755500</td>\n",
              "    </tr>\n",
              "    <tr>\n",
              "      <td>42</td>\n",
              "      <td>0.941300</td>\n",
              "    </tr>\n",
              "    <tr>\n",
              "      <td>43</td>\n",
              "      <td>0.819900</td>\n",
              "    </tr>\n",
              "    <tr>\n",
              "      <td>44</td>\n",
              "      <td>0.826300</td>\n",
              "    </tr>\n",
              "    <tr>\n",
              "      <td>45</td>\n",
              "      <td>0.762400</td>\n",
              "    </tr>\n",
              "    <tr>\n",
              "      <td>46</td>\n",
              "      <td>0.941000</td>\n",
              "    </tr>\n",
              "    <tr>\n",
              "      <td>47</td>\n",
              "      <td>0.806900</td>\n",
              "    </tr>\n",
              "    <tr>\n",
              "      <td>48</td>\n",
              "      <td>0.609200</td>\n",
              "    </tr>\n",
              "    <tr>\n",
              "      <td>49</td>\n",
              "      <td>0.974600</td>\n",
              "    </tr>\n",
              "    <tr>\n",
              "      <td>50</td>\n",
              "      <td>1.055500</td>\n",
              "    </tr>\n",
              "    <tr>\n",
              "      <td>51</td>\n",
              "      <td>0.561200</td>\n",
              "    </tr>\n",
              "    <tr>\n",
              "      <td>52</td>\n",
              "      <td>0.998100</td>\n",
              "    </tr>\n",
              "    <tr>\n",
              "      <td>53</td>\n",
              "      <td>1.006000</td>\n",
              "    </tr>\n",
              "    <tr>\n",
              "      <td>54</td>\n",
              "      <td>0.686900</td>\n",
              "    </tr>\n",
              "    <tr>\n",
              "      <td>55</td>\n",
              "      <td>1.043900</td>\n",
              "    </tr>\n",
              "    <tr>\n",
              "      <td>56</td>\n",
              "      <td>1.140300</td>\n",
              "    </tr>\n",
              "    <tr>\n",
              "      <td>57</td>\n",
              "      <td>0.683900</td>\n",
              "    </tr>\n",
              "    <tr>\n",
              "      <td>58</td>\n",
              "      <td>0.810200</td>\n",
              "    </tr>\n",
              "    <tr>\n",
              "      <td>59</td>\n",
              "      <td>0.796500</td>\n",
              "    </tr>\n",
              "    <tr>\n",
              "      <td>60</td>\n",
              "      <td>0.832400</td>\n",
              "    </tr>\n",
              "  </tbody>\n",
              "</table><p>"
            ],
            "text/plain": [
              "<IPython.core.display.HTML object>"
            ]
          },
          "metadata": {},
          "output_type": "display_data"
        }
      ],
      "source": [
        "trainer_stats = trainer.train()"
      ]
    },
    {
      "cell_type": "code",
      "execution_count": null,
      "metadata": {
        "cellView": "form",
        "colab": {
          "base_uri": "https://localhost:8080/"
        },
        "id": "pCqnaKmlO1U9",
        "outputId": "fcbecf7f-b8a1-45d5-f415-eec2bdf96576"
      },
      "outputs": [
        {
          "name": "stdout",
          "output_type": "stream",
          "text": [
            "446.5262 seconds used for training.\n",
            "7.44 minutes used for training.\n",
            "Peak reserved memory = 6.531 GB.\n",
            "Peak reserved memory for training = 3.896 GB.\n",
            "Peak reserved memory % of max memory = 44.284 %.\n",
            "Peak reserved memory for training % of max memory = 26.417 %.\n"
          ]
        }
      ],
      "source": [
        "# @title Show final memory and time stats\n",
        "used_memory = round(torch.cuda.max_memory_reserved() / 1024 / 1024 / 1024, 3)\n",
        "used_memory_for_lora = round(used_memory - start_gpu_memory, 3)\n",
        "used_percentage = round(used_memory / max_memory * 100, 3)\n",
        "lora_percentage = round(used_memory_for_lora / max_memory * 100, 3)\n",
        "print(f\"{trainer_stats.metrics['train_runtime']} seconds used for training.\")\n",
        "print(\n",
        "    f\"{round(trainer_stats.metrics['train_runtime']/60, 2)} minutes used for training.\"\n",
        ")\n",
        "print(f\"Peak reserved memory = {used_memory} GB.\")\n",
        "print(f\"Peak reserved memory for training = {used_memory_for_lora} GB.\")\n",
        "print(f\"Peak reserved memory % of max memory = {used_percentage} %.\")\n",
        "print(f\"Peak reserved memory for training % of max memory = {lora_percentage} %.\")"
      ]
    },
    {
      "cell_type": "markdown",
      "metadata": {
        "id": "ekOmTR1hSNcr"
      },
      "source": [
        "<a name=\"Inference\"></a>\n",
        "### Inference\n",
        "Let's run the model! You can change the instruction and input - leave the output blank!\n",
        "\n",
        "\n",
        "\n",
        "We use `min_p = 0.1` and `temperature = 1.5`. Read this [Tweet](https://x.com/menhguin/status/1826132708508213629) for more information on why."
      ]
    },
    {
      "cell_type": "code",
      "execution_count": null,
      "metadata": {
        "colab": {
          "base_uri": "https://localhost:8080/"
        },
        "id": "kR3gIAX-SM2q",
        "outputId": "53188d07-ba68-420e-874b-1bace9929aa0"
      },
      "outputs": [
        {
          "name": "stderr",
          "output_type": "stream",
          "text": [
            "The attention mask is not set and cannot be inferred from input because pad token is same as eos token. As a consequence, you may observe unexpected behavior. Please pass your input's `attention_mask` to obtain reliable results.\n"
          ]
        },
        {
          "data": {
            "text/plain": [
              "['<|begin_of_text|><|start_header_id|>system<|end_header_id|>\\n\\nCutting Knowledge Date: December 2023\\nToday Date: 26 July 2024\\n\\n<|eot_id|><|start_header_id|>user<|end_header_id|>\\n\\nContinue the fibonnaci sequence: 1, 1, 2, 3, 5, 8,<|eot_id|><|start_header_id|>assistant<|end_header_id|>\\n\\nThe Fibonacci sequence is a series of numbers in which each number is the sum of the two preceding numbers. The sequence is: 1, 1, 2, 3, 5, 8, 13, 21, 34, 55, 89, 144.<|eot_id|>']"
            ]
          },
          "execution_count": 15,
          "metadata": {},
          "output_type": "execute_result"
        }
      ],
      "source": [
        "from unsloth.chat_templates import get_chat_template\n",
        "\n",
        "tokenizer = get_chat_template(\n",
        "    tokenizer,\n",
        "    chat_template = \"llama-3.1\",\n",
        ")\n",
        "FastLanguageModel.for_inference(model) # Enable native 2x faster inference\n",
        "\n",
        "messages = [\n",
        "    {\"role\": \"user\", \"content\": \"Continue the fibonnaci sequence: 1, 1, 2, 3, 5, 8,\"},\n",
        "]\n",
        "inputs = tokenizer.apply_chat_template(\n",
        "    messages,\n",
        "    tokenize = True,\n",
        "    add_generation_prompt = True, # Must add for generation\n",
        "    return_tensors = \"pt\",\n",
        ").to(\"cuda\")\n",
        "\n",
        "outputs = model.generate(input_ids = inputs, max_new_tokens = 64, use_cache = True,\n",
        "                         temperature = 1.5, min_p = 0.1)\n",
        "tokenizer.batch_decode(outputs)"
      ]
    },
    {
      "cell_type": "markdown",
      "metadata": {
        "id": "CrSvZObor0lY"
      },
      "source": [
        " You can also use a `TextStreamer` for continuous inference - so you can see the generation token by token, instead of waiting the whole time!"
      ]
    },
    {
      "cell_type": "code",
      "execution_count": null,
      "metadata": {
        "colab": {
          "base_uri": "https://localhost:8080/"
        },
        "id": "e2pEuRb1r2Vg",
        "outputId": "d4096dc5-c359-49c0-c08f-f8c890e414e5"
      },
      "outputs": [
        {
          "name": "stdout",
          "output_type": "stream",
          "text": [
            "The Fibonacci sequence is a series of numbers where each number is the sum of the two preceding numbers. \n",
            "\n",
            "The sequence you provided was: 1, 1, 2, 3, 5, 8, 13\n",
            "\n",
            "The next number in the sequence would be 21, which is 8 + 13. The sequence continues as: 21, 34, 55, 89, 144, 233.<|eot_id|>\n"
          ]
        }
      ],
      "source": [
        "FastLanguageModel.for_inference(model) # Enable native 2x faster inference\n",
        "\n",
        "messages = [\n",
        "    {\"role\": \"user\", \"content\": \"Continue the fibonnaci sequence: 1, 1, 2, 3, 5, 8,\"},\n",
        "]\n",
        "inputs = tokenizer.apply_chat_template(\n",
        "    messages,\n",
        "    tokenize = True,\n",
        "    add_generation_prompt = True, # Must add for generation\n",
        "    return_tensors = \"pt\",\n",
        ").to(\"cuda\")\n",
        "\n",
        "from transformers import TextStreamer\n",
        "text_streamer = TextStreamer(tokenizer, skip_prompt = True)\n",
        "_ = model.generate(input_ids = inputs, streamer = text_streamer, max_new_tokens = 128,\n",
        "                   use_cache = True, temperature = 1.5, min_p = 0.1)"
      ]
    },
    {
      "cell_type": "markdown",
      "metadata": {
        "id": "uMuVrWbjAzhc"
      },
      "source": [
        "<a name=\"Save\"></a>\n",
        "### Saving, loading finetuned models\n",
        "To save the final model as LoRA adapters, either use Huggingface's `push_to_hub` for an online save or `save_pretrained` for a local save.\n",
        "\n",
        "**[NOTE]** This ONLY saves the LoRA adapters, and not the full model. To save to 16bit or GGUF, scroll down!"
      ]
    },
    {
      "cell_type": "code",
      "execution_count": null,
      "metadata": {
        "colab": {
          "base_uri": "https://localhost:8080/"
        },
        "id": "upcOlWe7A1vc",
        "outputId": "c962e43a-2027-4a39-ea03-870b707a22d4"
      },
      "outputs": [
        {
          "data": {
            "text/plain": [
              "('lora_model/tokenizer_config.json',\n",
              " 'lora_model/special_tokens_map.json',\n",
              " 'lora_model/tokenizer.json')"
            ]
          },
          "execution_count": 17,
          "metadata": {},
          "output_type": "execute_result"
        }
      ],
      "source": [
        "model.save_pretrained(\"lora_model\")  # Local saving\n",
        "tokenizer.save_pretrained(\"lora_model\")\n",
        "# model.push_to_hub(\"your_name/lora_model\", token = \"...\") # Online saving\n",
        "# tokenizer.push_to_hub(\"your_name/lora_model\", token = \"...\") # Online saving"
      ]
    },
    {
      "cell_type": "markdown",
      "metadata": {
        "id": "AEEcJ4qfC7Lp"
      },
      "source": [
        "Now if you want to load the LoRA adapters we just saved for inference, set `False` to `True`:"
      ]
    },
    {
      "cell_type": "code",
      "execution_count": null,
      "metadata": {
        "colab": {
          "base_uri": "https://localhost:8080/"
        },
        "id": "MKX_XKs_BNZR",
        "outputId": "f22dbd75-ea37-48bb-9f75-4178aebe9353"
      },
      "outputs": [
        {
          "name": "stdout",
          "output_type": "stream",
          "text": [
            "The Eiffel Tower, located in the heart of Paris, stands tall among the city's historic and cultural landmarks. This iron structure, standing at an impressive 324 meters high, offers breathtaking views of the City of Light's iconic landscape. The Eiffel Tower was built for the 1889 World's Fair and has since become a symbol of French engineering and culture.<|eot_id|>\n"
          ]
        }
      ],
      "source": [
        "if False:\n",
        "    from unsloth import FastLanguageModel\n",
        "    model, tokenizer = FastLanguageModel.from_pretrained(\n",
        "        model_name = \"lora_model\", # YOUR MODEL YOU USED FOR TRAINING\n",
        "        max_seq_length = max_seq_length,\n",
        "        dtype = dtype,\n",
        "        load_in_4bit = load_in_4bit,\n",
        "    )\n",
        "    FastLanguageModel.for_inference(model) # Enable native 2x faster inference\n",
        "\n",
        "messages = [\n",
        "    {\"role\": \"user\", \"content\": \"Describe a tall tower in the capital of France.\"},\n",
        "]\n",
        "inputs = tokenizer.apply_chat_template(\n",
        "    messages,\n",
        "    tokenize = True,\n",
        "    add_generation_prompt = True, # Must add for generation\n",
        "    return_tensors = \"pt\",\n",
        ").to(\"cuda\")\n",
        "\n",
        "from transformers import TextStreamer\n",
        "text_streamer = TextStreamer(tokenizer, skip_prompt = True)\n",
        "_ = model.generate(input_ids = inputs, streamer = text_streamer, max_new_tokens = 128,\n",
        "                   use_cache = True, temperature = 1.5, min_p = 0.1)"
      ]
    },
    {
      "cell_type": "markdown",
      "metadata": {
        "id": "QQMjaNrjsU5_"
      },
      "source": [
        "You can also use Hugging Face's `AutoModelForPeftCausalLM`. Only use this if you do not have `unsloth` installed. It can be hopelessly slow, since `4bit` model downloading is not supported, and Unsloth's **inference is 2x faster**."
      ]
    },
    {
      "cell_type": "code",
      "execution_count": null,
      "metadata": {
        "id": "yFfaXG0WsQuE"
      },
      "outputs": [],
      "source": [
        "if False:\n",
        "    # I highly do NOT suggest - use Unsloth if possible\n",
        "    from peft import AutoPeftModelForCausalLM\n",
        "    from transformers import AutoTokenizer\n",
        "    model = AutoPeftModelForCausalLM.from_pretrained(\n",
        "        \"lora_model\", # YOUR MODEL YOU USED FOR TRAINING\n",
        "        load_in_4bit = load_in_4bit,\n",
        "    )\n",
        "    tokenizer = AutoTokenizer.from_pretrained(\"lora_model\")"
      ]
    },
    {
      "cell_type": "markdown",
      "metadata": {
        "id": "f422JgM9sdVT"
      },
      "source": [
        "### Saving to float16 for VLLM\n",
        "\n",
        "We also support saving to `float16` directly. Select `merged_16bit` for float16 or `merged_4bit` for int4. We also allow `lora` adapters as a fallback. Use `push_to_hub_merged` to upload to your Hugging Face account! You can go to https://huggingface.co/settings/tokens for your personal tokens."
      ]
    },
    {
      "cell_type": "code",
      "execution_count": null,
      "metadata": {
        "id": "iHjt_SMYsd3P"
      },
      "outputs": [],
      "source": [
        "# Merge to 16bit\n",
        "if False: model.save_pretrained_merged(\"model\", tokenizer, save_method = \"merged_16bit\",)\n",
        "if False: model.push_to_hub_merged(\"hf/model\", tokenizer, save_method = \"merged_16bit\", token = \"\")\n",
        "\n",
        "# Merge to 4bit\n",
        "if False: model.save_pretrained_merged(\"model\", tokenizer, save_method = \"merged_4bit\",)\n",
        "if False: model.push_to_hub_merged(\"hf/model\", tokenizer, save_method = \"merged_4bit\", token = \"\")\n",
        "\n",
        "# Just LoRA adapters\n",
        "if False:\n",
        "    model.save_pretrained(\"model\")\n",
        "    tokenizer.save_pretrained(\"model\")\n",
        "if False:\n",
        "    model.push_to_hub(\"hf/model\", token = \"\")\n",
        "    tokenizer.push_to_hub(\"hf/model\", token = \"\")\n"
      ]
    },
    {
      "cell_type": "markdown",
      "metadata": {
        "id": "TCv4vXHd61i7"
      },
      "source": [
        "### GGUF / llama.cpp Conversion\n",
        "To save to `GGUF` / `llama.cpp`, we support it natively now! We clone `llama.cpp` and we default save it to `q8_0`. We allow all methods like `q4_k_m`. Use `save_pretrained_gguf` for local saving and `push_to_hub_gguf` for uploading to HF.\n",
        "\n",
        "Some supported quant methods (full list on our [Wiki page](https://github.com/unslothai/unsloth/wiki#gguf-quantization-options)):\n",
        "* `q8_0` - Fast conversion. High resource use, but generally acceptable.\n",
        "* `q4_k_m` - Recommended. Uses Q6_K for half of the attention.wv and feed_forward.w2 tensors, else Q4_K.\n",
        "* `q5_k_m` - Recommended. Uses Q6_K for half of the attention.wv and feed_forward.w2 tensors, else Q5_K.\n",
        "\n",
        "[**NEW**] To finetune and auto export to Ollama, try our [Ollama notebook](https://colab.research.google.com/github/unslothai/notebooks/blob/main/nb/Llama3_(8B)-Ollama.ipynb)"
      ]
    },
    {
      "cell_type": "code",
      "execution_count": null,
      "metadata": {
        "id": "FqfebeAdT073"
      },
      "outputs": [],
      "source": [
        "# Save to 8bit Q8_0\n",
        "if False: model.save_pretrained_gguf(\"model\", tokenizer,)\n",
        "# Remember to go to https://huggingface.co/settings/tokens for a token!\n",
        "# And change hf to your username!\n",
        "if False: model.push_to_hub_gguf(\"hf/model\", tokenizer, token = \"\")\n",
        "\n",
        "# Save to 16bit GGUF\n",
        "if False: model.save_pretrained_gguf(\"model\", tokenizer, quantization_method = \"f16\")\n",
        "if False: model.push_to_hub_gguf(\"hf/model\", tokenizer, quantization_method = \"f16\", token = \"\")\n",
        "\n",
        "# Save to q4_k_m GGUF\n",
        "if False: model.save_pretrained_gguf(\"model\", tokenizer, quantization_method = \"q4_k_m\")\n",
        "if False: model.push_to_hub_gguf(\"hf/model\", tokenizer, quantization_method = \"q4_k_m\", token = \"\")\n",
        "\n",
        "# Save to multiple GGUF options - much faster if you want multiple!\n",
        "if False:\n",
        "    model.push_to_hub_gguf(\n",
        "        \"hf/model\", # Change hf to your username!\n",
        "        tokenizer,\n",
        "        quantization_method = [\"q4_k_m\", \"q8_0\", \"q5_k_m\",],\n",
        "        token = \"\", # Get a token at https://huggingface.co/settings/tokens\n",
        "    )"
      ]
    },
    {
      "cell_type": "markdown",
      "metadata": {
        "id": "19KjOKLJQkxJ"
      },
      "source": [
        "Now, use the `model-unsloth.gguf` file or `model-unsloth-Q4_K_M.gguf` file in llama.cpp or a UI based system like Jan or Open WebUI. You can install Jan [here](https://github.com/janhq/jan) and Open WebUI [here](https://github.com/open-webui/open-webui)\n",
        "\n",
        "And we're done! If you have any questions on Unsloth, we have a [Discord](https://discord.gg/unsloth) channel! If you find any bugs or want to keep updated with the latest LLM stuff, or need help, join projects etc, feel free to join our Discord!\n",
        "\n",
        "Some other links:\n",
        "1. Train your own reasoning model - Llama GRPO notebook [Free Colab](https://colab.research.google.com/github/unslothai/notebooks/blob/main/nb/Llama3.1_(8B)-GRPO.ipynb)\n",
        "2. Saving finetunes to Ollama. [Free notebook](https://colab.research.google.com/github/unslothai/notebooks/blob/main/nb/Llama3_(8B)-Ollama.ipynb)\n",
        "3. Llama 3.2 Vision finetuning - Radiography use case. [Free Colab](https://colab.research.google.com/github/unslothai/notebooks/blob/main/nb/Llama3.2_(11B)-Vision.ipynb)\n",
        "6. See notebooks for DPO, ORPO, Continued pretraining, conversational finetuning and more on our [documentation](https://docs.unsloth.ai/get-started/unsloth-notebooks)!\n",
        "\n",
        "<div class=\"align-center\">\n",
        "  <a href=\"https://unsloth.ai\"><img src=\"https://github.com/unslothai/unsloth/raw/main/images/unsloth%20new%20logo.png\" width=\"115\"></a>\n",
        "  <a href=\"https://discord.gg/unsloth\"><img src=\"https://github.com/unslothai/unsloth/raw/main/images/Discord.png\" width=\"145\"></a>\n",
        "  <a href=\"https://docs.unsloth.ai/\"><img src=\"https://github.com/unslothai/unsloth/blob/main/images/documentation%20green%20button.png?raw=true\" width=\"125\"></a>\n",
        "\n",
        "  Join Discord if you need help + ⭐️ <i>Star us on <a href=\"https://github.com/unslothai/unsloth\">Github</a> </i> ⭐️\n",
        "</div>\n"
      ]
    }
  ],
  "metadata": {
    "accelerator": "GPU",
    "colab": {
      "gpuType": "T4",
      "provenance": [],
      "toc_visible": true
    },
    "kernelspec": {
      "display_name": "Python 3",
      "name": "python3"
    },
    "language_info": {
      "name": "python"
    },
    "widgets": {
      "application/vnd.jupyter.widget-state+json": {
        "1e4ea03959b3496f8e75cc3588cf347c": {
          "model_module": "@jupyter-widgets/controls",
          "model_module_version": "1.5.0",
          "model_name": "DescriptionStyleModel",
          "state": {
            "_model_module": "@jupyter-widgets/controls",
            "_model_module_version": "1.5.0",
            "_model_name": "DescriptionStyleModel",
            "_view_count": null,
            "_view_module": "@jupyter-widgets/base",
            "_view_module_version": "1.2.0",
            "_view_name": "StyleView",
            "description_width": ""
          }
        },
        "23907906314743938db4e484c15480cc": {
          "model_module": "@jupyter-widgets/controls",
          "model_module_version": "1.5.0",
          "model_name": "DescriptionStyleModel",
          "state": {
            "_model_module": "@jupyter-widgets/controls",
            "_model_module_version": "1.5.0",
            "_model_name": "DescriptionStyleModel",
            "_view_count": null,
            "_view_module": "@jupyter-widgets/base",
            "_view_module_version": "1.2.0",
            "_view_name": "StyleView",
            "description_width": ""
          }
        },
        "378176d2f0c9466d8762a584edf4217d": {
          "model_module": "@jupyter-widgets/base",
          "model_module_version": "1.2.0",
          "model_name": "LayoutModel",
          "state": {
            "_model_module": "@jupyter-widgets/base",
            "_model_module_version": "1.2.0",
            "_model_name": "LayoutModel",
            "_view_count": null,
            "_view_module": "@jupyter-widgets/base",
            "_view_module_version": "1.2.0",
            "_view_name": "LayoutView",
            "align_content": null,
            "align_items": null,
            "align_self": null,
            "border": null,
            "bottom": null,
            "display": null,
            "flex": null,
            "flex_flow": null,
            "grid_area": null,
            "grid_auto_columns": null,
            "grid_auto_flow": null,
            "grid_auto_rows": null,
            "grid_column": null,
            "grid_gap": null,
            "grid_row": null,
            "grid_template_areas": null,
            "grid_template_columns": null,
            "grid_template_rows": null,
            "height": null,
            "justify_content": null,
            "justify_items": null,
            "left": null,
            "margin": null,
            "max_height": null,
            "max_width": null,
            "min_height": null,
            "min_width": null,
            "object_fit": null,
            "object_position": null,
            "order": null,
            "overflow": null,
            "overflow_x": null,
            "overflow_y": null,
            "padding": null,
            "right": null,
            "top": null,
            "visibility": null,
            "width": null
          }
        },
        "3cd95b7c5e2f4c6883333045db11c6d6": {
          "model_module": "@jupyter-widgets/base",
          "model_module_version": "1.2.0",
          "model_name": "LayoutModel",
          "state": {
            "_model_module": "@jupyter-widgets/base",
            "_model_module_version": "1.2.0",
            "_model_name": "LayoutModel",
            "_view_count": null,
            "_view_module": "@jupyter-widgets/base",
            "_view_module_version": "1.2.0",
            "_view_name": "LayoutView",
            "align_content": null,
            "align_items": null,
            "align_self": null,
            "border": null,
            "bottom": null,
            "display": null,
            "flex": null,
            "flex_flow": null,
            "grid_area": null,
            "grid_auto_columns": null,
            "grid_auto_flow": null,
            "grid_auto_rows": null,
            "grid_column": null,
            "grid_gap": null,
            "grid_row": null,
            "grid_template_areas": null,
            "grid_template_columns": null,
            "grid_template_rows": null,
            "height": null,
            "justify_content": null,
            "justify_items": null,
            "left": null,
            "margin": null,
            "max_height": null,
            "max_width": null,
            "min_height": null,
            "min_width": null,
            "object_fit": null,
            "object_position": null,
            "order": null,
            "overflow": null,
            "overflow_x": null,
            "overflow_y": null,
            "padding": null,
            "right": null,
            "top": null,
            "visibility": null,
            "width": null
          }
        },
        "3ffe42931dcf4a69972f4d50ee4dd3dd": {
          "model_module": "@jupyter-widgets/controls",
          "model_module_version": "1.5.0",
          "model_name": "HBoxModel",
          "state": {
            "_dom_classes": [],
            "_model_module": "@jupyter-widgets/controls",
            "_model_module_version": "1.5.0",
            "_model_name": "HBoxModel",
            "_view_count": null,
            "_view_module": "@jupyter-widgets/controls",
            "_view_module_version": "1.5.0",
            "_view_name": "HBoxView",
            "box_style": "",
            "children": [
              "IPY_MODEL_ee9dcec2d5c44fd883f16c06b9f76264",
              "IPY_MODEL_982b6b94642d49fa85fab6ad621392fe",
              "IPY_MODEL_42990f347a8c42f7b510e2d17c7d3c6e"
            ],
            "layout": "IPY_MODEL_3cd95b7c5e2f4c6883333045db11c6d6"
          }
        },
        "42990f347a8c42f7b510e2d17c7d3c6e": {
          "model_module": "@jupyter-widgets/controls",
          "model_module_version": "1.5.0",
          "model_name": "HTMLModel",
          "state": {
            "_dom_classes": [],
            "_model_module": "@jupyter-widgets/controls",
            "_model_module_version": "1.5.0",
            "_model_name": "HTMLModel",
            "_view_count": null,
            "_view_module": "@jupyter-widgets/controls",
            "_view_module_version": "1.5.0",
            "_view_name": "HTMLView",
            "description": "",
            "description_tooltip": null,
            "layout": "IPY_MODEL_74dc78a38e30465a96d2c8a22a27b127",
            "placeholder": "​",
            "style": "IPY_MODEL_c6b4759ce826421081508270cb30334b",
            "value": " 100000/100000 [03:00&lt;00:00, 544.59 examples/s]"
          }
        },
        "5b34a4e8fc7747e78b49ad5bf67a6580": {
          "model_module": "@jupyter-widgets/base",
          "model_module_version": "1.2.0",
          "model_name": "LayoutModel",
          "state": {
            "_model_module": "@jupyter-widgets/base",
            "_model_module_version": "1.2.0",
            "_model_name": "LayoutModel",
            "_view_count": null,
            "_view_module": "@jupyter-widgets/base",
            "_view_module_version": "1.2.0",
            "_view_name": "LayoutView",
            "align_content": null,
            "align_items": null,
            "align_self": null,
            "border": null,
            "bottom": null,
            "display": null,
            "flex": null,
            "flex_flow": null,
            "grid_area": null,
            "grid_auto_columns": null,
            "grid_auto_flow": null,
            "grid_auto_rows": null,
            "grid_column": null,
            "grid_gap": null,
            "grid_row": null,
            "grid_template_areas": null,
            "grid_template_columns": null,
            "grid_template_rows": null,
            "height": null,
            "justify_content": null,
            "justify_items": null,
            "left": null,
            "margin": null,
            "max_height": null,
            "max_width": null,
            "min_height": null,
            "min_width": null,
            "object_fit": null,
            "object_position": null,
            "order": null,
            "overflow": null,
            "overflow_x": null,
            "overflow_y": null,
            "padding": null,
            "right": null,
            "top": null,
            "visibility": null,
            "width": null
          }
        },
        "6064feeea79040409e18a1e2a289b09a": {
          "model_module": "@jupyter-widgets/controls",
          "model_module_version": "1.5.0",
          "model_name": "HBoxModel",
          "state": {
            "_dom_classes": [],
            "_model_module": "@jupyter-widgets/controls",
            "_model_module_version": "1.5.0",
            "_model_name": "HBoxModel",
            "_view_count": null,
            "_view_module": "@jupyter-widgets/controls",
            "_view_module_version": "1.5.0",
            "_view_name": "HBoxView",
            "box_style": "",
            "children": [
              "IPY_MODEL_bb241a26ca4d4d7186ba46cda1f8a802",
              "IPY_MODEL_c9abb42da1734388a7d2f1a06832ecc6",
              "IPY_MODEL_7c3a37494e5848b9994b37a4c8bac132"
            ],
            "layout": "IPY_MODEL_c668ae4c7d174f2dad3fb837ff873e57"
          }
        },
        "6d52daf29c90402a9762acdde765713f": {
          "model_module": "@jupyter-widgets/controls",
          "model_module_version": "1.5.0",
          "model_name": "DescriptionStyleModel",
          "state": {
            "_model_module": "@jupyter-widgets/controls",
            "_model_module_version": "1.5.0",
            "_model_name": "DescriptionStyleModel",
            "_view_count": null,
            "_view_module": "@jupyter-widgets/base",
            "_view_module_version": "1.2.0",
            "_view_name": "StyleView",
            "description_width": ""
          }
        },
        "74dc78a38e30465a96d2c8a22a27b127": {
          "model_module": "@jupyter-widgets/base",
          "model_module_version": "1.2.0",
          "model_name": "LayoutModel",
          "state": {
            "_model_module": "@jupyter-widgets/base",
            "_model_module_version": "1.2.0",
            "_model_name": "LayoutModel",
            "_view_count": null,
            "_view_module": "@jupyter-widgets/base",
            "_view_module_version": "1.2.0",
            "_view_name": "LayoutView",
            "align_content": null,
            "align_items": null,
            "align_self": null,
            "border": null,
            "bottom": null,
            "display": null,
            "flex": null,
            "flex_flow": null,
            "grid_area": null,
            "grid_auto_columns": null,
            "grid_auto_flow": null,
            "grid_auto_rows": null,
            "grid_column": null,
            "grid_gap": null,
            "grid_row": null,
            "grid_template_areas": null,
            "grid_template_columns": null,
            "grid_template_rows": null,
            "height": null,
            "justify_content": null,
            "justify_items": null,
            "left": null,
            "margin": null,
            "max_height": null,
            "max_width": null,
            "min_height": null,
            "min_width": null,
            "object_fit": null,
            "object_position": null,
            "order": null,
            "overflow": null,
            "overflow_x": null,
            "overflow_y": null,
            "padding": null,
            "right": null,
            "top": null,
            "visibility": null,
            "width": null
          }
        },
        "7c3a37494e5848b9994b37a4c8bac132": {
          "model_module": "@jupyter-widgets/controls",
          "model_module_version": "1.5.0",
          "model_name": "HTMLModel",
          "state": {
            "_dom_classes": [],
            "_model_module": "@jupyter-widgets/controls",
            "_model_module_version": "1.5.0",
            "_model_name": "HTMLModel",
            "_view_count": null,
            "_view_module": "@jupyter-widgets/controls",
            "_view_module_version": "1.5.0",
            "_view_name": "HTMLView",
            "description": "",
            "description_tooltip": null,
            "layout": "IPY_MODEL_d5cfa138483f4007b2a95be833043235",
            "placeholder": "​",
            "style": "IPY_MODEL_6d52daf29c90402a9762acdde765713f",
            "value": " 100000/100000 [01:07&lt;00:00, 2101.01 examples/s]"
          }
        },
        "870ff8f17c7b47ec8d49cac84216b04c": {
          "model_module": "@jupyter-widgets/controls",
          "model_module_version": "1.5.0",
          "model_name": "ProgressStyleModel",
          "state": {
            "_model_module": "@jupyter-widgets/controls",
            "_model_module_version": "1.5.0",
            "_model_name": "ProgressStyleModel",
            "_view_count": null,
            "_view_module": "@jupyter-widgets/base",
            "_view_module_version": "1.2.0",
            "_view_name": "StyleView",
            "bar_color": null,
            "description_width": ""
          }
        },
        "982b6b94642d49fa85fab6ad621392fe": {
          "model_module": "@jupyter-widgets/controls",
          "model_module_version": "1.5.0",
          "model_name": "FloatProgressModel",
          "state": {
            "_dom_classes": [],
            "_model_module": "@jupyter-widgets/controls",
            "_model_module_version": "1.5.0",
            "_model_name": "FloatProgressModel",
            "_view_count": null,
            "_view_module": "@jupyter-widgets/controls",
            "_view_module_version": "1.5.0",
            "_view_name": "ProgressView",
            "bar_style": "success",
            "description": "",
            "description_tooltip": null,
            "layout": "IPY_MODEL_378176d2f0c9466d8762a584edf4217d",
            "max": 100000,
            "min": 0,
            "orientation": "horizontal",
            "style": "IPY_MODEL_e221482cbe95465191212d85d539938c",
            "value": 100000
          }
        },
        "bb241a26ca4d4d7186ba46cda1f8a802": {
          "model_module": "@jupyter-widgets/controls",
          "model_module_version": "1.5.0",
          "model_name": "HTMLModel",
          "state": {
            "_dom_classes": [],
            "_model_module": "@jupyter-widgets/controls",
            "_model_module_version": "1.5.0",
            "_model_name": "HTMLModel",
            "_view_count": null,
            "_view_module": "@jupyter-widgets/controls",
            "_view_module_version": "1.5.0",
            "_view_name": "HTMLView",
            "description": "",
            "description_tooltip": null,
            "layout": "IPY_MODEL_dd30f3ead6394317be5a72aa890adfb9",
            "placeholder": "​",
            "style": "IPY_MODEL_1e4ea03959b3496f8e75cc3588cf347c",
            "value": "Map: 100%"
          }
        },
        "c668ae4c7d174f2dad3fb837ff873e57": {
          "model_module": "@jupyter-widgets/base",
          "model_module_version": "1.2.0",
          "model_name": "LayoutModel",
          "state": {
            "_model_module": "@jupyter-widgets/base",
            "_model_module_version": "1.2.0",
            "_model_name": "LayoutModel",
            "_view_count": null,
            "_view_module": "@jupyter-widgets/base",
            "_view_module_version": "1.2.0",
            "_view_name": "LayoutView",
            "align_content": null,
            "align_items": null,
            "align_self": null,
            "border": null,
            "bottom": null,
            "display": null,
            "flex": null,
            "flex_flow": null,
            "grid_area": null,
            "grid_auto_columns": null,
            "grid_auto_flow": null,
            "grid_auto_rows": null,
            "grid_column": null,
            "grid_gap": null,
            "grid_row": null,
            "grid_template_areas": null,
            "grid_template_columns": null,
            "grid_template_rows": null,
            "height": null,
            "justify_content": null,
            "justify_items": null,
            "left": null,
            "margin": null,
            "max_height": null,
            "max_width": null,
            "min_height": null,
            "min_width": null,
            "object_fit": null,
            "object_position": null,
            "order": null,
            "overflow": null,
            "overflow_x": null,
            "overflow_y": null,
            "padding": null,
            "right": null,
            "top": null,
            "visibility": null,
            "width": null
          }
        },
        "c6b4759ce826421081508270cb30334b": {
          "model_module": "@jupyter-widgets/controls",
          "model_module_version": "1.5.0",
          "model_name": "DescriptionStyleModel",
          "state": {
            "_model_module": "@jupyter-widgets/controls",
            "_model_module_version": "1.5.0",
            "_model_name": "DescriptionStyleModel",
            "_view_count": null,
            "_view_module": "@jupyter-widgets/base",
            "_view_module_version": "1.2.0",
            "_view_name": "StyleView",
            "description_width": ""
          }
        },
        "c9abb42da1734388a7d2f1a06832ecc6": {
          "model_module": "@jupyter-widgets/controls",
          "model_module_version": "1.5.0",
          "model_name": "FloatProgressModel",
          "state": {
            "_dom_classes": [],
            "_model_module": "@jupyter-widgets/controls",
            "_model_module_version": "1.5.0",
            "_model_name": "FloatProgressModel",
            "_view_count": null,
            "_view_module": "@jupyter-widgets/controls",
            "_view_module_version": "1.5.0",
            "_view_name": "ProgressView",
            "bar_style": "success",
            "description": "",
            "description_tooltip": null,
            "layout": "IPY_MODEL_d356b597dda14c7ab023403ee6959cf8",
            "max": 100000,
            "min": 0,
            "orientation": "horizontal",
            "style": "IPY_MODEL_870ff8f17c7b47ec8d49cac84216b04c",
            "value": 100000
          }
        },
        "d356b597dda14c7ab023403ee6959cf8": {
          "model_module": "@jupyter-widgets/base",
          "model_module_version": "1.2.0",
          "model_name": "LayoutModel",
          "state": {
            "_model_module": "@jupyter-widgets/base",
            "_model_module_version": "1.2.0",
            "_model_name": "LayoutModel",
            "_view_count": null,
            "_view_module": "@jupyter-widgets/base",
            "_view_module_version": "1.2.0",
            "_view_name": "LayoutView",
            "align_content": null,
            "align_items": null,
            "align_self": null,
            "border": null,
            "bottom": null,
            "display": null,
            "flex": null,
            "flex_flow": null,
            "grid_area": null,
            "grid_auto_columns": null,
            "grid_auto_flow": null,
            "grid_auto_rows": null,
            "grid_column": null,
            "grid_gap": null,
            "grid_row": null,
            "grid_template_areas": null,
            "grid_template_columns": null,
            "grid_template_rows": null,
            "height": null,
            "justify_content": null,
            "justify_items": null,
            "left": null,
            "margin": null,
            "max_height": null,
            "max_width": null,
            "min_height": null,
            "min_width": null,
            "object_fit": null,
            "object_position": null,
            "order": null,
            "overflow": null,
            "overflow_x": null,
            "overflow_y": null,
            "padding": null,
            "right": null,
            "top": null,
            "visibility": null,
            "width": null
          }
        },
        "d5cfa138483f4007b2a95be833043235": {
          "model_module": "@jupyter-widgets/base",
          "model_module_version": "1.2.0",
          "model_name": "LayoutModel",
          "state": {
            "_model_module": "@jupyter-widgets/base",
            "_model_module_version": "1.2.0",
            "_model_name": "LayoutModel",
            "_view_count": null,
            "_view_module": "@jupyter-widgets/base",
            "_view_module_version": "1.2.0",
            "_view_name": "LayoutView",
            "align_content": null,
            "align_items": null,
            "align_self": null,
            "border": null,
            "bottom": null,
            "display": null,
            "flex": null,
            "flex_flow": null,
            "grid_area": null,
            "grid_auto_columns": null,
            "grid_auto_flow": null,
            "grid_auto_rows": null,
            "grid_column": null,
            "grid_gap": null,
            "grid_row": null,
            "grid_template_areas": null,
            "grid_template_columns": null,
            "grid_template_rows": null,
            "height": null,
            "justify_content": null,
            "justify_items": null,
            "left": null,
            "margin": null,
            "max_height": null,
            "max_width": null,
            "min_height": null,
            "min_width": null,
            "object_fit": null,
            "object_position": null,
            "order": null,
            "overflow": null,
            "overflow_x": null,
            "overflow_y": null,
            "padding": null,
            "right": null,
            "top": null,
            "visibility": null,
            "width": null
          }
        },
        "dd30f3ead6394317be5a72aa890adfb9": {
          "model_module": "@jupyter-widgets/base",
          "model_module_version": "1.2.0",
          "model_name": "LayoutModel",
          "state": {
            "_model_module": "@jupyter-widgets/base",
            "_model_module_version": "1.2.0",
            "_model_name": "LayoutModel",
            "_view_count": null,
            "_view_module": "@jupyter-widgets/base",
            "_view_module_version": "1.2.0",
            "_view_name": "LayoutView",
            "align_content": null,
            "align_items": null,
            "align_self": null,
            "border": null,
            "bottom": null,
            "display": null,
            "flex": null,
            "flex_flow": null,
            "grid_area": null,
            "grid_auto_columns": null,
            "grid_auto_flow": null,
            "grid_auto_rows": null,
            "grid_column": null,
            "grid_gap": null,
            "grid_row": null,
            "grid_template_areas": null,
            "grid_template_columns": null,
            "grid_template_rows": null,
            "height": null,
            "justify_content": null,
            "justify_items": null,
            "left": null,
            "margin": null,
            "max_height": null,
            "max_width": null,
            "min_height": null,
            "min_width": null,
            "object_fit": null,
            "object_position": null,
            "order": null,
            "overflow": null,
            "overflow_x": null,
            "overflow_y": null,
            "padding": null,
            "right": null,
            "top": null,
            "visibility": null,
            "width": null
          }
        },
        "e221482cbe95465191212d85d539938c": {
          "model_module": "@jupyter-widgets/controls",
          "model_module_version": "1.5.0",
          "model_name": "ProgressStyleModel",
          "state": {
            "_model_module": "@jupyter-widgets/controls",
            "_model_module_version": "1.5.0",
            "_model_name": "ProgressStyleModel",
            "_view_count": null,
            "_view_module": "@jupyter-widgets/base",
            "_view_module_version": "1.2.0",
            "_view_name": "StyleView",
            "bar_color": null,
            "description_width": ""
          }
        },
        "ee9dcec2d5c44fd883f16c06b9f76264": {
          "model_module": "@jupyter-widgets/controls",
          "model_module_version": "1.5.0",
          "model_name": "HTMLModel",
          "state": {
            "_dom_classes": [],
            "_model_module": "@jupyter-widgets/controls",
            "_model_module_version": "1.5.0",
            "_model_name": "HTMLModel",
            "_view_count": null,
            "_view_module": "@jupyter-widgets/controls",
            "_view_module_version": "1.5.0",
            "_view_name": "HTMLView",
            "description": "",
            "description_tooltip": null,
            "layout": "IPY_MODEL_5b34a4e8fc7747e78b49ad5bf67a6580",
            "placeholder": "​",
            "style": "IPY_MODEL_23907906314743938db4e484c15480cc",
            "value": "Map (num_proc=2): 100%"
          }
        },
        "1ba7aa21b7d0480aadafb4c533e6bc9e": {
          "model_module": "@jupyter-widgets/controls",
          "model_name": "HBoxModel",
          "model_module_version": "1.5.0",
          "state": {
            "_dom_classes": [],
            "_model_module": "@jupyter-widgets/controls",
            "_model_module_version": "1.5.0",
            "_model_name": "HBoxModel",
            "_view_count": null,
            "_view_module": "@jupyter-widgets/controls",
            "_view_module_version": "1.5.0",
            "_view_name": "HBoxView",
            "box_style": "",
            "children": [
              "IPY_MODEL_d1820c7287704510a4b2cb3f82aad03d",
              "IPY_MODEL_4a7ecb041f574b3e94c79c42fa52a420",
              "IPY_MODEL_e858028630494e94af93a9c8969d1919"
            ],
            "layout": "IPY_MODEL_97e27d95aa444f0090fc786db375a905"
          }
        },
        "d1820c7287704510a4b2cb3f82aad03d": {
          "model_module": "@jupyter-widgets/controls",
          "model_name": "HTMLModel",
          "model_module_version": "1.5.0",
          "state": {
            "_dom_classes": [],
            "_model_module": "@jupyter-widgets/controls",
            "_model_module_version": "1.5.0",
            "_model_name": "HTMLModel",
            "_view_count": null,
            "_view_module": "@jupyter-widgets/controls",
            "_view_module_version": "1.5.0",
            "_view_name": "HTMLView",
            "description": "",
            "description_tooltip": null,
            "layout": "IPY_MODEL_1b46f3cb08a7422895f4bdd8561f95cd",
            "placeholder": "​",
            "style": "IPY_MODEL_93c28342146d4a03ab70fbc1334ff59e",
            "value": "model.safetensors: 100%"
          }
        },
        "4a7ecb041f574b3e94c79c42fa52a420": {
          "model_module": "@jupyter-widgets/controls",
          "model_name": "FloatProgressModel",
          "model_module_version": "1.5.0",
          "state": {
            "_dom_classes": [],
            "_model_module": "@jupyter-widgets/controls",
            "_model_module_version": "1.5.0",
            "_model_name": "FloatProgressModel",
            "_view_count": null,
            "_view_module": "@jupyter-widgets/controls",
            "_view_module_version": "1.5.0",
            "_view_name": "ProgressView",
            "bar_style": "success",
            "description": "",
            "description_tooltip": null,
            "layout": "IPY_MODEL_37d87af7260d4907841b202078e17d61",
            "max": 2354805470,
            "min": 0,
            "orientation": "horizontal",
            "style": "IPY_MODEL_3681d8bf7bd043a18a4c45afe64f8af9",
            "value": 2354805470
          }
        },
        "e858028630494e94af93a9c8969d1919": {
          "model_module": "@jupyter-widgets/controls",
          "model_name": "HTMLModel",
          "model_module_version": "1.5.0",
          "state": {
            "_dom_classes": [],
            "_model_module": "@jupyter-widgets/controls",
            "_model_module_version": "1.5.0",
            "_model_name": "HTMLModel",
            "_view_count": null,
            "_view_module": "@jupyter-widgets/controls",
            "_view_module_version": "1.5.0",
            "_view_name": "HTMLView",
            "description": "",
            "description_tooltip": null,
            "layout": "IPY_MODEL_4b1e7b1e58a041849de1673d60a6f27a",
            "placeholder": "​",
            "style": "IPY_MODEL_0c3de270da98484da1967c690bc70a69",
            "value": " 2.35G/2.35G [00:21&lt;00:00, 192MB/s]"
          }
        },
        "97e27d95aa444f0090fc786db375a905": {
          "model_module": "@jupyter-widgets/base",
          "model_name": "LayoutModel",
          "model_module_version": "1.2.0",
          "state": {
            "_model_module": "@jupyter-widgets/base",
            "_model_module_version": "1.2.0",
            "_model_name": "LayoutModel",
            "_view_count": null,
            "_view_module": "@jupyter-widgets/base",
            "_view_module_version": "1.2.0",
            "_view_name": "LayoutView",
            "align_content": null,
            "align_items": null,
            "align_self": null,
            "border": null,
            "bottom": null,
            "display": null,
            "flex": null,
            "flex_flow": null,
            "grid_area": null,
            "grid_auto_columns": null,
            "grid_auto_flow": null,
            "grid_auto_rows": null,
            "grid_column": null,
            "grid_gap": null,
            "grid_row": null,
            "grid_template_areas": null,
            "grid_template_columns": null,
            "grid_template_rows": null,
            "height": null,
            "justify_content": null,
            "justify_items": null,
            "left": null,
            "margin": null,
            "max_height": null,
            "max_width": null,
            "min_height": null,
            "min_width": null,
            "object_fit": null,
            "object_position": null,
            "order": null,
            "overflow": null,
            "overflow_x": null,
            "overflow_y": null,
            "padding": null,
            "right": null,
            "top": null,
            "visibility": null,
            "width": null
          }
        },
        "1b46f3cb08a7422895f4bdd8561f95cd": {
          "model_module": "@jupyter-widgets/base",
          "model_name": "LayoutModel",
          "model_module_version": "1.2.0",
          "state": {
            "_model_module": "@jupyter-widgets/base",
            "_model_module_version": "1.2.0",
            "_model_name": "LayoutModel",
            "_view_count": null,
            "_view_module": "@jupyter-widgets/base",
            "_view_module_version": "1.2.0",
            "_view_name": "LayoutView",
            "align_content": null,
            "align_items": null,
            "align_self": null,
            "border": null,
            "bottom": null,
            "display": null,
            "flex": null,
            "flex_flow": null,
            "grid_area": null,
            "grid_auto_columns": null,
            "grid_auto_flow": null,
            "grid_auto_rows": null,
            "grid_column": null,
            "grid_gap": null,
            "grid_row": null,
            "grid_template_areas": null,
            "grid_template_columns": null,
            "grid_template_rows": null,
            "height": null,
            "justify_content": null,
            "justify_items": null,
            "left": null,
            "margin": null,
            "max_height": null,
            "max_width": null,
            "min_height": null,
            "min_width": null,
            "object_fit": null,
            "object_position": null,
            "order": null,
            "overflow": null,
            "overflow_x": null,
            "overflow_y": null,
            "padding": null,
            "right": null,
            "top": null,
            "visibility": null,
            "width": null
          }
        },
        "93c28342146d4a03ab70fbc1334ff59e": {
          "model_module": "@jupyter-widgets/controls",
          "model_name": "DescriptionStyleModel",
          "model_module_version": "1.5.0",
          "state": {
            "_model_module": "@jupyter-widgets/controls",
            "_model_module_version": "1.5.0",
            "_model_name": "DescriptionStyleModel",
            "_view_count": null,
            "_view_module": "@jupyter-widgets/base",
            "_view_module_version": "1.2.0",
            "_view_name": "StyleView",
            "description_width": ""
          }
        },
        "37d87af7260d4907841b202078e17d61": {
          "model_module": "@jupyter-widgets/base",
          "model_name": "LayoutModel",
          "model_module_version": "1.2.0",
          "state": {
            "_model_module": "@jupyter-widgets/base",
            "_model_module_version": "1.2.0",
            "_model_name": "LayoutModel",
            "_view_count": null,
            "_view_module": "@jupyter-widgets/base",
            "_view_module_version": "1.2.0",
            "_view_name": "LayoutView",
            "align_content": null,
            "align_items": null,
            "align_self": null,
            "border": null,
            "bottom": null,
            "display": null,
            "flex": null,
            "flex_flow": null,
            "grid_area": null,
            "grid_auto_columns": null,
            "grid_auto_flow": null,
            "grid_auto_rows": null,
            "grid_column": null,
            "grid_gap": null,
            "grid_row": null,
            "grid_template_areas": null,
            "grid_template_columns": null,
            "grid_template_rows": null,
            "height": null,
            "justify_content": null,
            "justify_items": null,
            "left": null,
            "margin": null,
            "max_height": null,
            "max_width": null,
            "min_height": null,
            "min_width": null,
            "object_fit": null,
            "object_position": null,
            "order": null,
            "overflow": null,
            "overflow_x": null,
            "overflow_y": null,
            "padding": null,
            "right": null,
            "top": null,
            "visibility": null,
            "width": null
          }
        },
        "3681d8bf7bd043a18a4c45afe64f8af9": {
          "model_module": "@jupyter-widgets/controls",
          "model_name": "ProgressStyleModel",
          "model_module_version": "1.5.0",
          "state": {
            "_model_module": "@jupyter-widgets/controls",
            "_model_module_version": "1.5.0",
            "_model_name": "ProgressStyleModel",
            "_view_count": null,
            "_view_module": "@jupyter-widgets/base",
            "_view_module_version": "1.2.0",
            "_view_name": "StyleView",
            "bar_color": null,
            "description_width": ""
          }
        },
        "4b1e7b1e58a041849de1673d60a6f27a": {
          "model_module": "@jupyter-widgets/base",
          "model_name": "LayoutModel",
          "model_module_version": "1.2.0",
          "state": {
            "_model_module": "@jupyter-widgets/base",
            "_model_module_version": "1.2.0",
            "_model_name": "LayoutModel",
            "_view_count": null,
            "_view_module": "@jupyter-widgets/base",
            "_view_module_version": "1.2.0",
            "_view_name": "LayoutView",
            "align_content": null,
            "align_items": null,
            "align_self": null,
            "border": null,
            "bottom": null,
            "display": null,
            "flex": null,
            "flex_flow": null,
            "grid_area": null,
            "grid_auto_columns": null,
            "grid_auto_flow": null,
            "grid_auto_rows": null,
            "grid_column": null,
            "grid_gap": null,
            "grid_row": null,
            "grid_template_areas": null,
            "grid_template_columns": null,
            "grid_template_rows": null,
            "height": null,
            "justify_content": null,
            "justify_items": null,
            "left": null,
            "margin": null,
            "max_height": null,
            "max_width": null,
            "min_height": null,
            "min_width": null,
            "object_fit": null,
            "object_position": null,
            "order": null,
            "overflow": null,
            "overflow_x": null,
            "overflow_y": null,
            "padding": null,
            "right": null,
            "top": null,
            "visibility": null,
            "width": null
          }
        },
        "0c3de270da98484da1967c690bc70a69": {
          "model_module": "@jupyter-widgets/controls",
          "model_name": "DescriptionStyleModel",
          "model_module_version": "1.5.0",
          "state": {
            "_model_module": "@jupyter-widgets/controls",
            "_model_module_version": "1.5.0",
            "_model_name": "DescriptionStyleModel",
            "_view_count": null,
            "_view_module": "@jupyter-widgets/base",
            "_view_module_version": "1.2.0",
            "_view_name": "StyleView",
            "description_width": ""
          }
        },
        "09eb7d2b1c8c4301b6ae31506f3c5ddd": {
          "model_module": "@jupyter-widgets/controls",
          "model_name": "HBoxModel",
          "model_module_version": "1.5.0",
          "state": {
            "_dom_classes": [],
            "_model_module": "@jupyter-widgets/controls",
            "_model_module_version": "1.5.0",
            "_model_name": "HBoxModel",
            "_view_count": null,
            "_view_module": "@jupyter-widgets/controls",
            "_view_module_version": "1.5.0",
            "_view_name": "HBoxView",
            "box_style": "",
            "children": [
              "IPY_MODEL_1f362f8901194767b71ab262ff15bf09",
              "IPY_MODEL_1a87b03e5c3e4f6e85d0fc1da8ac3865",
              "IPY_MODEL_e1d2a827e3dc4262ac322a553d4019b3"
            ],
            "layout": "IPY_MODEL_72d8a58d10b9489ba75807846c38d76a"
          }
        },
        "1f362f8901194767b71ab262ff15bf09": {
          "model_module": "@jupyter-widgets/controls",
          "model_name": "HTMLModel",
          "model_module_version": "1.5.0",
          "state": {
            "_dom_classes": [],
            "_model_module": "@jupyter-widgets/controls",
            "_model_module_version": "1.5.0",
            "_model_name": "HTMLModel",
            "_view_count": null,
            "_view_module": "@jupyter-widgets/controls",
            "_view_module_version": "1.5.0",
            "_view_name": "HTMLView",
            "description": "",
            "description_tooltip": null,
            "layout": "IPY_MODEL_faefc84a72e247419f9582003c1c12a4",
            "placeholder": "​",
            "style": "IPY_MODEL_e3340b36934c4c08a1a326bd47b1377c",
            "value": "generation_config.json: 100%"
          }
        },
        "1a87b03e5c3e4f6e85d0fc1da8ac3865": {
          "model_module": "@jupyter-widgets/controls",
          "model_name": "FloatProgressModel",
          "model_module_version": "1.5.0",
          "state": {
            "_dom_classes": [],
            "_model_module": "@jupyter-widgets/controls",
            "_model_module_version": "1.5.0",
            "_model_name": "FloatProgressModel",
            "_view_count": null,
            "_view_module": "@jupyter-widgets/controls",
            "_view_module_version": "1.5.0",
            "_view_name": "ProgressView",
            "bar_style": "success",
            "description": "",
            "description_tooltip": null,
            "layout": "IPY_MODEL_0df2346757ec4531890f030a3e596f58",
            "max": 234,
            "min": 0,
            "orientation": "horizontal",
            "style": "IPY_MODEL_2b6c40b8dff14fa7b0a2c14b2e2d049b",
            "value": 234
          }
        },
        "e1d2a827e3dc4262ac322a553d4019b3": {
          "model_module": "@jupyter-widgets/controls",
          "model_name": "HTMLModel",
          "model_module_version": "1.5.0",
          "state": {
            "_dom_classes": [],
            "_model_module": "@jupyter-widgets/controls",
            "_model_module_version": "1.5.0",
            "_model_name": "HTMLModel",
            "_view_count": null,
            "_view_module": "@jupyter-widgets/controls",
            "_view_module_version": "1.5.0",
            "_view_name": "HTMLView",
            "description": "",
            "description_tooltip": null,
            "layout": "IPY_MODEL_7caf22e9a73942278ac4ce278c514e59",
            "placeholder": "​",
            "style": "IPY_MODEL_954ba37a0afc4265b7ea23ea8448bf6b",
            "value": " 234/234 [00:00&lt;00:00, 24.5kB/s]"
          }
        },
        "72d8a58d10b9489ba75807846c38d76a": {
          "model_module": "@jupyter-widgets/base",
          "model_name": "LayoutModel",
          "model_module_version": "1.2.0",
          "state": {
            "_model_module": "@jupyter-widgets/base",
            "_model_module_version": "1.2.0",
            "_model_name": "LayoutModel",
            "_view_count": null,
            "_view_module": "@jupyter-widgets/base",
            "_view_module_version": "1.2.0",
            "_view_name": "LayoutView",
            "align_content": null,
            "align_items": null,
            "align_self": null,
            "border": null,
            "bottom": null,
            "display": null,
            "flex": null,
            "flex_flow": null,
            "grid_area": null,
            "grid_auto_columns": null,
            "grid_auto_flow": null,
            "grid_auto_rows": null,
            "grid_column": null,
            "grid_gap": null,
            "grid_row": null,
            "grid_template_areas": null,
            "grid_template_columns": null,
            "grid_template_rows": null,
            "height": null,
            "justify_content": null,
            "justify_items": null,
            "left": null,
            "margin": null,
            "max_height": null,
            "max_width": null,
            "min_height": null,
            "min_width": null,
            "object_fit": null,
            "object_position": null,
            "order": null,
            "overflow": null,
            "overflow_x": null,
            "overflow_y": null,
            "padding": null,
            "right": null,
            "top": null,
            "visibility": null,
            "width": null
          }
        },
        "faefc84a72e247419f9582003c1c12a4": {
          "model_module": "@jupyter-widgets/base",
          "model_name": "LayoutModel",
          "model_module_version": "1.2.0",
          "state": {
            "_model_module": "@jupyter-widgets/base",
            "_model_module_version": "1.2.0",
            "_model_name": "LayoutModel",
            "_view_count": null,
            "_view_module": "@jupyter-widgets/base",
            "_view_module_version": "1.2.0",
            "_view_name": "LayoutView",
            "align_content": null,
            "align_items": null,
            "align_self": null,
            "border": null,
            "bottom": null,
            "display": null,
            "flex": null,
            "flex_flow": null,
            "grid_area": null,
            "grid_auto_columns": null,
            "grid_auto_flow": null,
            "grid_auto_rows": null,
            "grid_column": null,
            "grid_gap": null,
            "grid_row": null,
            "grid_template_areas": null,
            "grid_template_columns": null,
            "grid_template_rows": null,
            "height": null,
            "justify_content": null,
            "justify_items": null,
            "left": null,
            "margin": null,
            "max_height": null,
            "max_width": null,
            "min_height": null,
            "min_width": null,
            "object_fit": null,
            "object_position": null,
            "order": null,
            "overflow": null,
            "overflow_x": null,
            "overflow_y": null,
            "padding": null,
            "right": null,
            "top": null,
            "visibility": null,
            "width": null
          }
        },
        "e3340b36934c4c08a1a326bd47b1377c": {
          "model_module": "@jupyter-widgets/controls",
          "model_name": "DescriptionStyleModel",
          "model_module_version": "1.5.0",
          "state": {
            "_model_module": "@jupyter-widgets/controls",
            "_model_module_version": "1.5.0",
            "_model_name": "DescriptionStyleModel",
            "_view_count": null,
            "_view_module": "@jupyter-widgets/base",
            "_view_module_version": "1.2.0",
            "_view_name": "StyleView",
            "description_width": ""
          }
        },
        "0df2346757ec4531890f030a3e596f58": {
          "model_module": "@jupyter-widgets/base",
          "model_name": "LayoutModel",
          "model_module_version": "1.2.0",
          "state": {
            "_model_module": "@jupyter-widgets/base",
            "_model_module_version": "1.2.0",
            "_model_name": "LayoutModel",
            "_view_count": null,
            "_view_module": "@jupyter-widgets/base",
            "_view_module_version": "1.2.0",
            "_view_name": "LayoutView",
            "align_content": null,
            "align_items": null,
            "align_self": null,
            "border": null,
            "bottom": null,
            "display": null,
            "flex": null,
            "flex_flow": null,
            "grid_area": null,
            "grid_auto_columns": null,
            "grid_auto_flow": null,
            "grid_auto_rows": null,
            "grid_column": null,
            "grid_gap": null,
            "grid_row": null,
            "grid_template_areas": null,
            "grid_template_columns": null,
            "grid_template_rows": null,
            "height": null,
            "justify_content": null,
            "justify_items": null,
            "left": null,
            "margin": null,
            "max_height": null,
            "max_width": null,
            "min_height": null,
            "min_width": null,
            "object_fit": null,
            "object_position": null,
            "order": null,
            "overflow": null,
            "overflow_x": null,
            "overflow_y": null,
            "padding": null,
            "right": null,
            "top": null,
            "visibility": null,
            "width": null
          }
        },
        "2b6c40b8dff14fa7b0a2c14b2e2d049b": {
          "model_module": "@jupyter-widgets/controls",
          "model_name": "ProgressStyleModel",
          "model_module_version": "1.5.0",
          "state": {
            "_model_module": "@jupyter-widgets/controls",
            "_model_module_version": "1.5.0",
            "_model_name": "ProgressStyleModel",
            "_view_count": null,
            "_view_module": "@jupyter-widgets/base",
            "_view_module_version": "1.2.0",
            "_view_name": "StyleView",
            "bar_color": null,
            "description_width": ""
          }
        },
        "7caf22e9a73942278ac4ce278c514e59": {
          "model_module": "@jupyter-widgets/base",
          "model_name": "LayoutModel",
          "model_module_version": "1.2.0",
          "state": {
            "_model_module": "@jupyter-widgets/base",
            "_model_module_version": "1.2.0",
            "_model_name": "LayoutModel",
            "_view_count": null,
            "_view_module": "@jupyter-widgets/base",
            "_view_module_version": "1.2.0",
            "_view_name": "LayoutView",
            "align_content": null,
            "align_items": null,
            "align_self": null,
            "border": null,
            "bottom": null,
            "display": null,
            "flex": null,
            "flex_flow": null,
            "grid_area": null,
            "grid_auto_columns": null,
            "grid_auto_flow": null,
            "grid_auto_rows": null,
            "grid_column": null,
            "grid_gap": null,
            "grid_row": null,
            "grid_template_areas": null,
            "grid_template_columns": null,
            "grid_template_rows": null,
            "height": null,
            "justify_content": null,
            "justify_items": null,
            "left": null,
            "margin": null,
            "max_height": null,
            "max_width": null,
            "min_height": null,
            "min_width": null,
            "object_fit": null,
            "object_position": null,
            "order": null,
            "overflow": null,
            "overflow_x": null,
            "overflow_y": null,
            "padding": null,
            "right": null,
            "top": null,
            "visibility": null,
            "width": null
          }
        },
        "954ba37a0afc4265b7ea23ea8448bf6b": {
          "model_module": "@jupyter-widgets/controls",
          "model_name": "DescriptionStyleModel",
          "model_module_version": "1.5.0",
          "state": {
            "_model_module": "@jupyter-widgets/controls",
            "_model_module_version": "1.5.0",
            "_model_name": "DescriptionStyleModel",
            "_view_count": null,
            "_view_module": "@jupyter-widgets/base",
            "_view_module_version": "1.2.0",
            "_view_name": "StyleView",
            "description_width": ""
          }
        },
        "a9739fd84fa44d79b040a38d851ffe22": {
          "model_module": "@jupyter-widgets/controls",
          "model_name": "HBoxModel",
          "model_module_version": "1.5.0",
          "state": {
            "_dom_classes": [],
            "_model_module": "@jupyter-widgets/controls",
            "_model_module_version": "1.5.0",
            "_model_name": "HBoxModel",
            "_view_count": null,
            "_view_module": "@jupyter-widgets/controls",
            "_view_module_version": "1.5.0",
            "_view_name": "HBoxView",
            "box_style": "",
            "children": [
              "IPY_MODEL_88d88a1a36004e97aaca55f97bb79777",
              "IPY_MODEL_2b6d62d2fe274295a16e225cec84639f",
              "IPY_MODEL_8bc02cb3d78e4ef29fedda34af932985"
            ],
            "layout": "IPY_MODEL_eb527ede0990472ba4918174577aeda1"
          }
        },
        "88d88a1a36004e97aaca55f97bb79777": {
          "model_module": "@jupyter-widgets/controls",
          "model_name": "HTMLModel",
          "model_module_version": "1.5.0",
          "state": {
            "_dom_classes": [],
            "_model_module": "@jupyter-widgets/controls",
            "_model_module_version": "1.5.0",
            "_model_name": "HTMLModel",
            "_view_count": null,
            "_view_module": "@jupyter-widgets/controls",
            "_view_module_version": "1.5.0",
            "_view_name": "HTMLView",
            "description": "",
            "description_tooltip": null,
            "layout": "IPY_MODEL_36fe8124242e48099da8f5420a057015",
            "placeholder": "​",
            "style": "IPY_MODEL_85d33b80fcc94742bec25e001e21e2f0",
            "value": "tokenizer_config.json: "
          }
        },
        "2b6d62d2fe274295a16e225cec84639f": {
          "model_module": "@jupyter-widgets/controls",
          "model_name": "FloatProgressModel",
          "model_module_version": "1.5.0",
          "state": {
            "_dom_classes": [],
            "_model_module": "@jupyter-widgets/controls",
            "_model_module_version": "1.5.0",
            "_model_name": "FloatProgressModel",
            "_view_count": null,
            "_view_module": "@jupyter-widgets/controls",
            "_view_module_version": "1.5.0",
            "_view_name": "ProgressView",
            "bar_style": "success",
            "description": "",
            "description_tooltip": null,
            "layout": "IPY_MODEL_e9ba29d17e7f4490875ca21bfdd88afe",
            "max": 1,
            "min": 0,
            "orientation": "horizontal",
            "style": "IPY_MODEL_6ad1362a663044059c7f1342b30b3f2b",
            "value": 1
          }
        },
        "8bc02cb3d78e4ef29fedda34af932985": {
          "model_module": "@jupyter-widgets/controls",
          "model_name": "HTMLModel",
          "model_module_version": "1.5.0",
          "state": {
            "_dom_classes": [],
            "_model_module": "@jupyter-widgets/controls",
            "_model_module_version": "1.5.0",
            "_model_name": "HTMLModel",
            "_view_count": null,
            "_view_module": "@jupyter-widgets/controls",
            "_view_module_version": "1.5.0",
            "_view_name": "HTMLView",
            "description": "",
            "description_tooltip": null,
            "layout": "IPY_MODEL_3571fef97e7048289b1cae0abe6ab428",
            "placeholder": "​",
            "style": "IPY_MODEL_10f14a94fc144680b1af7fc30f2d1bc3",
            "value": " 54.7k/? [00:00&lt;00:00, 5.73MB/s]"
          }
        },
        "eb527ede0990472ba4918174577aeda1": {
          "model_module": "@jupyter-widgets/base",
          "model_name": "LayoutModel",
          "model_module_version": "1.2.0",
          "state": {
            "_model_module": "@jupyter-widgets/base",
            "_model_module_version": "1.2.0",
            "_model_name": "LayoutModel",
            "_view_count": null,
            "_view_module": "@jupyter-widgets/base",
            "_view_module_version": "1.2.0",
            "_view_name": "LayoutView",
            "align_content": null,
            "align_items": null,
            "align_self": null,
            "border": null,
            "bottom": null,
            "display": null,
            "flex": null,
            "flex_flow": null,
            "grid_area": null,
            "grid_auto_columns": null,
            "grid_auto_flow": null,
            "grid_auto_rows": null,
            "grid_column": null,
            "grid_gap": null,
            "grid_row": null,
            "grid_template_areas": null,
            "grid_template_columns": null,
            "grid_template_rows": null,
            "height": null,
            "justify_content": null,
            "justify_items": null,
            "left": null,
            "margin": null,
            "max_height": null,
            "max_width": null,
            "min_height": null,
            "min_width": null,
            "object_fit": null,
            "object_position": null,
            "order": null,
            "overflow": null,
            "overflow_x": null,
            "overflow_y": null,
            "padding": null,
            "right": null,
            "top": null,
            "visibility": null,
            "width": null
          }
        },
        "36fe8124242e48099da8f5420a057015": {
          "model_module": "@jupyter-widgets/base",
          "model_name": "LayoutModel",
          "model_module_version": "1.2.0",
          "state": {
            "_model_module": "@jupyter-widgets/base",
            "_model_module_version": "1.2.0",
            "_model_name": "LayoutModel",
            "_view_count": null,
            "_view_module": "@jupyter-widgets/base",
            "_view_module_version": "1.2.0",
            "_view_name": "LayoutView",
            "align_content": null,
            "align_items": null,
            "align_self": null,
            "border": null,
            "bottom": null,
            "display": null,
            "flex": null,
            "flex_flow": null,
            "grid_area": null,
            "grid_auto_columns": null,
            "grid_auto_flow": null,
            "grid_auto_rows": null,
            "grid_column": null,
            "grid_gap": null,
            "grid_row": null,
            "grid_template_areas": null,
            "grid_template_columns": null,
            "grid_template_rows": null,
            "height": null,
            "justify_content": null,
            "justify_items": null,
            "left": null,
            "margin": null,
            "max_height": null,
            "max_width": null,
            "min_height": null,
            "min_width": null,
            "object_fit": null,
            "object_position": null,
            "order": null,
            "overflow": null,
            "overflow_x": null,
            "overflow_y": null,
            "padding": null,
            "right": null,
            "top": null,
            "visibility": null,
            "width": null
          }
        },
        "85d33b80fcc94742bec25e001e21e2f0": {
          "model_module": "@jupyter-widgets/controls",
          "model_name": "DescriptionStyleModel",
          "model_module_version": "1.5.0",
          "state": {
            "_model_module": "@jupyter-widgets/controls",
            "_model_module_version": "1.5.0",
            "_model_name": "DescriptionStyleModel",
            "_view_count": null,
            "_view_module": "@jupyter-widgets/base",
            "_view_module_version": "1.2.0",
            "_view_name": "StyleView",
            "description_width": ""
          }
        },
        "e9ba29d17e7f4490875ca21bfdd88afe": {
          "model_module": "@jupyter-widgets/base",
          "model_name": "LayoutModel",
          "model_module_version": "1.2.0",
          "state": {
            "_model_module": "@jupyter-widgets/base",
            "_model_module_version": "1.2.0",
            "_model_name": "LayoutModel",
            "_view_count": null,
            "_view_module": "@jupyter-widgets/base",
            "_view_module_version": "1.2.0",
            "_view_name": "LayoutView",
            "align_content": null,
            "align_items": null,
            "align_self": null,
            "border": null,
            "bottom": null,
            "display": null,
            "flex": null,
            "flex_flow": null,
            "grid_area": null,
            "grid_auto_columns": null,
            "grid_auto_flow": null,
            "grid_auto_rows": null,
            "grid_column": null,
            "grid_gap": null,
            "grid_row": null,
            "grid_template_areas": null,
            "grid_template_columns": null,
            "grid_template_rows": null,
            "height": null,
            "justify_content": null,
            "justify_items": null,
            "left": null,
            "margin": null,
            "max_height": null,
            "max_width": null,
            "min_height": null,
            "min_width": null,
            "object_fit": null,
            "object_position": null,
            "order": null,
            "overflow": null,
            "overflow_x": null,
            "overflow_y": null,
            "padding": null,
            "right": null,
            "top": null,
            "visibility": null,
            "width": "20px"
          }
        },
        "6ad1362a663044059c7f1342b30b3f2b": {
          "model_module": "@jupyter-widgets/controls",
          "model_name": "ProgressStyleModel",
          "model_module_version": "1.5.0",
          "state": {
            "_model_module": "@jupyter-widgets/controls",
            "_model_module_version": "1.5.0",
            "_model_name": "ProgressStyleModel",
            "_view_count": null,
            "_view_module": "@jupyter-widgets/base",
            "_view_module_version": "1.2.0",
            "_view_name": "StyleView",
            "bar_color": null,
            "description_width": ""
          }
        },
        "3571fef97e7048289b1cae0abe6ab428": {
          "model_module": "@jupyter-widgets/base",
          "model_name": "LayoutModel",
          "model_module_version": "1.2.0",
          "state": {
            "_model_module": "@jupyter-widgets/base",
            "_model_module_version": "1.2.0",
            "_model_name": "LayoutModel",
            "_view_count": null,
            "_view_module": "@jupyter-widgets/base",
            "_view_module_version": "1.2.0",
            "_view_name": "LayoutView",
            "align_content": null,
            "align_items": null,
            "align_self": null,
            "border": null,
            "bottom": null,
            "display": null,
            "flex": null,
            "flex_flow": null,
            "grid_area": null,
            "grid_auto_columns": null,
            "grid_auto_flow": null,
            "grid_auto_rows": null,
            "grid_column": null,
            "grid_gap": null,
            "grid_row": null,
            "grid_template_areas": null,
            "grid_template_columns": null,
            "grid_template_rows": null,
            "height": null,
            "justify_content": null,
            "justify_items": null,
            "left": null,
            "margin": null,
            "max_height": null,
            "max_width": null,
            "min_height": null,
            "min_width": null,
            "object_fit": null,
            "object_position": null,
            "order": null,
            "overflow": null,
            "overflow_x": null,
            "overflow_y": null,
            "padding": null,
            "right": null,
            "top": null,
            "visibility": null,
            "width": null
          }
        },
        "10f14a94fc144680b1af7fc30f2d1bc3": {
          "model_module": "@jupyter-widgets/controls",
          "model_name": "DescriptionStyleModel",
          "model_module_version": "1.5.0",
          "state": {
            "_model_module": "@jupyter-widgets/controls",
            "_model_module_version": "1.5.0",
            "_model_name": "DescriptionStyleModel",
            "_view_count": null,
            "_view_module": "@jupyter-widgets/base",
            "_view_module_version": "1.2.0",
            "_view_name": "StyleView",
            "description_width": ""
          }
        },
        "192f6540e988419eb305939af3119adb": {
          "model_module": "@jupyter-widgets/controls",
          "model_name": "HBoxModel",
          "model_module_version": "1.5.0",
          "state": {
            "_dom_classes": [],
            "_model_module": "@jupyter-widgets/controls",
            "_model_module_version": "1.5.0",
            "_model_name": "HBoxModel",
            "_view_count": null,
            "_view_module": "@jupyter-widgets/controls",
            "_view_module_version": "1.5.0",
            "_view_name": "HBoxView",
            "box_style": "",
            "children": [
              "IPY_MODEL_bbef130ee3ff4219bcbd158366880bb8",
              "IPY_MODEL_a9d18d03e34b45bba68d23eca128362c",
              "IPY_MODEL_a2a4d78a641f425a9361effde03cdbc5"
            ],
            "layout": "IPY_MODEL_8c0d607af1854f93a94f8628bb466a9c"
          }
        },
        "bbef130ee3ff4219bcbd158366880bb8": {
          "model_module": "@jupyter-widgets/controls",
          "model_name": "HTMLModel",
          "model_module_version": "1.5.0",
          "state": {
            "_dom_classes": [],
            "_model_module": "@jupyter-widgets/controls",
            "_model_module_version": "1.5.0",
            "_model_name": "HTMLModel",
            "_view_count": null,
            "_view_module": "@jupyter-widgets/controls",
            "_view_module_version": "1.5.0",
            "_view_name": "HTMLView",
            "description": "",
            "description_tooltip": null,
            "layout": "IPY_MODEL_a957d9ca47a648ffbce2f3657f96ce94",
            "placeholder": "​",
            "style": "IPY_MODEL_4e0c351ef8574285b277cf4e14d5eb9b",
            "value": "special_tokens_map.json: 100%"
          }
        },
        "a9d18d03e34b45bba68d23eca128362c": {
          "model_module": "@jupyter-widgets/controls",
          "model_name": "FloatProgressModel",
          "model_module_version": "1.5.0",
          "state": {
            "_dom_classes": [],
            "_model_module": "@jupyter-widgets/controls",
            "_model_module_version": "1.5.0",
            "_model_name": "FloatProgressModel",
            "_view_count": null,
            "_view_module": "@jupyter-widgets/controls",
            "_view_module_version": "1.5.0",
            "_view_name": "ProgressView",
            "bar_style": "success",
            "description": "",
            "description_tooltip": null,
            "layout": "IPY_MODEL_5d9a6a3cbd2e499496d56b7a737dd582",
            "max": 454,
            "min": 0,
            "orientation": "horizontal",
            "style": "IPY_MODEL_4521a2b3ac6944a1b9536396dc835615",
            "value": 454
          }
        },
        "a2a4d78a641f425a9361effde03cdbc5": {
          "model_module": "@jupyter-widgets/controls",
          "model_name": "HTMLModel",
          "model_module_version": "1.5.0",
          "state": {
            "_dom_classes": [],
            "_model_module": "@jupyter-widgets/controls",
            "_model_module_version": "1.5.0",
            "_model_name": "HTMLModel",
            "_view_count": null,
            "_view_module": "@jupyter-widgets/controls",
            "_view_module_version": "1.5.0",
            "_view_name": "HTMLView",
            "description": "",
            "description_tooltip": null,
            "layout": "IPY_MODEL_d7fd0a8f1cab405f84f5e1a7d1d66d34",
            "placeholder": "​",
            "style": "IPY_MODEL_4bc46785789a439ba85fc2fee4e5f6d3",
            "value": " 454/454 [00:00&lt;00:00, 10.9kB/s]"
          }
        },
        "8c0d607af1854f93a94f8628bb466a9c": {
          "model_module": "@jupyter-widgets/base",
          "model_name": "LayoutModel",
          "model_module_version": "1.2.0",
          "state": {
            "_model_module": "@jupyter-widgets/base",
            "_model_module_version": "1.2.0",
            "_model_name": "LayoutModel",
            "_view_count": null,
            "_view_module": "@jupyter-widgets/base",
            "_view_module_version": "1.2.0",
            "_view_name": "LayoutView",
            "align_content": null,
            "align_items": null,
            "align_self": null,
            "border": null,
            "bottom": null,
            "display": null,
            "flex": null,
            "flex_flow": null,
            "grid_area": null,
            "grid_auto_columns": null,
            "grid_auto_flow": null,
            "grid_auto_rows": null,
            "grid_column": null,
            "grid_gap": null,
            "grid_row": null,
            "grid_template_areas": null,
            "grid_template_columns": null,
            "grid_template_rows": null,
            "height": null,
            "justify_content": null,
            "justify_items": null,
            "left": null,
            "margin": null,
            "max_height": null,
            "max_width": null,
            "min_height": null,
            "min_width": null,
            "object_fit": null,
            "object_position": null,
            "order": null,
            "overflow": null,
            "overflow_x": null,
            "overflow_y": null,
            "padding": null,
            "right": null,
            "top": null,
            "visibility": null,
            "width": null
          }
        },
        "a957d9ca47a648ffbce2f3657f96ce94": {
          "model_module": "@jupyter-widgets/base",
          "model_name": "LayoutModel",
          "model_module_version": "1.2.0",
          "state": {
            "_model_module": "@jupyter-widgets/base",
            "_model_module_version": "1.2.0",
            "_model_name": "LayoutModel",
            "_view_count": null,
            "_view_module": "@jupyter-widgets/base",
            "_view_module_version": "1.2.0",
            "_view_name": "LayoutView",
            "align_content": null,
            "align_items": null,
            "align_self": null,
            "border": null,
            "bottom": null,
            "display": null,
            "flex": null,
            "flex_flow": null,
            "grid_area": null,
            "grid_auto_columns": null,
            "grid_auto_flow": null,
            "grid_auto_rows": null,
            "grid_column": null,
            "grid_gap": null,
            "grid_row": null,
            "grid_template_areas": null,
            "grid_template_columns": null,
            "grid_template_rows": null,
            "height": null,
            "justify_content": null,
            "justify_items": null,
            "left": null,
            "margin": null,
            "max_height": null,
            "max_width": null,
            "min_height": null,
            "min_width": null,
            "object_fit": null,
            "object_position": null,
            "order": null,
            "overflow": null,
            "overflow_x": null,
            "overflow_y": null,
            "padding": null,
            "right": null,
            "top": null,
            "visibility": null,
            "width": null
          }
        },
        "4e0c351ef8574285b277cf4e14d5eb9b": {
          "model_module": "@jupyter-widgets/controls",
          "model_name": "DescriptionStyleModel",
          "model_module_version": "1.5.0",
          "state": {
            "_model_module": "@jupyter-widgets/controls",
            "_model_module_version": "1.5.0",
            "_model_name": "DescriptionStyleModel",
            "_view_count": null,
            "_view_module": "@jupyter-widgets/base",
            "_view_module_version": "1.2.0",
            "_view_name": "StyleView",
            "description_width": ""
          }
        },
        "5d9a6a3cbd2e499496d56b7a737dd582": {
          "model_module": "@jupyter-widgets/base",
          "model_name": "LayoutModel",
          "model_module_version": "1.2.0",
          "state": {
            "_model_module": "@jupyter-widgets/base",
            "_model_module_version": "1.2.0",
            "_model_name": "LayoutModel",
            "_view_count": null,
            "_view_module": "@jupyter-widgets/base",
            "_view_module_version": "1.2.0",
            "_view_name": "LayoutView",
            "align_content": null,
            "align_items": null,
            "align_self": null,
            "border": null,
            "bottom": null,
            "display": null,
            "flex": null,
            "flex_flow": null,
            "grid_area": null,
            "grid_auto_columns": null,
            "grid_auto_flow": null,
            "grid_auto_rows": null,
            "grid_column": null,
            "grid_gap": null,
            "grid_row": null,
            "grid_template_areas": null,
            "grid_template_columns": null,
            "grid_template_rows": null,
            "height": null,
            "justify_content": null,
            "justify_items": null,
            "left": null,
            "margin": null,
            "max_height": null,
            "max_width": null,
            "min_height": null,
            "min_width": null,
            "object_fit": null,
            "object_position": null,
            "order": null,
            "overflow": null,
            "overflow_x": null,
            "overflow_y": null,
            "padding": null,
            "right": null,
            "top": null,
            "visibility": null,
            "width": null
          }
        },
        "4521a2b3ac6944a1b9536396dc835615": {
          "model_module": "@jupyter-widgets/controls",
          "model_name": "ProgressStyleModel",
          "model_module_version": "1.5.0",
          "state": {
            "_model_module": "@jupyter-widgets/controls",
            "_model_module_version": "1.5.0",
            "_model_name": "ProgressStyleModel",
            "_view_count": null,
            "_view_module": "@jupyter-widgets/base",
            "_view_module_version": "1.2.0",
            "_view_name": "StyleView",
            "bar_color": null,
            "description_width": ""
          }
        },
        "d7fd0a8f1cab405f84f5e1a7d1d66d34": {
          "model_module": "@jupyter-widgets/base",
          "model_name": "LayoutModel",
          "model_module_version": "1.2.0",
          "state": {
            "_model_module": "@jupyter-widgets/base",
            "_model_module_version": "1.2.0",
            "_model_name": "LayoutModel",
            "_view_count": null,
            "_view_module": "@jupyter-widgets/base",
            "_view_module_version": "1.2.0",
            "_view_name": "LayoutView",
            "align_content": null,
            "align_items": null,
            "align_self": null,
            "border": null,
            "bottom": null,
            "display": null,
            "flex": null,
            "flex_flow": null,
            "grid_area": null,
            "grid_auto_columns": null,
            "grid_auto_flow": null,
            "grid_auto_rows": null,
            "grid_column": null,
            "grid_gap": null,
            "grid_row": null,
            "grid_template_areas": null,
            "grid_template_columns": null,
            "grid_template_rows": null,
            "height": null,
            "justify_content": null,
            "justify_items": null,
            "left": null,
            "margin": null,
            "max_height": null,
            "max_width": null,
            "min_height": null,
            "min_width": null,
            "object_fit": null,
            "object_position": null,
            "order": null,
            "overflow": null,
            "overflow_x": null,
            "overflow_y": null,
            "padding": null,
            "right": null,
            "top": null,
            "visibility": null,
            "width": null
          }
        },
        "4bc46785789a439ba85fc2fee4e5f6d3": {
          "model_module": "@jupyter-widgets/controls",
          "model_name": "DescriptionStyleModel",
          "model_module_version": "1.5.0",
          "state": {
            "_model_module": "@jupyter-widgets/controls",
            "_model_module_version": "1.5.0",
            "_model_name": "DescriptionStyleModel",
            "_view_count": null,
            "_view_module": "@jupyter-widgets/base",
            "_view_module_version": "1.2.0",
            "_view_name": "StyleView",
            "description_width": ""
          }
        },
        "ac181853f33c4bae839b552fc4de1eed": {
          "model_module": "@jupyter-widgets/controls",
          "model_name": "HBoxModel",
          "model_module_version": "1.5.0",
          "state": {
            "_dom_classes": [],
            "_model_module": "@jupyter-widgets/controls",
            "_model_module_version": "1.5.0",
            "_model_name": "HBoxModel",
            "_view_count": null,
            "_view_module": "@jupyter-widgets/controls",
            "_view_module_version": "1.5.0",
            "_view_name": "HBoxView",
            "box_style": "",
            "children": [
              "IPY_MODEL_291a8c80d8af4cbb9c4fd97ceb5a1a3f",
              "IPY_MODEL_9676318b1b8a4218955621629d2b9e1d",
              "IPY_MODEL_cf2abdaf87cd40f8a00963636d02696d"
            ],
            "layout": "IPY_MODEL_6c4452e625c04c119a9204051a794e0a"
          }
        },
        "291a8c80d8af4cbb9c4fd97ceb5a1a3f": {
          "model_module": "@jupyter-widgets/controls",
          "model_name": "HTMLModel",
          "model_module_version": "1.5.0",
          "state": {
            "_dom_classes": [],
            "_model_module": "@jupyter-widgets/controls",
            "_model_module_version": "1.5.0",
            "_model_name": "HTMLModel",
            "_view_count": null,
            "_view_module": "@jupyter-widgets/controls",
            "_view_module_version": "1.5.0",
            "_view_name": "HTMLView",
            "description": "",
            "description_tooltip": null,
            "layout": "IPY_MODEL_61bc29ab51d647eb8606602b102e64cd",
            "placeholder": "​",
            "style": "IPY_MODEL_fe7d66b18c0546689464a832260ea390",
            "value": "tokenizer.json: 100%"
          }
        },
        "9676318b1b8a4218955621629d2b9e1d": {
          "model_module": "@jupyter-widgets/controls",
          "model_name": "FloatProgressModel",
          "model_module_version": "1.5.0",
          "state": {
            "_dom_classes": [],
            "_model_module": "@jupyter-widgets/controls",
            "_model_module_version": "1.5.0",
            "_model_name": "FloatProgressModel",
            "_view_count": null,
            "_view_module": "@jupyter-widgets/controls",
            "_view_module_version": "1.5.0",
            "_view_name": "ProgressView",
            "bar_style": "success",
            "description": "",
            "description_tooltip": null,
            "layout": "IPY_MODEL_3dc6bd86202f4948acb2f4e1e98f46ae",
            "max": 17209920,
            "min": 0,
            "orientation": "horizontal",
            "style": "IPY_MODEL_75305105ae664aeab94945e2ea221302",
            "value": 17209920
          }
        },
        "cf2abdaf87cd40f8a00963636d02696d": {
          "model_module": "@jupyter-widgets/controls",
          "model_name": "HTMLModel",
          "model_module_version": "1.5.0",
          "state": {
            "_dom_classes": [],
            "_model_module": "@jupyter-widgets/controls",
            "_model_module_version": "1.5.0",
            "_model_name": "HTMLModel",
            "_view_count": null,
            "_view_module": "@jupyter-widgets/controls",
            "_view_module_version": "1.5.0",
            "_view_name": "HTMLView",
            "description": "",
            "description_tooltip": null,
            "layout": "IPY_MODEL_d947b1b870334f9487870d84b129a846",
            "placeholder": "​",
            "style": "IPY_MODEL_4c1fffdc538f4501b8252c02386c92c4",
            "value": " 17.2M/17.2M [00:01&lt;00:00, 13.2MB/s]"
          }
        },
        "6c4452e625c04c119a9204051a794e0a": {
          "model_module": "@jupyter-widgets/base",
          "model_name": "LayoutModel",
          "model_module_version": "1.2.0",
          "state": {
            "_model_module": "@jupyter-widgets/base",
            "_model_module_version": "1.2.0",
            "_model_name": "LayoutModel",
            "_view_count": null,
            "_view_module": "@jupyter-widgets/base",
            "_view_module_version": "1.2.0",
            "_view_name": "LayoutView",
            "align_content": null,
            "align_items": null,
            "align_self": null,
            "border": null,
            "bottom": null,
            "display": null,
            "flex": null,
            "flex_flow": null,
            "grid_area": null,
            "grid_auto_columns": null,
            "grid_auto_flow": null,
            "grid_auto_rows": null,
            "grid_column": null,
            "grid_gap": null,
            "grid_row": null,
            "grid_template_areas": null,
            "grid_template_columns": null,
            "grid_template_rows": null,
            "height": null,
            "justify_content": null,
            "justify_items": null,
            "left": null,
            "margin": null,
            "max_height": null,
            "max_width": null,
            "min_height": null,
            "min_width": null,
            "object_fit": null,
            "object_position": null,
            "order": null,
            "overflow": null,
            "overflow_x": null,
            "overflow_y": null,
            "padding": null,
            "right": null,
            "top": null,
            "visibility": null,
            "width": null
          }
        },
        "61bc29ab51d647eb8606602b102e64cd": {
          "model_module": "@jupyter-widgets/base",
          "model_name": "LayoutModel",
          "model_module_version": "1.2.0",
          "state": {
            "_model_module": "@jupyter-widgets/base",
            "_model_module_version": "1.2.0",
            "_model_name": "LayoutModel",
            "_view_count": null,
            "_view_module": "@jupyter-widgets/base",
            "_view_module_version": "1.2.0",
            "_view_name": "LayoutView",
            "align_content": null,
            "align_items": null,
            "align_self": null,
            "border": null,
            "bottom": null,
            "display": null,
            "flex": null,
            "flex_flow": null,
            "grid_area": null,
            "grid_auto_columns": null,
            "grid_auto_flow": null,
            "grid_auto_rows": null,
            "grid_column": null,
            "grid_gap": null,
            "grid_row": null,
            "grid_template_areas": null,
            "grid_template_columns": null,
            "grid_template_rows": null,
            "height": null,
            "justify_content": null,
            "justify_items": null,
            "left": null,
            "margin": null,
            "max_height": null,
            "max_width": null,
            "min_height": null,
            "min_width": null,
            "object_fit": null,
            "object_position": null,
            "order": null,
            "overflow": null,
            "overflow_x": null,
            "overflow_y": null,
            "padding": null,
            "right": null,
            "top": null,
            "visibility": null,
            "width": null
          }
        },
        "fe7d66b18c0546689464a832260ea390": {
          "model_module": "@jupyter-widgets/controls",
          "model_name": "DescriptionStyleModel",
          "model_module_version": "1.5.0",
          "state": {
            "_model_module": "@jupyter-widgets/controls",
            "_model_module_version": "1.5.0",
            "_model_name": "DescriptionStyleModel",
            "_view_count": null,
            "_view_module": "@jupyter-widgets/base",
            "_view_module_version": "1.2.0",
            "_view_name": "StyleView",
            "description_width": ""
          }
        },
        "3dc6bd86202f4948acb2f4e1e98f46ae": {
          "model_module": "@jupyter-widgets/base",
          "model_name": "LayoutModel",
          "model_module_version": "1.2.0",
          "state": {
            "_model_module": "@jupyter-widgets/base",
            "_model_module_version": "1.2.0",
            "_model_name": "LayoutModel",
            "_view_count": null,
            "_view_module": "@jupyter-widgets/base",
            "_view_module_version": "1.2.0",
            "_view_name": "LayoutView",
            "align_content": null,
            "align_items": null,
            "align_self": null,
            "border": null,
            "bottom": null,
            "display": null,
            "flex": null,
            "flex_flow": null,
            "grid_area": null,
            "grid_auto_columns": null,
            "grid_auto_flow": null,
            "grid_auto_rows": null,
            "grid_column": null,
            "grid_gap": null,
            "grid_row": null,
            "grid_template_areas": null,
            "grid_template_columns": null,
            "grid_template_rows": null,
            "height": null,
            "justify_content": null,
            "justify_items": null,
            "left": null,
            "margin": null,
            "max_height": null,
            "max_width": null,
            "min_height": null,
            "min_width": null,
            "object_fit": null,
            "object_position": null,
            "order": null,
            "overflow": null,
            "overflow_x": null,
            "overflow_y": null,
            "padding": null,
            "right": null,
            "top": null,
            "visibility": null,
            "width": null
          }
        },
        "75305105ae664aeab94945e2ea221302": {
          "model_module": "@jupyter-widgets/controls",
          "model_name": "ProgressStyleModel",
          "model_module_version": "1.5.0",
          "state": {
            "_model_module": "@jupyter-widgets/controls",
            "_model_module_version": "1.5.0",
            "_model_name": "ProgressStyleModel",
            "_view_count": null,
            "_view_module": "@jupyter-widgets/base",
            "_view_module_version": "1.2.0",
            "_view_name": "StyleView",
            "bar_color": null,
            "description_width": ""
          }
        },
        "d947b1b870334f9487870d84b129a846": {
          "model_module": "@jupyter-widgets/base",
          "model_name": "LayoutModel",
          "model_module_version": "1.2.0",
          "state": {
            "_model_module": "@jupyter-widgets/base",
            "_model_module_version": "1.2.0",
            "_model_name": "LayoutModel",
            "_view_count": null,
            "_view_module": "@jupyter-widgets/base",
            "_view_module_version": "1.2.0",
            "_view_name": "LayoutView",
            "align_content": null,
            "align_items": null,
            "align_self": null,
            "border": null,
            "bottom": null,
            "display": null,
            "flex": null,
            "flex_flow": null,
            "grid_area": null,
            "grid_auto_columns": null,
            "grid_auto_flow": null,
            "grid_auto_rows": null,
            "grid_column": null,
            "grid_gap": null,
            "grid_row": null,
            "grid_template_areas": null,
            "grid_template_columns": null,
            "grid_template_rows": null,
            "height": null,
            "justify_content": null,
            "justify_items": null,
            "left": null,
            "margin": null,
            "max_height": null,
            "max_width": null,
            "min_height": null,
            "min_width": null,
            "object_fit": null,
            "object_position": null,
            "order": null,
            "overflow": null,
            "overflow_x": null,
            "overflow_y": null,
            "padding": null,
            "right": null,
            "top": null,
            "visibility": null,
            "width": null
          }
        },
        "4c1fffdc538f4501b8252c02386c92c4": {
          "model_module": "@jupyter-widgets/controls",
          "model_name": "DescriptionStyleModel",
          "model_module_version": "1.5.0",
          "state": {
            "_model_module": "@jupyter-widgets/controls",
            "_model_module_version": "1.5.0",
            "_model_name": "DescriptionStyleModel",
            "_view_count": null,
            "_view_module": "@jupyter-widgets/base",
            "_view_module_version": "1.2.0",
            "_view_name": "StyleView",
            "description_width": ""
          }
        },
        "60f0015bcbcf4d1e897416ef45a0427e": {
          "model_module": "@jupyter-widgets/controls",
          "model_name": "HBoxModel",
          "model_module_version": "1.5.0",
          "state": {
            "_dom_classes": [],
            "_model_module": "@jupyter-widgets/controls",
            "_model_module_version": "1.5.0",
            "_model_name": "HBoxModel",
            "_view_count": null,
            "_view_module": "@jupyter-widgets/controls",
            "_view_module_version": "1.5.0",
            "_view_name": "HBoxView",
            "box_style": "",
            "children": [
              "IPY_MODEL_35b3f892055c45a69aab646e78d7b091",
              "IPY_MODEL_ea0a1dc3d0cf49e88421cfde63c2119b",
              "IPY_MODEL_515e639ec74e4743ade2a40690f7a995"
            ],
            "layout": "IPY_MODEL_e997a22784984eb3a9ad683e3c34aa7c"
          }
        },
        "35b3f892055c45a69aab646e78d7b091": {
          "model_module": "@jupyter-widgets/controls",
          "model_name": "HTMLModel",
          "model_module_version": "1.5.0",
          "state": {
            "_dom_classes": [],
            "_model_module": "@jupyter-widgets/controls",
            "_model_module_version": "1.5.0",
            "_model_name": "HTMLModel",
            "_view_count": null,
            "_view_module": "@jupyter-widgets/controls",
            "_view_module_version": "1.5.0",
            "_view_name": "HTMLView",
            "description": "",
            "description_tooltip": null,
            "layout": "IPY_MODEL_9a7371965d5b4a798f003de0ee2fdfaf",
            "placeholder": "​",
            "style": "IPY_MODEL_821d1a7122d346498d6694b9b1965dd1",
            "value": "chat_template.jinja: "
          }
        },
        "ea0a1dc3d0cf49e88421cfde63c2119b": {
          "model_module": "@jupyter-widgets/controls",
          "model_name": "FloatProgressModel",
          "model_module_version": "1.5.0",
          "state": {
            "_dom_classes": [],
            "_model_module": "@jupyter-widgets/controls",
            "_model_module_version": "1.5.0",
            "_model_name": "FloatProgressModel",
            "_view_count": null,
            "_view_module": "@jupyter-widgets/controls",
            "_view_module_version": "1.5.0",
            "_view_name": "ProgressView",
            "bar_style": "success",
            "description": "",
            "description_tooltip": null,
            "layout": "IPY_MODEL_c429d54096a64fa087bf455473f278ce",
            "max": 1,
            "min": 0,
            "orientation": "horizontal",
            "style": "IPY_MODEL_f53d2f7b56d04167a9e86af312cb880c",
            "value": 1
          }
        },
        "515e639ec74e4743ade2a40690f7a995": {
          "model_module": "@jupyter-widgets/controls",
          "model_name": "HTMLModel",
          "model_module_version": "1.5.0",
          "state": {
            "_dom_classes": [],
            "_model_module": "@jupyter-widgets/controls",
            "_model_module_version": "1.5.0",
            "_model_name": "HTMLModel",
            "_view_count": null,
            "_view_module": "@jupyter-widgets/controls",
            "_view_module_version": "1.5.0",
            "_view_name": "HTMLView",
            "description": "",
            "description_tooltip": null,
            "layout": "IPY_MODEL_f93f42bf37d64494820c96240bf54bee",
            "placeholder": "​",
            "style": "IPY_MODEL_e3d30a4a7d2149ec9ef9fee0fbcb438f",
            "value": " 3.83k/? [00:00&lt;00:00, 193kB/s]"
          }
        },
        "e997a22784984eb3a9ad683e3c34aa7c": {
          "model_module": "@jupyter-widgets/base",
          "model_name": "LayoutModel",
          "model_module_version": "1.2.0",
          "state": {
            "_model_module": "@jupyter-widgets/base",
            "_model_module_version": "1.2.0",
            "_model_name": "LayoutModel",
            "_view_count": null,
            "_view_module": "@jupyter-widgets/base",
            "_view_module_version": "1.2.0",
            "_view_name": "LayoutView",
            "align_content": null,
            "align_items": null,
            "align_self": null,
            "border": null,
            "bottom": null,
            "display": null,
            "flex": null,
            "flex_flow": null,
            "grid_area": null,
            "grid_auto_columns": null,
            "grid_auto_flow": null,
            "grid_auto_rows": null,
            "grid_column": null,
            "grid_gap": null,
            "grid_row": null,
            "grid_template_areas": null,
            "grid_template_columns": null,
            "grid_template_rows": null,
            "height": null,
            "justify_content": null,
            "justify_items": null,
            "left": null,
            "margin": null,
            "max_height": null,
            "max_width": null,
            "min_height": null,
            "min_width": null,
            "object_fit": null,
            "object_position": null,
            "order": null,
            "overflow": null,
            "overflow_x": null,
            "overflow_y": null,
            "padding": null,
            "right": null,
            "top": null,
            "visibility": null,
            "width": null
          }
        },
        "9a7371965d5b4a798f003de0ee2fdfaf": {
          "model_module": "@jupyter-widgets/base",
          "model_name": "LayoutModel",
          "model_module_version": "1.2.0",
          "state": {
            "_model_module": "@jupyter-widgets/base",
            "_model_module_version": "1.2.0",
            "_model_name": "LayoutModel",
            "_view_count": null,
            "_view_module": "@jupyter-widgets/base",
            "_view_module_version": "1.2.0",
            "_view_name": "LayoutView",
            "align_content": null,
            "align_items": null,
            "align_self": null,
            "border": null,
            "bottom": null,
            "display": null,
            "flex": null,
            "flex_flow": null,
            "grid_area": null,
            "grid_auto_columns": null,
            "grid_auto_flow": null,
            "grid_auto_rows": null,
            "grid_column": null,
            "grid_gap": null,
            "grid_row": null,
            "grid_template_areas": null,
            "grid_template_columns": null,
            "grid_template_rows": null,
            "height": null,
            "justify_content": null,
            "justify_items": null,
            "left": null,
            "margin": null,
            "max_height": null,
            "max_width": null,
            "min_height": null,
            "min_width": null,
            "object_fit": null,
            "object_position": null,
            "order": null,
            "overflow": null,
            "overflow_x": null,
            "overflow_y": null,
            "padding": null,
            "right": null,
            "top": null,
            "visibility": null,
            "width": null
          }
        },
        "821d1a7122d346498d6694b9b1965dd1": {
          "model_module": "@jupyter-widgets/controls",
          "model_name": "DescriptionStyleModel",
          "model_module_version": "1.5.0",
          "state": {
            "_model_module": "@jupyter-widgets/controls",
            "_model_module_version": "1.5.0",
            "_model_name": "DescriptionStyleModel",
            "_view_count": null,
            "_view_module": "@jupyter-widgets/base",
            "_view_module_version": "1.2.0",
            "_view_name": "StyleView",
            "description_width": ""
          }
        },
        "c429d54096a64fa087bf455473f278ce": {
          "model_module": "@jupyter-widgets/base",
          "model_name": "LayoutModel",
          "model_module_version": "1.2.0",
          "state": {
            "_model_module": "@jupyter-widgets/base",
            "_model_module_version": "1.2.0",
            "_model_name": "LayoutModel",
            "_view_count": null,
            "_view_module": "@jupyter-widgets/base",
            "_view_module_version": "1.2.0",
            "_view_name": "LayoutView",
            "align_content": null,
            "align_items": null,
            "align_self": null,
            "border": null,
            "bottom": null,
            "display": null,
            "flex": null,
            "flex_flow": null,
            "grid_area": null,
            "grid_auto_columns": null,
            "grid_auto_flow": null,
            "grid_auto_rows": null,
            "grid_column": null,
            "grid_gap": null,
            "grid_row": null,
            "grid_template_areas": null,
            "grid_template_columns": null,
            "grid_template_rows": null,
            "height": null,
            "justify_content": null,
            "justify_items": null,
            "left": null,
            "margin": null,
            "max_height": null,
            "max_width": null,
            "min_height": null,
            "min_width": null,
            "object_fit": null,
            "object_position": null,
            "order": null,
            "overflow": null,
            "overflow_x": null,
            "overflow_y": null,
            "padding": null,
            "right": null,
            "top": null,
            "visibility": null,
            "width": "20px"
          }
        },
        "f53d2f7b56d04167a9e86af312cb880c": {
          "model_module": "@jupyter-widgets/controls",
          "model_name": "ProgressStyleModel",
          "model_module_version": "1.5.0",
          "state": {
            "_model_module": "@jupyter-widgets/controls",
            "_model_module_version": "1.5.0",
            "_model_name": "ProgressStyleModel",
            "_view_count": null,
            "_view_module": "@jupyter-widgets/base",
            "_view_module_version": "1.2.0",
            "_view_name": "StyleView",
            "bar_color": null,
            "description_width": ""
          }
        },
        "f93f42bf37d64494820c96240bf54bee": {
          "model_module": "@jupyter-widgets/base",
          "model_name": "LayoutModel",
          "model_module_version": "1.2.0",
          "state": {
            "_model_module": "@jupyter-widgets/base",
            "_model_module_version": "1.2.0",
            "_model_name": "LayoutModel",
            "_view_count": null,
            "_view_module": "@jupyter-widgets/base",
            "_view_module_version": "1.2.0",
            "_view_name": "LayoutView",
            "align_content": null,
            "align_items": null,
            "align_self": null,
            "border": null,
            "bottom": null,
            "display": null,
            "flex": null,
            "flex_flow": null,
            "grid_area": null,
            "grid_auto_columns": null,
            "grid_auto_flow": null,
            "grid_auto_rows": null,
            "grid_column": null,
            "grid_gap": null,
            "grid_row": null,
            "grid_template_areas": null,
            "grid_template_columns": null,
            "grid_template_rows": null,
            "height": null,
            "justify_content": null,
            "justify_items": null,
            "left": null,
            "margin": null,
            "max_height": null,
            "max_width": null,
            "min_height": null,
            "min_width": null,
            "object_fit": null,
            "object_position": null,
            "order": null,
            "overflow": null,
            "overflow_x": null,
            "overflow_y": null,
            "padding": null,
            "right": null,
            "top": null,
            "visibility": null,
            "width": null
          }
        },
        "e3d30a4a7d2149ec9ef9fee0fbcb438f": {
          "model_module": "@jupyter-widgets/controls",
          "model_name": "DescriptionStyleModel",
          "model_module_version": "1.5.0",
          "state": {
            "_model_module": "@jupyter-widgets/controls",
            "_model_module_version": "1.5.0",
            "_model_name": "DescriptionStyleModel",
            "_view_count": null,
            "_view_module": "@jupyter-widgets/base",
            "_view_module_version": "1.2.0",
            "_view_name": "StyleView",
            "description_width": ""
          }
        },
        "e3ab03836c4b4905ba3ea3e519bdd185": {
          "model_module": "@jupyter-widgets/controls",
          "model_name": "HBoxModel",
          "model_module_version": "1.5.0",
          "state": {
            "_dom_classes": [],
            "_model_module": "@jupyter-widgets/controls",
            "_model_module_version": "1.5.0",
            "_model_name": "HBoxModel",
            "_view_count": null,
            "_view_module": "@jupyter-widgets/controls",
            "_view_module_version": "1.5.0",
            "_view_name": "HBoxView",
            "box_style": "",
            "children": [
              "IPY_MODEL_fe32079c8100423f8003b89af451dda0",
              "IPY_MODEL_e46a0787a6404b999a7194f3869263e1",
              "IPY_MODEL_0f02dd36ab7e492f9662ce0ce11aed56"
            ],
            "layout": "IPY_MODEL_e9dbfb6f545447d9a59b9e3018ae25ce"
          }
        },
        "fe32079c8100423f8003b89af451dda0": {
          "model_module": "@jupyter-widgets/controls",
          "model_name": "HTMLModel",
          "model_module_version": "1.5.0",
          "state": {
            "_dom_classes": [],
            "_model_module": "@jupyter-widgets/controls",
            "_model_module_version": "1.5.0",
            "_model_name": "HTMLModel",
            "_view_count": null,
            "_view_module": "@jupyter-widgets/controls",
            "_view_module_version": "1.5.0",
            "_view_name": "HTMLView",
            "description": "",
            "description_tooltip": null,
            "layout": "IPY_MODEL_ef66c9c165334883ad7b3393d93a7a4f",
            "placeholder": "​",
            "style": "IPY_MODEL_cbbd9d0a1e5a47c1a379d5be6634f401",
            "value": "Map: 100%"
          }
        },
        "e46a0787a6404b999a7194f3869263e1": {
          "model_module": "@jupyter-widgets/controls",
          "model_name": "FloatProgressModel",
          "model_module_version": "1.5.0",
          "state": {
            "_dom_classes": [],
            "_model_module": "@jupyter-widgets/controls",
            "_model_module_version": "1.5.0",
            "_model_name": "FloatProgressModel",
            "_view_count": null,
            "_view_module": "@jupyter-widgets/controls",
            "_view_module_version": "1.5.0",
            "_view_name": "ProgressView",
            "bar_style": "success",
            "description": "",
            "description_tooltip": null,
            "layout": "IPY_MODEL_0dff50353d074c5c886555313ad584b6",
            "max": 816,
            "min": 0,
            "orientation": "horizontal",
            "style": "IPY_MODEL_5130a997af7c45999f56f84f79836dc7",
            "value": 816
          }
        },
        "0f02dd36ab7e492f9662ce0ce11aed56": {
          "model_module": "@jupyter-widgets/controls",
          "model_name": "HTMLModel",
          "model_module_version": "1.5.0",
          "state": {
            "_dom_classes": [],
            "_model_module": "@jupyter-widgets/controls",
            "_model_module_version": "1.5.0",
            "_model_name": "HTMLModel",
            "_view_count": null,
            "_view_module": "@jupyter-widgets/controls",
            "_view_module_version": "1.5.0",
            "_view_name": "HTMLView",
            "description": "",
            "description_tooltip": null,
            "layout": "IPY_MODEL_4d8b38c199c94ee9bc61ba9537ad2ba2",
            "placeholder": "​",
            "style": "IPY_MODEL_5010a054d80a44b7a6857bcd70de860b",
            "value": " 816/816 [00:00&lt;00:00, 8178.14 examples/s]"
          }
        },
        "e9dbfb6f545447d9a59b9e3018ae25ce": {
          "model_module": "@jupyter-widgets/base",
          "model_name": "LayoutModel",
          "model_module_version": "1.2.0",
          "state": {
            "_model_module": "@jupyter-widgets/base",
            "_model_module_version": "1.2.0",
            "_model_name": "LayoutModel",
            "_view_count": null,
            "_view_module": "@jupyter-widgets/base",
            "_view_module_version": "1.2.0",
            "_view_name": "LayoutView",
            "align_content": null,
            "align_items": null,
            "align_self": null,
            "border": null,
            "bottom": null,
            "display": null,
            "flex": null,
            "flex_flow": null,
            "grid_area": null,
            "grid_auto_columns": null,
            "grid_auto_flow": null,
            "grid_auto_rows": null,
            "grid_column": null,
            "grid_gap": null,
            "grid_row": null,
            "grid_template_areas": null,
            "grid_template_columns": null,
            "grid_template_rows": null,
            "height": null,
            "justify_content": null,
            "justify_items": null,
            "left": null,
            "margin": null,
            "max_height": null,
            "max_width": null,
            "min_height": null,
            "min_width": null,
            "object_fit": null,
            "object_position": null,
            "order": null,
            "overflow": null,
            "overflow_x": null,
            "overflow_y": null,
            "padding": null,
            "right": null,
            "top": null,
            "visibility": null,
            "width": null
          }
        },
        "ef66c9c165334883ad7b3393d93a7a4f": {
          "model_module": "@jupyter-widgets/base",
          "model_name": "LayoutModel",
          "model_module_version": "1.2.0",
          "state": {
            "_model_module": "@jupyter-widgets/base",
            "_model_module_version": "1.2.0",
            "_model_name": "LayoutModel",
            "_view_count": null,
            "_view_module": "@jupyter-widgets/base",
            "_view_module_version": "1.2.0",
            "_view_name": "LayoutView",
            "align_content": null,
            "align_items": null,
            "align_self": null,
            "border": null,
            "bottom": null,
            "display": null,
            "flex": null,
            "flex_flow": null,
            "grid_area": null,
            "grid_auto_columns": null,
            "grid_auto_flow": null,
            "grid_auto_rows": null,
            "grid_column": null,
            "grid_gap": null,
            "grid_row": null,
            "grid_template_areas": null,
            "grid_template_columns": null,
            "grid_template_rows": null,
            "height": null,
            "justify_content": null,
            "justify_items": null,
            "left": null,
            "margin": null,
            "max_height": null,
            "max_width": null,
            "min_height": null,
            "min_width": null,
            "object_fit": null,
            "object_position": null,
            "order": null,
            "overflow": null,
            "overflow_x": null,
            "overflow_y": null,
            "padding": null,
            "right": null,
            "top": null,
            "visibility": null,
            "width": null
          }
        },
        "cbbd9d0a1e5a47c1a379d5be6634f401": {
          "model_module": "@jupyter-widgets/controls",
          "model_name": "DescriptionStyleModel",
          "model_module_version": "1.5.0",
          "state": {
            "_model_module": "@jupyter-widgets/controls",
            "_model_module_version": "1.5.0",
            "_model_name": "DescriptionStyleModel",
            "_view_count": null,
            "_view_module": "@jupyter-widgets/base",
            "_view_module_version": "1.2.0",
            "_view_name": "StyleView",
            "description_width": ""
          }
        },
        "0dff50353d074c5c886555313ad584b6": {
          "model_module": "@jupyter-widgets/base",
          "model_name": "LayoutModel",
          "model_module_version": "1.2.0",
          "state": {
            "_model_module": "@jupyter-widgets/base",
            "_model_module_version": "1.2.0",
            "_model_name": "LayoutModel",
            "_view_count": null,
            "_view_module": "@jupyter-widgets/base",
            "_view_module_version": "1.2.0",
            "_view_name": "LayoutView",
            "align_content": null,
            "align_items": null,
            "align_self": null,
            "border": null,
            "bottom": null,
            "display": null,
            "flex": null,
            "flex_flow": null,
            "grid_area": null,
            "grid_auto_columns": null,
            "grid_auto_flow": null,
            "grid_auto_rows": null,
            "grid_column": null,
            "grid_gap": null,
            "grid_row": null,
            "grid_template_areas": null,
            "grid_template_columns": null,
            "grid_template_rows": null,
            "height": null,
            "justify_content": null,
            "justify_items": null,
            "left": null,
            "margin": null,
            "max_height": null,
            "max_width": null,
            "min_height": null,
            "min_width": null,
            "object_fit": null,
            "object_position": null,
            "order": null,
            "overflow": null,
            "overflow_x": null,
            "overflow_y": null,
            "padding": null,
            "right": null,
            "top": null,
            "visibility": null,
            "width": null
          }
        },
        "5130a997af7c45999f56f84f79836dc7": {
          "model_module": "@jupyter-widgets/controls",
          "model_name": "ProgressStyleModel",
          "model_module_version": "1.5.0",
          "state": {
            "_model_module": "@jupyter-widgets/controls",
            "_model_module_version": "1.5.0",
            "_model_name": "ProgressStyleModel",
            "_view_count": null,
            "_view_module": "@jupyter-widgets/base",
            "_view_module_version": "1.2.0",
            "_view_name": "StyleView",
            "bar_color": null,
            "description_width": ""
          }
        },
        "4d8b38c199c94ee9bc61ba9537ad2ba2": {
          "model_module": "@jupyter-widgets/base",
          "model_name": "LayoutModel",
          "model_module_version": "1.2.0",
          "state": {
            "_model_module": "@jupyter-widgets/base",
            "_model_module_version": "1.2.0",
            "_model_name": "LayoutModel",
            "_view_count": null,
            "_view_module": "@jupyter-widgets/base",
            "_view_module_version": "1.2.0",
            "_view_name": "LayoutView",
            "align_content": null,
            "align_items": null,
            "align_self": null,
            "border": null,
            "bottom": null,
            "display": null,
            "flex": null,
            "flex_flow": null,
            "grid_area": null,
            "grid_auto_columns": null,
            "grid_auto_flow": null,
            "grid_auto_rows": null,
            "grid_column": null,
            "grid_gap": null,
            "grid_row": null,
            "grid_template_areas": null,
            "grid_template_columns": null,
            "grid_template_rows": null,
            "height": null,
            "justify_content": null,
            "justify_items": null,
            "left": null,
            "margin": null,
            "max_height": null,
            "max_width": null,
            "min_height": null,
            "min_width": null,
            "object_fit": null,
            "object_position": null,
            "order": null,
            "overflow": null,
            "overflow_x": null,
            "overflow_y": null,
            "padding": null,
            "right": null,
            "top": null,
            "visibility": null,
            "width": null
          }
        },
        "5010a054d80a44b7a6857bcd70de860b": {
          "model_module": "@jupyter-widgets/controls",
          "model_name": "DescriptionStyleModel",
          "model_module_version": "1.5.0",
          "state": {
            "_model_module": "@jupyter-widgets/controls",
            "_model_module_version": "1.5.0",
            "_model_name": "DescriptionStyleModel",
            "_view_count": null,
            "_view_module": "@jupyter-widgets/base",
            "_view_module_version": "1.2.0",
            "_view_name": "StyleView",
            "description_width": ""
          }
        }
      }
    }
  },
  "nbformat": 4,
  "nbformat_minor": 0
}